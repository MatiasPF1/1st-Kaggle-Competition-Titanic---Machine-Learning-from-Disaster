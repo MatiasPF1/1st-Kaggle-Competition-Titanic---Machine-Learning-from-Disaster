{
 "cells": [
  {
   "cell_type": "markdown",
   "id": "1e7ad858",
   "metadata": {
    "papermill": {
     "duration": 0.017493,
     "end_time": "2025-08-26T02:21:53.095410",
     "exception": false,
     "start_time": "2025-08-26T02:21:53.077917",
     "status": "completed"
    },
    "tags": []
   },
   "source": [
    "# Kaggle Titanic - Machine Learning from Disaster Project!"
   ]
  },
  {
   "cell_type": "markdown",
   "id": "273ddb26",
   "metadata": {
    "papermill": {
     "duration": 0.01523,
     "end_time": "2025-08-26T02:21:53.128654",
     "exception": false,
     "start_time": "2025-08-26T02:21:53.113424",
     "status": "completed"
    },
    "tags": []
   },
   "source": [
    "- This is gonna be my first Notebook with an End-To-End Kaggle Competition to learn  "
   ]
  },
  {
   "cell_type": "markdown",
   "id": "5b80f34e",
   "metadata": {
    "papermill": {
     "duration": 0.014684,
     "end_time": "2025-08-26T02:21:53.161015",
     "exception": false,
     "start_time": "2025-08-26T02:21:53.146331",
     "status": "completed"
    },
    "tags": []
   },
   "source": [
    "# 0-Importing Libraries"
   ]
  },
  {
   "cell_type": "code",
   "execution_count": 1,
   "id": "209790da",
   "metadata": {
    "execution": {
     "iopub.execute_input": "2025-08-26T02:21:53.193534Z",
     "iopub.status.busy": "2025-08-26T02:21:53.193145Z",
     "iopub.status.idle": "2025-08-26T02:22:00.624389Z",
     "shell.execute_reply": "2025-08-26T02:22:00.622429Z"
    },
    "papermill": {
     "duration": 7.451348,
     "end_time": "2025-08-26T02:22:00.627313",
     "exception": false,
     "start_time": "2025-08-26T02:21:53.175965",
     "status": "completed"
    },
    "tags": []
   },
   "outputs": [],
   "source": [
    "#Main Data Libraries(Pandas, Numpy, Seaborn, matplotib)\n",
    "import pandas as pd\n",
    "import numpy as np\n",
    "import seaborn as sns\n",
    "import matplotlib.pyplot as plt\n",
    "%matplotlib inline \n",
    "\n",
    "#Machine Learning Libraries(sklearn)\n",
    "\n",
    "#--Preprocessing(Normalization, Encoding_Categorical)\n",
    "from sklearn.preprocessing import OrdinalEncoder, OneHotEncoder\n",
    "#--Imputation(Handling NaN values)\n",
    "from sklearn.impute import SimpleImputer\n",
    "#--Compose(Preproccesing Pipelines to Numerical and Categorical Values)\n",
    "from sklearn.compose import make_column_transformer , ColumnTransformer\n",
    "#--Pipeline(Handle all the steps till the end)\n",
    "from sklearn.pipeline import Pipeline, make_pipeline\n",
    "#-Models\n",
    "from sklearn.ensemble import GradientBoostingClassifier\n",
    "#-Model_Selection(parametrization of a model)\n",
    "from sklearn.model_selection import cross_val_score, StratifiedKFold, train_test_split, GridSearchCV"
   ]
  },
  {
   "cell_type": "markdown",
   "id": "bf969d7f",
   "metadata": {
    "papermill": {
     "duration": 0.015508,
     "end_time": "2025-08-26T02:22:00.661921",
     "exception": false,
     "start_time": "2025-08-26T02:22:00.646413",
     "status": "completed"
    },
    "tags": []
   },
   "source": [
    "# 1-Importing Training and Basic info(head, info and Describe)"
   ]
  },
  {
   "cell_type": "code",
   "execution_count": 2,
   "id": "43a5cfb1",
   "metadata": {
    "execution": {
     "iopub.execute_input": "2025-08-26T02:22:00.695665Z",
     "iopub.status.busy": "2025-08-26T02:22:00.695121Z",
     "iopub.status.idle": "2025-08-26T02:22:00.746579Z",
     "shell.execute_reply": "2025-08-26T02:22:00.744498Z"
    },
    "papermill": {
     "duration": 0.072087,
     "end_time": "2025-08-26T02:22:00.749101",
     "exception": false,
     "start_time": "2025-08-26T02:22:00.677014",
     "status": "completed"
    },
    "tags": []
   },
   "outputs": [],
   "source": [
    "train_df = pd.read_csv('/kaggle/input/titanic/train.csv')\n",
    "test_df = pd.read_csv('/kaggle/input/titanic/test.csv')"
   ]
  },
  {
   "cell_type": "code",
   "execution_count": 3,
   "id": "1c150e5c",
   "metadata": {
    "execution": {
     "iopub.execute_input": "2025-08-26T02:22:00.782387Z",
     "iopub.status.busy": "2025-08-26T02:22:00.782016Z",
     "iopub.status.idle": "2025-08-26T02:22:00.825648Z",
     "shell.execute_reply": "2025-08-26T02:22:00.823673Z"
    },
    "papermill": {
     "duration": 0.063482,
     "end_time": "2025-08-26T02:22:00.828126",
     "exception": false,
     "start_time": "2025-08-26T02:22:00.764644",
     "status": "completed"
    },
    "tags": []
   },
   "outputs": [
    {
     "data": {
      "text/html": [
       "<div>\n",
       "<style scoped>\n",
       "    .dataframe tbody tr th:only-of-type {\n",
       "        vertical-align: middle;\n",
       "    }\n",
       "\n",
       "    .dataframe tbody tr th {\n",
       "        vertical-align: top;\n",
       "    }\n",
       "\n",
       "    .dataframe thead th {\n",
       "        text-align: right;\n",
       "    }\n",
       "</style>\n",
       "<table border=\"1\" class=\"dataframe\">\n",
       "  <thead>\n",
       "    <tr style=\"text-align: right;\">\n",
       "      <th></th>\n",
       "      <th>PassengerId</th>\n",
       "      <th>Survived</th>\n",
       "      <th>Pclass</th>\n",
       "      <th>Name</th>\n",
       "      <th>Sex</th>\n",
       "      <th>Age</th>\n",
       "      <th>SibSp</th>\n",
       "      <th>Parch</th>\n",
       "      <th>Ticket</th>\n",
       "      <th>Fare</th>\n",
       "      <th>Cabin</th>\n",
       "      <th>Embarked</th>\n",
       "    </tr>\n",
       "  </thead>\n",
       "  <tbody>\n",
       "    <tr>\n",
       "      <th>0</th>\n",
       "      <td>1</td>\n",
       "      <td>0</td>\n",
       "      <td>3</td>\n",
       "      <td>Braund, Mr. Owen Harris</td>\n",
       "      <td>male</td>\n",
       "      <td>22.0</td>\n",
       "      <td>1</td>\n",
       "      <td>0</td>\n",
       "      <td>A/5 21171</td>\n",
       "      <td>7.2500</td>\n",
       "      <td>NaN</td>\n",
       "      <td>S</td>\n",
       "    </tr>\n",
       "    <tr>\n",
       "      <th>1</th>\n",
       "      <td>2</td>\n",
       "      <td>1</td>\n",
       "      <td>1</td>\n",
       "      <td>Cumings, Mrs. John Bradley (Florence Briggs Th...</td>\n",
       "      <td>female</td>\n",
       "      <td>38.0</td>\n",
       "      <td>1</td>\n",
       "      <td>0</td>\n",
       "      <td>PC 17599</td>\n",
       "      <td>71.2833</td>\n",
       "      <td>C85</td>\n",
       "      <td>C</td>\n",
       "    </tr>\n",
       "    <tr>\n",
       "      <th>2</th>\n",
       "      <td>3</td>\n",
       "      <td>1</td>\n",
       "      <td>3</td>\n",
       "      <td>Heikkinen, Miss. Laina</td>\n",
       "      <td>female</td>\n",
       "      <td>26.0</td>\n",
       "      <td>0</td>\n",
       "      <td>0</td>\n",
       "      <td>STON/O2. 3101282</td>\n",
       "      <td>7.9250</td>\n",
       "      <td>NaN</td>\n",
       "      <td>S</td>\n",
       "    </tr>\n",
       "    <tr>\n",
       "      <th>3</th>\n",
       "      <td>4</td>\n",
       "      <td>1</td>\n",
       "      <td>1</td>\n",
       "      <td>Futrelle, Mrs. Jacques Heath (Lily May Peel)</td>\n",
       "      <td>female</td>\n",
       "      <td>35.0</td>\n",
       "      <td>1</td>\n",
       "      <td>0</td>\n",
       "      <td>113803</td>\n",
       "      <td>53.1000</td>\n",
       "      <td>C123</td>\n",
       "      <td>S</td>\n",
       "    </tr>\n",
       "    <tr>\n",
       "      <th>4</th>\n",
       "      <td>5</td>\n",
       "      <td>0</td>\n",
       "      <td>3</td>\n",
       "      <td>Allen, Mr. William Henry</td>\n",
       "      <td>male</td>\n",
       "      <td>35.0</td>\n",
       "      <td>0</td>\n",
       "      <td>0</td>\n",
       "      <td>373450</td>\n",
       "      <td>8.0500</td>\n",
       "      <td>NaN</td>\n",
       "      <td>S</td>\n",
       "    </tr>\n",
       "  </tbody>\n",
       "</table>\n",
       "</div>"
      ],
      "text/plain": [
       "   PassengerId  Survived  Pclass  \\\n",
       "0            1         0       3   \n",
       "1            2         1       1   \n",
       "2            3         1       3   \n",
       "3            4         1       1   \n",
       "4            5         0       3   \n",
       "\n",
       "                                                Name     Sex   Age  SibSp  \\\n",
       "0                            Braund, Mr. Owen Harris    male  22.0      1   \n",
       "1  Cumings, Mrs. John Bradley (Florence Briggs Th...  female  38.0      1   \n",
       "2                             Heikkinen, Miss. Laina  female  26.0      0   \n",
       "3       Futrelle, Mrs. Jacques Heath (Lily May Peel)  female  35.0      1   \n",
       "4                           Allen, Mr. William Henry    male  35.0      0   \n",
       "\n",
       "   Parch            Ticket     Fare Cabin Embarked  \n",
       "0      0         A/5 21171   7.2500   NaN        S  \n",
       "1      0          PC 17599  71.2833   C85        C  \n",
       "2      0  STON/O2. 3101282   7.9250   NaN        S  \n",
       "3      0            113803  53.1000  C123        S  \n",
       "4      0            373450   8.0500   NaN        S  "
      ]
     },
     "execution_count": 3,
     "metadata": {},
     "output_type": "execute_result"
    }
   ],
   "source": [
    "train_df.head()"
   ]
  },
  {
   "cell_type": "markdown",
   "id": "ca6f2c3a",
   "metadata": {
    "papermill": {
     "duration": 0.020945,
     "end_time": "2025-08-26T02:22:00.955993",
     "exception": false,
     "start_time": "2025-08-26T02:22:00.935048",
     "status": "completed"
    },
    "tags": []
   },
   "source": [
    "### Columns to work in:\n",
    "**X-Parameters**\n",
    "- 1-PassengerId\n",
    "- 2-Pclass\n",
    "- 3-Name\n",
    "- 4-Sex\n",
    "- 5-SibSp\n",
    "- 6-Parch\n",
    "- 7-Ticket\n",
    "- 8-Fare\n",
    "- 9-Cabin\n",
    "- 10-Embarked\n",
    "<br></br>\n",
    "**Y-Hat**\n",
    "- Survived?"
   ]
  },
  {
   "cell_type": "code",
   "execution_count": 4,
   "id": "b4e76a3b",
   "metadata": {
    "execution": {
     "iopub.execute_input": "2025-08-26T02:22:00.995160Z",
     "iopub.status.busy": "2025-08-26T02:22:00.994762Z",
     "iopub.status.idle": "2025-08-26T02:22:01.048279Z",
     "shell.execute_reply": "2025-08-26T02:22:01.045194Z"
    },
    "papermill": {
     "duration": 0.07852,
     "end_time": "2025-08-26T02:22:01.051931",
     "exception": false,
     "start_time": "2025-08-26T02:22:00.973411",
     "status": "completed"
    },
    "tags": []
   },
   "outputs": [
    {
     "name": "stdout",
     "output_type": "stream",
     "text": [
      "<class 'pandas.core.frame.DataFrame'>\n",
      "RangeIndex: 891 entries, 0 to 890\n",
      "Data columns (total 12 columns):\n",
      " #   Column       Non-Null Count  Dtype  \n",
      "---  ------       --------------  -----  \n",
      " 0   PassengerId  891 non-null    int64  \n",
      " 1   Survived     891 non-null    int64  \n",
      " 2   Pclass       891 non-null    int64  \n",
      " 3   Name         891 non-null    object \n",
      " 4   Sex          891 non-null    object \n",
      " 5   Age          714 non-null    float64\n",
      " 6   SibSp        891 non-null    int64  \n",
      " 7   Parch        891 non-null    int64  \n",
      " 8   Ticket       891 non-null    object \n",
      " 9   Fare         891 non-null    float64\n",
      " 10  Cabin        204 non-null    object \n",
      " 11  Embarked     889 non-null    object \n",
      "dtypes: float64(2), int64(5), object(5)\n",
      "memory usage: 83.7+ KB\n"
     ]
    }
   ],
   "source": [
    "train_df.info()"
   ]
  },
  {
   "cell_type": "markdown",
   "id": "c8934de6",
   "metadata": {
    "papermill": {
     "duration": 0.016504,
     "end_time": "2025-08-26T02:22:01.089064",
     "exception": false,
     "start_time": "2025-08-26T02:22:01.072560",
     "status": "completed"
    },
    "tags": []
   },
   "source": [
    "### Insights:\n",
    "- 891 samples to examine\n",
    "- Lot of Cabin Null Values"
   ]
  },
  {
   "cell_type": "code",
   "execution_count": 5,
   "id": "693a6f2f",
   "metadata": {
    "execution": {
     "iopub.execute_input": "2025-08-26T02:22:01.132871Z",
     "iopub.status.busy": "2025-08-26T02:22:01.132415Z",
     "iopub.status.idle": "2025-08-26T02:22:01.181941Z",
     "shell.execute_reply": "2025-08-26T02:22:01.179893Z"
    },
    "papermill": {
     "duration": 0.076814,
     "end_time": "2025-08-26T02:22:01.184971",
     "exception": false,
     "start_time": "2025-08-26T02:22:01.108157",
     "status": "completed"
    },
    "tags": []
   },
   "outputs": [
    {
     "data": {
      "text/html": [
       "<div>\n",
       "<style scoped>\n",
       "    .dataframe tbody tr th:only-of-type {\n",
       "        vertical-align: middle;\n",
       "    }\n",
       "\n",
       "    .dataframe tbody tr th {\n",
       "        vertical-align: top;\n",
       "    }\n",
       "\n",
       "    .dataframe thead th {\n",
       "        text-align: right;\n",
       "    }\n",
       "</style>\n",
       "<table border=\"1\" class=\"dataframe\">\n",
       "  <thead>\n",
       "    <tr style=\"text-align: right;\">\n",
       "      <th></th>\n",
       "      <th>PassengerId</th>\n",
       "      <th>Survived</th>\n",
       "      <th>Pclass</th>\n",
       "      <th>Age</th>\n",
       "      <th>SibSp</th>\n",
       "      <th>Parch</th>\n",
       "      <th>Fare</th>\n",
       "    </tr>\n",
       "  </thead>\n",
       "  <tbody>\n",
       "    <tr>\n",
       "      <th>count</th>\n",
       "      <td>891.000000</td>\n",
       "      <td>891.000000</td>\n",
       "      <td>891.000000</td>\n",
       "      <td>714.000000</td>\n",
       "      <td>891.000000</td>\n",
       "      <td>891.000000</td>\n",
       "      <td>891.000000</td>\n",
       "    </tr>\n",
       "    <tr>\n",
       "      <th>mean</th>\n",
       "      <td>446.000000</td>\n",
       "      <td>0.383838</td>\n",
       "      <td>2.308642</td>\n",
       "      <td>29.699118</td>\n",
       "      <td>0.523008</td>\n",
       "      <td>0.381594</td>\n",
       "      <td>32.204208</td>\n",
       "    </tr>\n",
       "    <tr>\n",
       "      <th>std</th>\n",
       "      <td>257.353842</td>\n",
       "      <td>0.486592</td>\n",
       "      <td>0.836071</td>\n",
       "      <td>14.526497</td>\n",
       "      <td>1.102743</td>\n",
       "      <td>0.806057</td>\n",
       "      <td>49.693429</td>\n",
       "    </tr>\n",
       "    <tr>\n",
       "      <th>min</th>\n",
       "      <td>1.000000</td>\n",
       "      <td>0.000000</td>\n",
       "      <td>1.000000</td>\n",
       "      <td>0.420000</td>\n",
       "      <td>0.000000</td>\n",
       "      <td>0.000000</td>\n",
       "      <td>0.000000</td>\n",
       "    </tr>\n",
       "    <tr>\n",
       "      <th>25%</th>\n",
       "      <td>223.500000</td>\n",
       "      <td>0.000000</td>\n",
       "      <td>2.000000</td>\n",
       "      <td>20.125000</td>\n",
       "      <td>0.000000</td>\n",
       "      <td>0.000000</td>\n",
       "      <td>7.910400</td>\n",
       "    </tr>\n",
       "    <tr>\n",
       "      <th>50%</th>\n",
       "      <td>446.000000</td>\n",
       "      <td>0.000000</td>\n",
       "      <td>3.000000</td>\n",
       "      <td>28.000000</td>\n",
       "      <td>0.000000</td>\n",
       "      <td>0.000000</td>\n",
       "      <td>14.454200</td>\n",
       "    </tr>\n",
       "    <tr>\n",
       "      <th>75%</th>\n",
       "      <td>668.500000</td>\n",
       "      <td>1.000000</td>\n",
       "      <td>3.000000</td>\n",
       "      <td>38.000000</td>\n",
       "      <td>1.000000</td>\n",
       "      <td>0.000000</td>\n",
       "      <td>31.000000</td>\n",
       "    </tr>\n",
       "    <tr>\n",
       "      <th>max</th>\n",
       "      <td>891.000000</td>\n",
       "      <td>1.000000</td>\n",
       "      <td>3.000000</td>\n",
       "      <td>80.000000</td>\n",
       "      <td>8.000000</td>\n",
       "      <td>6.000000</td>\n",
       "      <td>512.329200</td>\n",
       "    </tr>\n",
       "  </tbody>\n",
       "</table>\n",
       "</div>"
      ],
      "text/plain": [
       "       PassengerId    Survived      Pclass         Age       SibSp  \\\n",
       "count   891.000000  891.000000  891.000000  714.000000  891.000000   \n",
       "mean    446.000000    0.383838    2.308642   29.699118    0.523008   \n",
       "std     257.353842    0.486592    0.836071   14.526497    1.102743   \n",
       "min       1.000000    0.000000    1.000000    0.420000    0.000000   \n",
       "25%     223.500000    0.000000    2.000000   20.125000    0.000000   \n",
       "50%     446.000000    0.000000    3.000000   28.000000    0.000000   \n",
       "75%     668.500000    1.000000    3.000000   38.000000    1.000000   \n",
       "max     891.000000    1.000000    3.000000   80.000000    8.000000   \n",
       "\n",
       "            Parch        Fare  \n",
       "count  891.000000  891.000000  \n",
       "mean     0.381594   32.204208  \n",
       "std      0.806057   49.693429  \n",
       "min      0.000000    0.000000  \n",
       "25%      0.000000    7.910400  \n",
       "50%      0.000000   14.454200  \n",
       "75%      0.000000   31.000000  \n",
       "max      6.000000  512.329200  "
      ]
     },
     "execution_count": 5,
     "metadata": {},
     "output_type": "execute_result"
    }
   ],
   "source": [
    "train_df.describe()"
   ]
  },
  {
   "cell_type": "markdown",
   "id": "bab13b78",
   "metadata": {
    "papermill": {
     "duration": 0.023301,
     "end_time": "2025-08-26T02:22:01.227445",
     "exception": false,
     "start_time": "2025-08-26T02:22:01.204144",
     "status": "completed"
    },
    "tags": []
   },
   "source": [
    "# 2 - Exploring Data-Survival Relationships and Creating Feature Columns for the Model"
   ]
  },
  {
   "cell_type": "markdown",
   "id": "64c974d6",
   "metadata": {
    "papermill": {
     "duration": 0.022697,
     "end_time": "2025-08-26T02:22:01.280949",
     "exception": false,
     "start_time": "2025-08-26T02:22:01.258252",
     "status": "completed"
    },
    "tags": []
   },
   "source": [
    "## Exploring 1-Sex, 2-Class, 3- #Siblings/spouses, 4- # parents/children,5- Embarked"
   ]
  },
  {
   "cell_type": "code",
   "execution_count": 6,
   "id": "1bb0d1e1",
   "metadata": {
    "execution": {
     "iopub.execute_input": "2025-08-26T02:22:01.334951Z",
     "iopub.status.busy": "2025-08-26T02:22:01.334566Z",
     "iopub.status.idle": "2025-08-26T02:22:01.364543Z",
     "shell.execute_reply": "2025-08-26T02:22:01.362072Z"
    },
    "papermill": {
     "duration": 0.063704,
     "end_time": "2025-08-26T02:22:01.367665",
     "exception": false,
     "start_time": "2025-08-26T02:22:01.303961",
     "status": "completed"
    },
    "tags": []
   },
   "outputs": [
    {
     "data": {
      "text/html": [
       "<div>\n",
       "<style scoped>\n",
       "    .dataframe tbody tr th:only-of-type {\n",
       "        vertical-align: middle;\n",
       "    }\n",
       "\n",
       "    .dataframe tbody tr th {\n",
       "        vertical-align: top;\n",
       "    }\n",
       "\n",
       "    .dataframe thead th {\n",
       "        text-align: right;\n",
       "    }\n",
       "</style>\n",
       "<table border=\"1\" class=\"dataframe\">\n",
       "  <thead>\n",
       "    <tr style=\"text-align: right;\">\n",
       "      <th></th>\n",
       "      <th>Sex</th>\n",
       "      <th>Survived</th>\n",
       "    </tr>\n",
       "  </thead>\n",
       "  <tbody>\n",
       "    <tr>\n",
       "      <th>0</th>\n",
       "      <td>female</td>\n",
       "      <td>0.742038</td>\n",
       "    </tr>\n",
       "    <tr>\n",
       "      <th>1</th>\n",
       "      <td>male</td>\n",
       "      <td>0.188908</td>\n",
       "    </tr>\n",
       "  </tbody>\n",
       "</table>\n",
       "</div>"
      ],
      "text/plain": [
       "      Sex  Survived\n",
       "0  female  0.742038\n",
       "1    male  0.188908"
      ]
     },
     "execution_count": 6,
     "metadata": {},
     "output_type": "execute_result"
    }
   ],
   "source": [
    "#Survival Percentage by Sex(Male of Female)\n",
    "train_df.groupby(['Sex'], as_index=False)['Survived'].mean()"
   ]
  },
  {
   "cell_type": "markdown",
   "id": "ef3edc94",
   "metadata": {
    "papermill": {
     "duration": 0.021053,
     "end_time": "2025-08-26T02:22:01.412208",
     "exception": false,
     "start_time": "2025-08-26T02:22:01.391155",
     "status": "completed"
    },
    "tags": []
   },
   "source": [
    "Female: 74%, Male: 19%"
   ]
  },
  {
   "cell_type": "code",
   "execution_count": 7,
   "id": "f84e5ed9",
   "metadata": {
    "execution": {
     "iopub.execute_input": "2025-08-26T02:22:01.471376Z",
     "iopub.status.busy": "2025-08-26T02:22:01.470144Z",
     "iopub.status.idle": "2025-08-26T02:22:01.486759Z",
     "shell.execute_reply": "2025-08-26T02:22:01.483982Z"
    },
    "papermill": {
     "duration": 0.04785,
     "end_time": "2025-08-26T02:22:01.489305",
     "exception": false,
     "start_time": "2025-08-26T02:22:01.441455",
     "status": "completed"
    },
    "tags": []
   },
   "outputs": [
    {
     "data": {
      "text/html": [
       "<div>\n",
       "<style scoped>\n",
       "    .dataframe tbody tr th:only-of-type {\n",
       "        vertical-align: middle;\n",
       "    }\n",
       "\n",
       "    .dataframe tbody tr th {\n",
       "        vertical-align: top;\n",
       "    }\n",
       "\n",
       "    .dataframe thead th {\n",
       "        text-align: right;\n",
       "    }\n",
       "</style>\n",
       "<table border=\"1\" class=\"dataframe\">\n",
       "  <thead>\n",
       "    <tr style=\"text-align: right;\">\n",
       "      <th></th>\n",
       "      <th>Pclass</th>\n",
       "      <th>Survived</th>\n",
       "    </tr>\n",
       "  </thead>\n",
       "  <tbody>\n",
       "    <tr>\n",
       "      <th>0</th>\n",
       "      <td>1</td>\n",
       "      <td>0.629630</td>\n",
       "    </tr>\n",
       "    <tr>\n",
       "      <th>1</th>\n",
       "      <td>2</td>\n",
       "      <td>0.472826</td>\n",
       "    </tr>\n",
       "    <tr>\n",
       "      <th>2</th>\n",
       "      <td>3</td>\n",
       "      <td>0.242363</td>\n",
       "    </tr>\n",
       "  </tbody>\n",
       "</table>\n",
       "</div>"
      ],
      "text/plain": [
       "   Pclass  Survived\n",
       "0       1  0.629630\n",
       "1       2  0.472826\n",
       "2       3  0.242363"
      ]
     },
     "execution_count": 7,
     "metadata": {},
     "output_type": "execute_result"
    }
   ],
   "source": [
    "# Survival Percentage by Class(1st,2nd,3rd class)\n",
    "train_df.groupby(['Pclass'], as_index=False)['Survived'].mean()"
   ]
  },
  {
   "cell_type": "markdown",
   "id": "ede86da3",
   "metadata": {
    "papermill": {
     "duration": 0.020316,
     "end_time": "2025-08-26T02:22:01.529768",
     "exception": false,
     "start_time": "2025-08-26T02:22:01.509452",
     "status": "completed"
    },
    "tags": []
   },
   "source": [
    "First class: 63%, Second Class: 47%, Third class: 24%"
   ]
  },
  {
   "cell_type": "code",
   "execution_count": 8,
   "id": "232a3631",
   "metadata": {
    "execution": {
     "iopub.execute_input": "2025-08-26T02:22:01.586803Z",
     "iopub.status.busy": "2025-08-26T02:22:01.586351Z",
     "iopub.status.idle": "2025-08-26T02:22:01.603680Z",
     "shell.execute_reply": "2025-08-26T02:22:01.602525Z"
    },
    "papermill": {
     "duration": 0.049509,
     "end_time": "2025-08-26T02:22:01.606305",
     "exception": false,
     "start_time": "2025-08-26T02:22:01.556796",
     "status": "completed"
    },
    "tags": []
   },
   "outputs": [
    {
     "data": {
      "text/html": [
       "<div>\n",
       "<style scoped>\n",
       "    .dataframe tbody tr th:only-of-type {\n",
       "        vertical-align: middle;\n",
       "    }\n",
       "\n",
       "    .dataframe tbody tr th {\n",
       "        vertical-align: top;\n",
       "    }\n",
       "\n",
       "    .dataframe thead th {\n",
       "        text-align: right;\n",
       "    }\n",
       "</style>\n",
       "<table border=\"1\" class=\"dataframe\">\n",
       "  <thead>\n",
       "    <tr style=\"text-align: right;\">\n",
       "      <th></th>\n",
       "      <th>SibSp</th>\n",
       "      <th>Survived</th>\n",
       "    </tr>\n",
       "  </thead>\n",
       "  <tbody>\n",
       "    <tr>\n",
       "      <th>0</th>\n",
       "      <td>0</td>\n",
       "      <td>0.345395</td>\n",
       "    </tr>\n",
       "    <tr>\n",
       "      <th>1</th>\n",
       "      <td>1</td>\n",
       "      <td>0.535885</td>\n",
       "    </tr>\n",
       "    <tr>\n",
       "      <th>2</th>\n",
       "      <td>2</td>\n",
       "      <td>0.464286</td>\n",
       "    </tr>\n",
       "    <tr>\n",
       "      <th>3</th>\n",
       "      <td>3</td>\n",
       "      <td>0.250000</td>\n",
       "    </tr>\n",
       "    <tr>\n",
       "      <th>4</th>\n",
       "      <td>4</td>\n",
       "      <td>0.166667</td>\n",
       "    </tr>\n",
       "    <tr>\n",
       "      <th>5</th>\n",
       "      <td>5</td>\n",
       "      <td>0.000000</td>\n",
       "    </tr>\n",
       "    <tr>\n",
       "      <th>6</th>\n",
       "      <td>8</td>\n",
       "      <td>0.000000</td>\n",
       "    </tr>\n",
       "  </tbody>\n",
       "</table>\n",
       "</div>"
      ],
      "text/plain": [
       "   SibSp  Survived\n",
       "0      0  0.345395\n",
       "1      1  0.535885\n",
       "2      2  0.464286\n",
       "3      3  0.250000\n",
       "4      4  0.166667\n",
       "5      5  0.000000\n",
       "6      8  0.000000"
      ]
     },
     "execution_count": 8,
     "metadata": {},
     "output_type": "execute_result"
    }
   ],
   "source": [
    "#survival Percentage of # of siblings/spouses aboard the Titanic\n",
    "train_df.groupby(['SibSp'], as_index=False)['Survived'].mean()"
   ]
  },
  {
   "cell_type": "markdown",
   "id": "c16910d5",
   "metadata": {
    "papermill": {
     "duration": 0.022928,
     "end_time": "2025-08-26T02:22:01.649794",
     "exception": false,
     "start_time": "2025-08-26T02:22:01.626866",
     "status": "completed"
    },
    "tags": []
   },
   "source": [
    "1 and 2 more prospense to survive(53% and 46%) than 3 and 4(25% and 16%)"
   ]
  },
  {
   "cell_type": "code",
   "execution_count": 9,
   "id": "438aeb5c",
   "metadata": {
    "execution": {
     "iopub.execute_input": "2025-08-26T02:22:01.693851Z",
     "iopub.status.busy": "2025-08-26T02:22:01.693274Z",
     "iopub.status.idle": "2025-08-26T02:22:01.714706Z",
     "shell.execute_reply": "2025-08-26T02:22:01.711881Z"
    },
    "papermill": {
     "duration": 0.047193,
     "end_time": "2025-08-26T02:22:01.717950",
     "exception": false,
     "start_time": "2025-08-26T02:22:01.670757",
     "status": "completed"
    },
    "tags": []
   },
   "outputs": [
    {
     "data": {
      "text/html": [
       "<div>\n",
       "<style scoped>\n",
       "    .dataframe tbody tr th:only-of-type {\n",
       "        vertical-align: middle;\n",
       "    }\n",
       "\n",
       "    .dataframe tbody tr th {\n",
       "        vertical-align: top;\n",
       "    }\n",
       "\n",
       "    .dataframe thead th {\n",
       "        text-align: right;\n",
       "    }\n",
       "</style>\n",
       "<table border=\"1\" class=\"dataframe\">\n",
       "  <thead>\n",
       "    <tr style=\"text-align: right;\">\n",
       "      <th></th>\n",
       "      <th>Parch</th>\n",
       "      <th>Survived</th>\n",
       "    </tr>\n",
       "  </thead>\n",
       "  <tbody>\n",
       "    <tr>\n",
       "      <th>0</th>\n",
       "      <td>0</td>\n",
       "      <td>0.343658</td>\n",
       "    </tr>\n",
       "    <tr>\n",
       "      <th>1</th>\n",
       "      <td>1</td>\n",
       "      <td>0.550847</td>\n",
       "    </tr>\n",
       "    <tr>\n",
       "      <th>2</th>\n",
       "      <td>2</td>\n",
       "      <td>0.500000</td>\n",
       "    </tr>\n",
       "    <tr>\n",
       "      <th>3</th>\n",
       "      <td>3</td>\n",
       "      <td>0.600000</td>\n",
       "    </tr>\n",
       "    <tr>\n",
       "      <th>4</th>\n",
       "      <td>4</td>\n",
       "      <td>0.000000</td>\n",
       "    </tr>\n",
       "    <tr>\n",
       "      <th>5</th>\n",
       "      <td>5</td>\n",
       "      <td>0.200000</td>\n",
       "    </tr>\n",
       "    <tr>\n",
       "      <th>6</th>\n",
       "      <td>6</td>\n",
       "      <td>0.000000</td>\n",
       "    </tr>\n",
       "  </tbody>\n",
       "</table>\n",
       "</div>"
      ],
      "text/plain": [
       "   Parch  Survived\n",
       "0      0  0.343658\n",
       "1      1  0.550847\n",
       "2      2  0.500000\n",
       "3      3  0.600000\n",
       "4      4  0.000000\n",
       "5      5  0.200000\n",
       "6      6  0.000000"
      ]
     },
     "execution_count": 9,
     "metadata": {},
     "output_type": "execute_result"
    }
   ],
   "source": [
    "#Survival rate of parents/children aboard the Titanic\n",
    "train_df.groupby(['Parch'], as_index=False)['Survived'].mean()"
   ]
  },
  {
   "cell_type": "markdown",
   "id": "741ae0e8",
   "metadata": {
    "papermill": {
     "duration": 0.021253,
     "end_time": "2025-08-26T02:22:01.757772",
     "exception": false,
     "start_time": "2025-08-26T02:22:01.736519",
     "status": "completed"
    },
    "tags": []
   },
   "source": [
    "Parch of 3: 60% survived, Parch of 2: 50% survived, Parch of 1: 55% survived, Parch of 0: 34% survived, Parck of 4 and 6: 0% survived"
   ]
  },
  {
   "cell_type": "code",
   "execution_count": 10,
   "id": "65bed886",
   "metadata": {
    "execution": {
     "iopub.execute_input": "2025-08-26T02:22:01.799815Z",
     "iopub.status.busy": "2025-08-26T02:22:01.799365Z",
     "iopub.status.idle": "2025-08-26T02:22:01.814104Z",
     "shell.execute_reply": "2025-08-26T02:22:01.812798Z"
    },
    "papermill": {
     "duration": 0.038408,
     "end_time": "2025-08-26T02:22:01.816527",
     "exception": false,
     "start_time": "2025-08-26T02:22:01.778119",
     "status": "completed"
    },
    "tags": []
   },
   "outputs": [
    {
     "data": {
      "text/html": [
       "<div>\n",
       "<style scoped>\n",
       "    .dataframe tbody tr th:only-of-type {\n",
       "        vertical-align: middle;\n",
       "    }\n",
       "\n",
       "    .dataframe tbody tr th {\n",
       "        vertical-align: top;\n",
       "    }\n",
       "\n",
       "    .dataframe thead th {\n",
       "        text-align: right;\n",
       "    }\n",
       "</style>\n",
       "<table border=\"1\" class=\"dataframe\">\n",
       "  <thead>\n",
       "    <tr style=\"text-align: right;\">\n",
       "      <th></th>\n",
       "      <th>Embarked</th>\n",
       "      <th>Survived</th>\n",
       "    </tr>\n",
       "  </thead>\n",
       "  <tbody>\n",
       "    <tr>\n",
       "      <th>0</th>\n",
       "      <td>C</td>\n",
       "      <td>0.553571</td>\n",
       "    </tr>\n",
       "    <tr>\n",
       "      <th>1</th>\n",
       "      <td>Q</td>\n",
       "      <td>0.389610</td>\n",
       "    </tr>\n",
       "    <tr>\n",
       "      <th>2</th>\n",
       "      <td>S</td>\n",
       "      <td>0.336957</td>\n",
       "    </tr>\n",
       "  </tbody>\n",
       "</table>\n",
       "</div>"
      ],
      "text/plain": [
       "  Embarked  Survived\n",
       "0        C  0.553571\n",
       "1        Q  0.389610\n",
       "2        S  0.336957"
      ]
     },
     "execution_count": 10,
     "metadata": {},
     "output_type": "execute_result"
    }
   ],
   "source": [
    "#Survival rate by which port of embarkation came from\n",
    "train_df.groupby(['Embarked'], as_index=False)['Survived'].mean()"
   ]
  },
  {
   "cell_type": "markdown",
   "id": "1f039547",
   "metadata": {
    "papermill": {
     "duration": 0.019809,
     "end_time": "2025-08-26T02:22:01.854716",
     "exception": false,
     "start_time": "2025-08-26T02:22:01.834907",
     "status": "completed"
    },
    "tags": []
   },
   "source": [
    "\tC = Cherbourg: 55%, Q = Queenstown: 38%, S = Southampton:33%"
   ]
  },
  {
   "cell_type": "markdown",
   "id": "fc3d0994",
   "metadata": {
    "papermill": {
     "duration": 0.018603,
     "end_time": "2025-08-26T02:22:01.891211",
     "exception": false,
     "start_time": "2025-08-26T02:22:01.872608",
     "status": "completed"
    },
    "tags": []
   },
   "source": [
    "## Creating a New column: (Family_size:int) and (Family_size_Grouped:object)"
   ]
  },
  {
   "cell_type": "markdown",
   "id": "9c4ece9e",
   "metadata": {
    "papermill": {
     "duration": 0.019745,
     "end_time": "2025-08-26T02:22:01.927912",
     "exception": false,
     "start_time": "2025-08-26T02:22:01.908167",
     "status": "completed"
    },
    "tags": []
   },
   "source": [
    "<p style=\"font-size:22px;\">Based on previous Discoveries:</p>\n",
    "<p style=\"font-size:18px;\">-People can come with siblings/spouses(SibSp)  and/or parents/children(Parch)</p>\n",
    "  <p style=\"font-size:18px;\">-Remembering historical Events, boats were limited, a lot of families struggled to enter since they were not leaving their family behind </p>"
   ]
  },
  {
   "cell_type": "markdown",
   "id": "c5180b8a",
   "metadata": {
    "papermill": {
     "duration": 0.018482,
     "end_time": "2025-08-26T02:22:01.966633",
     "exception": false,
     "start_time": "2025-08-26T02:22:01.948151",
     "status": "completed"
    },
    "tags": []
   },
   "source": [
    "<p style=\"font-size:18px;\">From here, we will Feature Engineer into a new useful Feature(Family_size) and then categorize in a friendly classifier range(Family_size_Grouped)</p>"
   ]
  },
  {
   "cell_type": "markdown",
   "id": "91d5b82c",
   "metadata": {
    "papermill": {
     "duration": 0.021986,
     "end_time": "2025-08-26T02:22:02.009607",
     "exception": false,
     "start_time": "2025-08-26T02:22:01.987621",
     "status": "completed"
    },
    "tags": []
   },
   "source": [
    "### Family_size:int"
   ]
  },
  {
   "cell_type": "code",
   "execution_count": 11,
   "id": "6d53366d",
   "metadata": {
    "execution": {
     "iopub.execute_input": "2025-08-26T02:22:02.051471Z",
     "iopub.status.busy": "2025-08-26T02:22:02.050116Z",
     "iopub.status.idle": "2025-08-26T02:22:02.086723Z",
     "shell.execute_reply": "2025-08-26T02:22:02.084914Z"
    },
    "papermill": {
     "duration": 0.061543,
     "end_time": "2025-08-26T02:22:02.088696",
     "exception": false,
     "start_time": "2025-08-26T02:22:02.027153",
     "status": "completed"
    },
    "tags": []
   },
   "outputs": [],
   "source": [
    "#since it looks like the number matters, it would be interesting to build a new column for family size \n",
    "train_df['Family_Size']=train_df['SibSp'] + train_df['Parch'] + 1 #+1 to incluse the person\n",
    "test_df['Family_Size']=test_df['SibSp'] + train_df['Parch'] + 1"
   ]
  },
  {
   "cell_type": "code",
   "execution_count": 12,
   "id": "56befc07",
   "metadata": {
    "execution": {
     "iopub.execute_input": "2025-08-26T02:22:02.127368Z",
     "iopub.status.busy": "2025-08-26T02:22:02.127022Z",
     "iopub.status.idle": "2025-08-26T02:22:02.144986Z",
     "shell.execute_reply": "2025-08-26T02:22:02.143077Z"
    },
    "papermill": {
     "duration": 0.039684,
     "end_time": "2025-08-26T02:22:02.147597",
     "exception": false,
     "start_time": "2025-08-26T02:22:02.107913",
     "status": "completed"
    },
    "tags": []
   },
   "outputs": [
    {
     "data": {
      "text/html": [
       "<div>\n",
       "<style scoped>\n",
       "    .dataframe tbody tr th:only-of-type {\n",
       "        vertical-align: middle;\n",
       "    }\n",
       "\n",
       "    .dataframe tbody tr th {\n",
       "        vertical-align: top;\n",
       "    }\n",
       "\n",
       "    .dataframe thead th {\n",
       "        text-align: right;\n",
       "    }\n",
       "</style>\n",
       "<table border=\"1\" class=\"dataframe\">\n",
       "  <thead>\n",
       "    <tr style=\"text-align: right;\">\n",
       "      <th></th>\n",
       "      <th>PassengerId</th>\n",
       "      <th>Survived</th>\n",
       "      <th>Pclass</th>\n",
       "      <th>Name</th>\n",
       "      <th>Sex</th>\n",
       "      <th>Age</th>\n",
       "      <th>SibSp</th>\n",
       "      <th>Parch</th>\n",
       "      <th>Ticket</th>\n",
       "      <th>Fare</th>\n",
       "      <th>Cabin</th>\n",
       "      <th>Embarked</th>\n",
       "      <th>Family_Size</th>\n",
       "    </tr>\n",
       "  </thead>\n",
       "  <tbody>\n",
       "    <tr>\n",
       "      <th>0</th>\n",
       "      <td>1</td>\n",
       "      <td>0</td>\n",
       "      <td>3</td>\n",
       "      <td>Braund, Mr. Owen Harris</td>\n",
       "      <td>male</td>\n",
       "      <td>22.0</td>\n",
       "      <td>1</td>\n",
       "      <td>0</td>\n",
       "      <td>A/5 21171</td>\n",
       "      <td>7.2500</td>\n",
       "      <td>NaN</td>\n",
       "      <td>S</td>\n",
       "      <td>2</td>\n",
       "    </tr>\n",
       "    <tr>\n",
       "      <th>1</th>\n",
       "      <td>2</td>\n",
       "      <td>1</td>\n",
       "      <td>1</td>\n",
       "      <td>Cumings, Mrs. John Bradley (Florence Briggs Th...</td>\n",
       "      <td>female</td>\n",
       "      <td>38.0</td>\n",
       "      <td>1</td>\n",
       "      <td>0</td>\n",
       "      <td>PC 17599</td>\n",
       "      <td>71.2833</td>\n",
       "      <td>C85</td>\n",
       "      <td>C</td>\n",
       "      <td>2</td>\n",
       "    </tr>\n",
       "    <tr>\n",
       "      <th>2</th>\n",
       "      <td>3</td>\n",
       "      <td>1</td>\n",
       "      <td>3</td>\n",
       "      <td>Heikkinen, Miss. Laina</td>\n",
       "      <td>female</td>\n",
       "      <td>26.0</td>\n",
       "      <td>0</td>\n",
       "      <td>0</td>\n",
       "      <td>STON/O2. 3101282</td>\n",
       "      <td>7.9250</td>\n",
       "      <td>NaN</td>\n",
       "      <td>S</td>\n",
       "      <td>1</td>\n",
       "    </tr>\n",
       "    <tr>\n",
       "      <th>3</th>\n",
       "      <td>4</td>\n",
       "      <td>1</td>\n",
       "      <td>1</td>\n",
       "      <td>Futrelle, Mrs. Jacques Heath (Lily May Peel)</td>\n",
       "      <td>female</td>\n",
       "      <td>35.0</td>\n",
       "      <td>1</td>\n",
       "      <td>0</td>\n",
       "      <td>113803</td>\n",
       "      <td>53.1000</td>\n",
       "      <td>C123</td>\n",
       "      <td>S</td>\n",
       "      <td>2</td>\n",
       "    </tr>\n",
       "    <tr>\n",
       "      <th>4</th>\n",
       "      <td>5</td>\n",
       "      <td>0</td>\n",
       "      <td>3</td>\n",
       "      <td>Allen, Mr. William Henry</td>\n",
       "      <td>male</td>\n",
       "      <td>35.0</td>\n",
       "      <td>0</td>\n",
       "      <td>0</td>\n",
       "      <td>373450</td>\n",
       "      <td>8.0500</td>\n",
       "      <td>NaN</td>\n",
       "      <td>S</td>\n",
       "      <td>1</td>\n",
       "    </tr>\n",
       "  </tbody>\n",
       "</table>\n",
       "</div>"
      ],
      "text/plain": [
       "   PassengerId  Survived  Pclass  \\\n",
       "0            1         0       3   \n",
       "1            2         1       1   \n",
       "2            3         1       3   \n",
       "3            4         1       1   \n",
       "4            5         0       3   \n",
       "\n",
       "                                                Name     Sex   Age  SibSp  \\\n",
       "0                            Braund, Mr. Owen Harris    male  22.0      1   \n",
       "1  Cumings, Mrs. John Bradley (Florence Briggs Th...  female  38.0      1   \n",
       "2                             Heikkinen, Miss. Laina  female  26.0      0   \n",
       "3       Futrelle, Mrs. Jacques Heath (Lily May Peel)  female  35.0      1   \n",
       "4                           Allen, Mr. William Henry    male  35.0      0   \n",
       "\n",
       "   Parch            Ticket     Fare Cabin Embarked  Family_Size  \n",
       "0      0         A/5 21171   7.2500   NaN        S            2  \n",
       "1      0          PC 17599  71.2833   C85        C            2  \n",
       "2      0  STON/O2. 3101282   7.9250   NaN        S            1  \n",
       "3      0            113803  53.1000  C123        S            2  \n",
       "4      0            373450   8.0500   NaN        S            1  "
      ]
     },
     "execution_count": 12,
     "metadata": {},
     "output_type": "execute_result"
    }
   ],
   "source": [
    "train_df.head()"
   ]
  },
  {
   "cell_type": "code",
   "execution_count": 13,
   "id": "61c3125b",
   "metadata": {
    "execution": {
     "iopub.execute_input": "2025-08-26T02:22:02.193155Z",
     "iopub.status.busy": "2025-08-26T02:22:02.192778Z",
     "iopub.status.idle": "2025-08-26T02:22:02.208253Z",
     "shell.execute_reply": "2025-08-26T02:22:02.206986Z"
    },
    "papermill": {
     "duration": 0.045135,
     "end_time": "2025-08-26T02:22:02.211035",
     "exception": false,
     "start_time": "2025-08-26T02:22:02.165900",
     "status": "completed"
    },
    "tags": []
   },
   "outputs": [
    {
     "data": {
      "text/html": [
       "<div>\n",
       "<style scoped>\n",
       "    .dataframe tbody tr th:only-of-type {\n",
       "        vertical-align: middle;\n",
       "    }\n",
       "\n",
       "    .dataframe tbody tr th {\n",
       "        vertical-align: top;\n",
       "    }\n",
       "\n",
       "    .dataframe thead th {\n",
       "        text-align: right;\n",
       "    }\n",
       "</style>\n",
       "<table border=\"1\" class=\"dataframe\">\n",
       "  <thead>\n",
       "    <tr style=\"text-align: right;\">\n",
       "      <th></th>\n",
       "      <th>Family_Size</th>\n",
       "      <th>Survived</th>\n",
       "    </tr>\n",
       "  </thead>\n",
       "  <tbody>\n",
       "    <tr>\n",
       "      <th>0</th>\n",
       "      <td>1</td>\n",
       "      <td>0.303538</td>\n",
       "    </tr>\n",
       "    <tr>\n",
       "      <th>1</th>\n",
       "      <td>2</td>\n",
       "      <td>0.552795</td>\n",
       "    </tr>\n",
       "    <tr>\n",
       "      <th>2</th>\n",
       "      <td>3</td>\n",
       "      <td>0.578431</td>\n",
       "    </tr>\n",
       "    <tr>\n",
       "      <th>3</th>\n",
       "      <td>4</td>\n",
       "      <td>0.724138</td>\n",
       "    </tr>\n",
       "    <tr>\n",
       "      <th>4</th>\n",
       "      <td>5</td>\n",
       "      <td>0.200000</td>\n",
       "    </tr>\n",
       "    <tr>\n",
       "      <th>5</th>\n",
       "      <td>6</td>\n",
       "      <td>0.136364</td>\n",
       "    </tr>\n",
       "    <tr>\n",
       "      <th>6</th>\n",
       "      <td>7</td>\n",
       "      <td>0.333333</td>\n",
       "    </tr>\n",
       "    <tr>\n",
       "      <th>7</th>\n",
       "      <td>8</td>\n",
       "      <td>0.000000</td>\n",
       "    </tr>\n",
       "    <tr>\n",
       "      <th>8</th>\n",
       "      <td>11</td>\n",
       "      <td>0.000000</td>\n",
       "    </tr>\n",
       "  </tbody>\n",
       "</table>\n",
       "</div>"
      ],
      "text/plain": [
       "   Family_Size  Survived\n",
       "0            1  0.303538\n",
       "1            2  0.552795\n",
       "2            3  0.578431\n",
       "3            4  0.724138\n",
       "4            5  0.200000\n",
       "5            6  0.136364\n",
       "6            7  0.333333\n",
       "7            8  0.000000\n",
       "8           11  0.000000"
      ]
     },
     "execution_count": 13,
     "metadata": {},
     "output_type": "execute_result"
    }
   ],
   "source": [
    "#Survival rate based on family number aboard in the Titanic\n",
    "train_df.groupby(['Family_Size'], as_index=False)['Survived'].mean()"
   ]
  },
  {
   "cell_type": "markdown",
   "id": "fdb0aaf7",
   "metadata": {
    "papermill": {
     "duration": 0.02192,
     "end_time": "2025-08-26T02:22:02.256183",
     "exception": false,
     "start_time": "2025-08-26T02:22:02.234263",
     "status": "completed"
    },
    "tags": []
   },
   "source": [
    "**Insights Won**\n",
    "<br></br>\n",
    "It is more likely you survive as the closer you get from the left to 4 integrants, more than that drops the probability a lot."
   ]
  },
  {
   "cell_type": "markdown",
   "id": "d286054d",
   "metadata": {
    "papermill": {
     "duration": 0.017787,
     "end_time": "2025-08-26T02:22:02.292881",
     "exception": false,
     "start_time": "2025-08-26T02:22:02.275094",
     "status": "completed"
    },
    "tags": []
   },
   "source": [
    "### Family_size_Grouped:object"
   ]
  },
  {
   "cell_type": "code",
   "execution_count": 14,
   "id": "0a731a02",
   "metadata": {
    "execution": {
     "iopub.execute_input": "2025-08-26T02:22:02.334156Z",
     "iopub.status.busy": "2025-08-26T02:22:02.333752Z",
     "iopub.status.idle": "2025-08-26T02:22:02.348067Z",
     "shell.execute_reply": "2025-08-26T02:22:02.346678Z"
    },
    "papermill": {
     "duration": 0.040972,
     "end_time": "2025-08-26T02:22:02.352033",
     "exception": false,
     "start_time": "2025-08-26T02:22:02.311061",
     "status": "completed"
    },
    "tags": []
   },
   "outputs": [],
   "source": [
    "family_map= {1: 'Alone', 2: 'Small', 3: 'Small', 4:'Small', 5:'medium',6:'medium',7:'Large',8:'Large', 9:'Large', 10:'Large',11:'Large',12:'Large', 13:'Large', 14:'Large'}\n",
    "train_df['Family_Size_Grouped']= train_df['Family_Size'].map(family_map)\n",
    "test_df['Family_Size_Grouped']= test_df['Family_Size'].map(family_map)"
   ]
  },
  {
   "cell_type": "code",
   "execution_count": 15,
   "id": "7cf0e0ff",
   "metadata": {
    "execution": {
     "iopub.execute_input": "2025-08-26T02:22:02.392257Z",
     "iopub.status.busy": "2025-08-26T02:22:02.391884Z",
     "iopub.status.idle": "2025-08-26T02:22:02.408634Z",
     "shell.execute_reply": "2025-08-26T02:22:02.406696Z"
    },
    "papermill": {
     "duration": 0.039833,
     "end_time": "2025-08-26T02:22:02.411364",
     "exception": false,
     "start_time": "2025-08-26T02:22:02.371531",
     "status": "completed"
    },
    "tags": []
   },
   "outputs": [
    {
     "data": {
      "text/html": [
       "<div>\n",
       "<style scoped>\n",
       "    .dataframe tbody tr th:only-of-type {\n",
       "        vertical-align: middle;\n",
       "    }\n",
       "\n",
       "    .dataframe tbody tr th {\n",
       "        vertical-align: top;\n",
       "    }\n",
       "\n",
       "    .dataframe thead th {\n",
       "        text-align: right;\n",
       "    }\n",
       "</style>\n",
       "<table border=\"1\" class=\"dataframe\">\n",
       "  <thead>\n",
       "    <tr style=\"text-align: right;\">\n",
       "      <th></th>\n",
       "      <th>Family_Size_Grouped</th>\n",
       "      <th>Survived</th>\n",
       "    </tr>\n",
       "  </thead>\n",
       "  <tbody>\n",
       "    <tr>\n",
       "      <th>0</th>\n",
       "      <td>Alone</td>\n",
       "      <td>0.303538</td>\n",
       "    </tr>\n",
       "    <tr>\n",
       "      <th>1</th>\n",
       "      <td>Large</td>\n",
       "      <td>0.160000</td>\n",
       "    </tr>\n",
       "    <tr>\n",
       "      <th>2</th>\n",
       "      <td>Small</td>\n",
       "      <td>0.578767</td>\n",
       "    </tr>\n",
       "    <tr>\n",
       "      <th>3</th>\n",
       "      <td>medium</td>\n",
       "      <td>0.162162</td>\n",
       "    </tr>\n",
       "  </tbody>\n",
       "</table>\n",
       "</div>"
      ],
      "text/plain": [
       "  Family_Size_Grouped  Survived\n",
       "0               Alone  0.303538\n",
       "1               Large  0.160000\n",
       "2               Small  0.578767\n",
       "3              medium  0.162162"
      ]
     },
     "execution_count": 15,
     "metadata": {},
     "output_type": "execute_result"
    }
   ],
   "source": [
    "#Survival rate By Family size category\n",
    "train_df.groupby(['Family_Size_Grouped'], as_index=False)['Survived'].mean()"
   ]
  },
  {
   "cell_type": "markdown",
   "id": "27fcd20c",
   "metadata": {
    "papermill": {
     "duration": 0.0228,
     "end_time": "2025-08-26T02:22:02.452967",
     "exception": false,
     "start_time": "2025-08-26T02:22:02.430167",
     "status": "completed"
    },
    "tags": []
   },
   "source": [
    "**Insights Won**\n",
    "<br></br>\n",
    "It is more likely you survive if you have a Small Family(Inferring that Women/children where the most common example)"
   ]
  },
  {
   "cell_type": "markdown",
   "id": "a1ac94d6",
   "metadata": {
    "papermill": {
     "duration": 0.017946,
     "end_time": "2025-08-26T02:22:02.490076",
     "exception": false,
     "start_time": "2025-08-26T02:22:02.472130",
     "status": "completed"
    },
    "tags": []
   },
   "source": [
    "##  Creating a New Column: Age_Cut (Categorical Variable)  & Transforming Age into Classification-Friendly Ranges (0–4)"
   ]
  },
  {
   "cell_type": "code",
   "execution_count": 16,
   "id": "e816a7bd",
   "metadata": {
    "execution": {
     "iopub.execute_input": "2025-08-26T02:22:02.531772Z",
     "iopub.status.busy": "2025-08-26T02:22:02.531150Z",
     "iopub.status.idle": "2025-08-26T02:22:03.355144Z",
     "shell.execute_reply": "2025-08-26T02:22:03.353560Z"
    },
    "papermill": {
     "duration": 0.849242,
     "end_time": "2025-08-26T02:22:03.357556",
     "exception": false,
     "start_time": "2025-08-26T02:22:02.508314",
     "status": "completed"
    },
    "tags": []
   },
   "outputs": [
    {
     "name": "stderr",
     "output_type": "stream",
     "text": [
      "/usr/local/lib/python3.11/dist-packages/seaborn/_oldcore.py:1119: FutureWarning: use_inf_as_na option is deprecated and will be removed in a future version. Convert inf values to NaN before operating instead.\n",
      "  with pd.option_context('mode.use_inf_as_na', True):\n",
      "/usr/local/lib/python3.11/dist-packages/seaborn/_oldcore.py:1075: FutureWarning: When grouping with a length-1 list-like, you will need to pass a length-1 tuple to get_group in a future version of pandas. Pass `(name,)` instead of `name` to silence this warning.\n",
      "  data_subset = grouped_data.get_group(pd_key)\n",
      "/usr/local/lib/python3.11/dist-packages/seaborn/_oldcore.py:1075: FutureWarning: When grouping with a length-1 list-like, you will need to pass a length-1 tuple to get_group in a future version of pandas. Pass `(name,)` instead of `name` to silence this warning.\n",
      "  data_subset = grouped_data.get_group(pd_key)\n",
      "/usr/local/lib/python3.11/dist-packages/seaborn/_oldcore.py:1075: FutureWarning: When grouping with a length-1 list-like, you will need to pass a length-1 tuple to get_group in a future version of pandas. Pass `(name,)` instead of `name` to silence this warning.\n",
      "  data_subset = grouped_data.get_group(pd_key)\n",
      "/usr/local/lib/python3.11/dist-packages/seaborn/axisgrid.py:118: UserWarning: The figure layout has changed to tight\n",
      "  self._figure.tight_layout(*args, **kwargs)\n"
     ]
    },
    {
     "data": {
      "text/plain": [
       "<seaborn.axisgrid.FacetGrid at 0x7f776009eb50>"
      ]
     },
     "execution_count": 16,
     "metadata": {},
     "output_type": "execute_result"
    },
    {
     "data": {
      "image/png": "[encoded data removed]",
      "text/plain": [
       "<Figure size 1000x500 with 2 Axes>"
      ]
     },
     "metadata": {},
     "output_type": "display_data"
    }
   ],
   "source": [
    "sns.displot(train_df, x='Age',col='Survived',binwidth=18, height=5)"
   ]
  },
  {
   "cell_type": "markdown",
   "id": "cdc8f1d9",
   "metadata": {
    "papermill": {
     "duration": 0.01736,
     "end_time": "2025-08-26T02:22:03.392996",
     "exception": false,
     "start_time": "2025-08-26T02:22:03.375636",
     "status": "completed"
    },
    "tags": []
   },
   "source": [
    "- Some Ages survived more than others; we are going to generalize based on age classifications"
   ]
  },
  {
   "cell_type": "code",
   "execution_count": 17,
   "id": "d95557e3",
   "metadata": {
    "execution": {
     "iopub.execute_input": "2025-08-26T02:22:03.435088Z",
     "iopub.status.busy": "2025-08-26T02:22:03.434710Z",
     "iopub.status.idle": "2025-08-26T02:22:03.466913Z",
     "shell.execute_reply": "2025-08-26T02:22:03.465238Z"
    },
    "papermill": {
     "duration": 0.056356,
     "end_time": "2025-08-26T02:22:03.469366",
     "exception": false,
     "start_time": "2025-08-26T02:22:03.413010",
     "status": "completed"
    },
    "tags": []
   },
   "outputs": [],
   "source": [
    "train_df['Age_Cut'] = pd.qcut(train_df['Age'], 5)\n",
    "test_df['Age_Cut'] = pd.qcut(test_df['Age'], 5)"
   ]
  },
  {
   "cell_type": "code",
   "execution_count": 18,
   "id": "c325d3fc",
   "metadata": {
    "execution": {
     "iopub.execute_input": "2025-08-26T02:22:03.507843Z",
     "iopub.status.busy": "2025-08-26T02:22:03.507411Z",
     "iopub.status.idle": "2025-08-26T02:22:03.529308Z",
     "shell.execute_reply": "2025-08-26T02:22:03.527061Z"
    },
    "papermill": {
     "duration": 0.04432,
     "end_time": "2025-08-26T02:22:03.531256",
     "exception": false,
     "start_time": "2025-08-26T02:22:03.486936",
     "status": "completed"
    },
    "tags": []
   },
   "outputs": [
    {
     "name": "stderr",
     "output_type": "stream",
     "text": [
      "/tmp/ipykernel_13/1587675067.py:1: FutureWarning: The default of observed=False is deprecated and will be changed to True in a future version of pandas. Pass observed=False to retain current behavior or observed=True to adopt the future default and silence this warning.\n",
      "  train_df.groupby(['Age_Cut'], as_index=False)['Survived'].mean()\n"
     ]
    },
    {
     "data": {
      "text/html": [
       "<div>\n",
       "<style scoped>\n",
       "    .dataframe tbody tr th:only-of-type {\n",
       "        vertical-align: middle;\n",
       "    }\n",
       "\n",
       "    .dataframe tbody tr th {\n",
       "        vertical-align: top;\n",
       "    }\n",
       "\n",
       "    .dataframe thead th {\n",
       "        text-align: right;\n",
       "    }\n",
       "</style>\n",
       "<table border=\"1\" class=\"dataframe\">\n",
       "  <thead>\n",
       "    <tr style=\"text-align: right;\">\n",
       "      <th></th>\n",
       "      <th>Age_Cut</th>\n",
       "      <th>Survived</th>\n",
       "    </tr>\n",
       "  </thead>\n",
       "  <tbody>\n",
       "    <tr>\n",
       "      <th>0</th>\n",
       "      <td>(0.419, 19.0]</td>\n",
       "      <td>0.481707</td>\n",
       "    </tr>\n",
       "    <tr>\n",
       "      <th>1</th>\n",
       "      <td>(19.0, 25.0]</td>\n",
       "      <td>0.328467</td>\n",
       "    </tr>\n",
       "    <tr>\n",
       "      <th>2</th>\n",
       "      <td>(25.0, 31.8]</td>\n",
       "      <td>0.393701</td>\n",
       "    </tr>\n",
       "    <tr>\n",
       "      <th>3</th>\n",
       "      <td>(31.8, 41.0]</td>\n",
       "      <td>0.437500</td>\n",
       "    </tr>\n",
       "    <tr>\n",
       "      <th>4</th>\n",
       "      <td>(41.0, 80.0]</td>\n",
       "      <td>0.373239</td>\n",
       "    </tr>\n",
       "  </tbody>\n",
       "</table>\n",
       "</div>"
      ],
      "text/plain": [
       "         Age_Cut  Survived\n",
       "0  (0.419, 19.0]  0.481707\n",
       "1   (19.0, 25.0]  0.328467\n",
       "2   (25.0, 31.8]  0.393701\n",
       "3   (31.8, 41.0]  0.437500\n",
       "4   (41.0, 80.0]  0.373239"
      ]
     },
     "execution_count": 18,
     "metadata": {},
     "output_type": "execute_result"
    }
   ],
   "source": [
    "train_df.groupby(['Age_Cut'], as_index=False)['Survived'].mean()"
   ]
  },
  {
   "cell_type": "code",
   "execution_count": 19,
   "id": "d5b568cb",
   "metadata": {
    "execution": {
     "iopub.execute_input": "2025-08-26T02:22:03.569776Z",
     "iopub.status.busy": "2025-08-26T02:22:03.569367Z",
     "iopub.status.idle": "2025-08-26T02:22:03.597357Z",
     "shell.execute_reply": "2025-08-26T02:22:03.595916Z"
    },
    "papermill": {
     "duration": 0.051937,
     "end_time": "2025-08-26T02:22:03.601359",
     "exception": false,
     "start_time": "2025-08-26T02:22:03.549422",
     "status": "completed"
    },
    "tags": []
   },
   "outputs": [
    {
     "name": "stderr",
     "output_type": "stream",
     "text": [
      "/usr/local/lib/python3.11/dist-packages/pandas/core/computation/expressions.py:73: RuntimeWarning: invalid value encountered in less_equal\n",
      "  return op(a, b)\n",
      "/usr/local/lib/python3.11/dist-packages/pandas/core/computation/expressions.py:73: RuntimeWarning: invalid value encountered in greater\n",
      "  return op(a, b)\n",
      "/usr/local/lib/python3.11/dist-packages/pandas/core/computation/expressions.py:73: RuntimeWarning: invalid value encountered in less_equal\n",
      "  return op(a, b)\n",
      "/usr/local/lib/python3.11/dist-packages/pandas/core/computation/expressions.py:73: RuntimeWarning: invalid value encountered in greater\n",
      "  return op(a, b)\n",
      "/usr/local/lib/python3.11/dist-packages/pandas/core/computation/expressions.py:73: RuntimeWarning: invalid value encountered in less_equal\n",
      "  return op(a, b)\n",
      "/usr/local/lib/python3.11/dist-packages/pandas/core/computation/expressions.py:73: RuntimeWarning: invalid value encountered in greater\n",
      "  return op(a, b)\n",
      "/usr/local/lib/python3.11/dist-packages/pandas/core/computation/expressions.py:73: RuntimeWarning: invalid value encountered in less_equal\n",
      "  return op(a, b)\n",
      "/usr/local/lib/python3.11/dist-packages/pandas/core/computation/expressions.py:73: RuntimeWarning: invalid value encountered in greater\n",
      "  return op(a, b)\n",
      "/usr/local/lib/python3.11/dist-packages/pandas/core/computation/expressions.py:73: RuntimeWarning: invalid value encountered in less_equal\n",
      "  return op(a, b)\n",
      "/usr/local/lib/python3.11/dist-packages/pandas/core/computation/expressions.py:73: RuntimeWarning: invalid value encountered in greater\n",
      "  return op(a, b)\n",
      "/usr/local/lib/python3.11/dist-packages/pandas/core/computation/expressions.py:73: RuntimeWarning: invalid value encountered in less_equal\n",
      "  return op(a, b)\n",
      "/usr/local/lib/python3.11/dist-packages/pandas/core/computation/expressions.py:73: RuntimeWarning: invalid value encountered in greater\n",
      "  return op(a, b)\n",
      "/usr/local/lib/python3.11/dist-packages/pandas/core/computation/expressions.py:73: RuntimeWarning: invalid value encountered in less_equal\n",
      "  return op(a, b)\n",
      "/usr/local/lib/python3.11/dist-packages/pandas/core/computation/expressions.py:73: RuntimeWarning: invalid value encountered in greater\n",
      "  return op(a, b)\n",
      "/usr/local/lib/python3.11/dist-packages/pandas/core/computation/expressions.py:73: RuntimeWarning: invalid value encountered in less_equal\n",
      "  return op(a, b)\n",
      "/usr/local/lib/python3.11/dist-packages/pandas/core/computation/expressions.py:73: RuntimeWarning: invalid value encountered in greater\n",
      "  return op(a, b)\n",
      "/usr/local/lib/python3.11/dist-packages/pandas/core/computation/expressions.py:73: RuntimeWarning: invalid value encountered in less_equal\n",
      "  return op(a, b)\n",
      "/usr/local/lib/python3.11/dist-packages/pandas/core/computation/expressions.py:73: RuntimeWarning: invalid value encountered in greater\n",
      "  return op(a, b)\n",
      "/usr/local/lib/python3.11/dist-packages/pandas/core/computation/expressions.py:73: RuntimeWarning: invalid value encountered in less_equal\n",
      "  return op(a, b)\n",
      "/usr/local/lib/python3.11/dist-packages/pandas/core/computation/expressions.py:73: RuntimeWarning: invalid value encountered in greater\n",
      "  return op(a, b)\n"
     ]
    },
    {
     "data": {
      "text/plain": [
       "Series([], Name: Age, dtype: float64)"
      ]
     },
     "execution_count": 19,
     "metadata": {},
     "output_type": "execute_result"
    }
   ],
   "source": [
    "train_df.loc[train_df['Age'] <= 19, 'Age'] = 0\n",
    "train_df.loc[(train_df['Age'] > 19) & (train_df['Age'] <= 25), 'Age'] = 1\n",
    "train_df.loc[(train_df['Age'] > 25) & (train_df['Age'] <= 31.8), 'Age'] = 2\n",
    "train_df.loc[(train_df['Age'] > 31.8) & (train_df['Age'] <= 41), 'Age'] = 3\n",
    "train_df.loc[(train_df['Age'] > 41) & (train_df['Age'] <= 80), 'Age'] = 4\n",
    "train_df.loc[train_df['Age'] > 80, 'Age'] \n",
    "\n",
    "test_df.loc[test_df['Age'] <= 19, 'Age'] = 0\n",
    "test_df.loc[(test_df['Age'] > 19) & (test_df['Age'] <= 25), 'Age'] = 1\n",
    "test_df.loc[(test_df['Age'] > 25) & (test_df['Age'] <= 31.8), 'Age'] = 2\n",
    "test_df.loc[(test_df['Age'] > 31.8) & (test_df['Age'] <= 41), 'Age'] = 3\n",
    "test_df.loc[(test_df['Age'] > 41) & (test_df['Age'] <= 80), 'Age'] = 4\n",
    "test_df.loc[test_df['Age'] > 80, 'Age'] "
   ]
  },
  {
   "cell_type": "code",
   "execution_count": 20,
   "id": "52fa1122",
   "metadata": {
    "execution": {
     "iopub.execute_input": "2025-08-26T02:22:03.664788Z",
     "iopub.status.busy": "2025-08-26T02:22:03.663829Z",
     "iopub.status.idle": "2025-08-26T02:22:03.698458Z",
     "shell.execute_reply": "2025-08-26T02:22:03.695697Z"
    },
    "papermill": {
     "duration": 0.077552,
     "end_time": "2025-08-26T02:22:03.701521",
     "exception": false,
     "start_time": "2025-08-26T02:22:03.623969",
     "status": "completed"
    },
    "tags": []
   },
   "outputs": [
    {
     "name": "stderr",
     "output_type": "stream",
     "text": [
      "/usr/local/lib/python3.11/dist-packages/pandas/io/formats/format.py:1458: RuntimeWarning: invalid value encountered in greater\n",
      "  has_large_values = (abs_vals > 1e6).any()\n",
      "/usr/local/lib/python3.11/dist-packages/pandas/io/formats/format.py:1459: RuntimeWarning: invalid value encountered in less\n",
      "  has_small_values = ((abs_vals < 10 ** (-self.digits)) & (abs_vals > 0)).any()\n",
      "/usr/local/lib/python3.11/dist-packages/pandas/io/formats/format.py:1459: RuntimeWarning: invalid value encountered in greater\n",
      "  has_small_values = ((abs_vals < 10 ** (-self.digits)) & (abs_vals > 0)).any()\n"
     ]
    },
    {
     "data": {
      "text/html": [
       "<div>\n",
       "<style scoped>\n",
       "    .dataframe tbody tr th:only-of-type {\n",
       "        vertical-align: middle;\n",
       "    }\n",
       "\n",
       "    .dataframe tbody tr th {\n",
       "        vertical-align: top;\n",
       "    }\n",
       "\n",
       "    .dataframe thead th {\n",
       "        text-align: right;\n",
       "    }\n",
       "</style>\n",
       "<table border=\"1\" class=\"dataframe\">\n",
       "  <thead>\n",
       "    <tr style=\"text-align: right;\">\n",
       "      <th></th>\n",
       "      <th>PassengerId</th>\n",
       "      <th>Survived</th>\n",
       "      <th>Pclass</th>\n",
       "      <th>Name</th>\n",
       "      <th>Sex</th>\n",
       "      <th>Age</th>\n",
       "      <th>SibSp</th>\n",
       "      <th>Parch</th>\n",
       "      <th>Ticket</th>\n",
       "      <th>Fare</th>\n",
       "      <th>Cabin</th>\n",
       "      <th>Embarked</th>\n",
       "      <th>Family_Size</th>\n",
       "      <th>Family_Size_Grouped</th>\n",
       "      <th>Age_Cut</th>\n",
       "    </tr>\n",
       "  </thead>\n",
       "  <tbody>\n",
       "    <tr>\n",
       "      <th>0</th>\n",
       "      <td>1</td>\n",
       "      <td>0</td>\n",
       "      <td>3</td>\n",
       "      <td>Braund, Mr. Owen Harris</td>\n",
       "      <td>male</td>\n",
       "      <td>1.0</td>\n",
       "      <td>1</td>\n",
       "      <td>0</td>\n",
       "      <td>A/5 21171</td>\n",
       "      <td>7.2500</td>\n",
       "      <td>NaN</td>\n",
       "      <td>S</td>\n",
       "      <td>2</td>\n",
       "      <td>Small</td>\n",
       "      <td>(19.0, 25.0]</td>\n",
       "    </tr>\n",
       "    <tr>\n",
       "      <th>1</th>\n",
       "      <td>2</td>\n",
       "      <td>1</td>\n",
       "      <td>1</td>\n",
       "      <td>Cumings, Mrs. John Bradley (Florence Briggs Th...</td>\n",
       "      <td>female</td>\n",
       "      <td>3.0</td>\n",
       "      <td>1</td>\n",
       "      <td>0</td>\n",
       "      <td>PC 17599</td>\n",
       "      <td>71.2833</td>\n",
       "      <td>C85</td>\n",
       "      <td>C</td>\n",
       "      <td>2</td>\n",
       "      <td>Small</td>\n",
       "      <td>(31.8, 41.0]</td>\n",
       "    </tr>\n",
       "    <tr>\n",
       "      <th>2</th>\n",
       "      <td>3</td>\n",
       "      <td>1</td>\n",
       "      <td>3</td>\n",
       "      <td>Heikkinen, Miss. Laina</td>\n",
       "      <td>female</td>\n",
       "      <td>2.0</td>\n",
       "      <td>0</td>\n",
       "      <td>0</td>\n",
       "      <td>STON/O2. 3101282</td>\n",
       "      <td>7.9250</td>\n",
       "      <td>NaN</td>\n",
       "      <td>S</td>\n",
       "      <td>1</td>\n",
       "      <td>Alone</td>\n",
       "      <td>(25.0, 31.8]</td>\n",
       "    </tr>\n",
       "    <tr>\n",
       "      <th>3</th>\n",
       "      <td>4</td>\n",
       "      <td>1</td>\n",
       "      <td>1</td>\n",
       "      <td>Futrelle, Mrs. Jacques Heath (Lily May Peel)</td>\n",
       "      <td>female</td>\n",
       "      <td>3.0</td>\n",
       "      <td>1</td>\n",
       "      <td>0</td>\n",
       "      <td>113803</td>\n",
       "      <td>53.1000</td>\n",
       "      <td>C123</td>\n",
       "      <td>S</td>\n",
       "      <td>2</td>\n",
       "      <td>Small</td>\n",
       "      <td>(31.8, 41.0]</td>\n",
       "    </tr>\n",
       "    <tr>\n",
       "      <th>4</th>\n",
       "      <td>5</td>\n",
       "      <td>0</td>\n",
       "      <td>3</td>\n",
       "      <td>Allen, Mr. William Henry</td>\n",
       "      <td>male</td>\n",
       "      <td>3.0</td>\n",
       "      <td>0</td>\n",
       "      <td>0</td>\n",
       "      <td>373450</td>\n",
       "      <td>8.0500</td>\n",
       "      <td>NaN</td>\n",
       "      <td>S</td>\n",
       "      <td>1</td>\n",
       "      <td>Alone</td>\n",
       "      <td>(31.8, 41.0]</td>\n",
       "    </tr>\n",
       "    <tr>\n",
       "      <th>5</th>\n",
       "      <td>6</td>\n",
       "      <td>0</td>\n",
       "      <td>3</td>\n",
       "      <td>Moran, Mr. James</td>\n",
       "      <td>male</td>\n",
       "      <td>NaN</td>\n",
       "      <td>0</td>\n",
       "      <td>0</td>\n",
       "      <td>330877</td>\n",
       "      <td>8.4583</td>\n",
       "      <td>NaN</td>\n",
       "      <td>Q</td>\n",
       "      <td>1</td>\n",
       "      <td>Alone</td>\n",
       "      <td>NaN</td>\n",
       "    </tr>\n",
       "    <tr>\n",
       "      <th>6</th>\n",
       "      <td>7</td>\n",
       "      <td>0</td>\n",
       "      <td>1</td>\n",
       "      <td>McCarthy, Mr. Timothy J</td>\n",
       "      <td>male</td>\n",
       "      <td>4.0</td>\n",
       "      <td>0</td>\n",
       "      <td>0</td>\n",
       "      <td>17463</td>\n",
       "      <td>51.8625</td>\n",
       "      <td>E46</td>\n",
       "      <td>S</td>\n",
       "      <td>1</td>\n",
       "      <td>Alone</td>\n",
       "      <td>(41.0, 80.0]</td>\n",
       "    </tr>\n",
       "    <tr>\n",
       "      <th>7</th>\n",
       "      <td>8</td>\n",
       "      <td>0</td>\n",
       "      <td>3</td>\n",
       "      <td>Palsson, Master. Gosta Leonard</td>\n",
       "      <td>male</td>\n",
       "      <td>0.0</td>\n",
       "      <td>3</td>\n",
       "      <td>1</td>\n",
       "      <td>349909</td>\n",
       "      <td>21.0750</td>\n",
       "      <td>NaN</td>\n",
       "      <td>S</td>\n",
       "      <td>5</td>\n",
       "      <td>medium</td>\n",
       "      <td>(0.419, 19.0]</td>\n",
       "    </tr>\n",
       "    <tr>\n",
       "      <th>8</th>\n",
       "      <td>9</td>\n",
       "      <td>1</td>\n",
       "      <td>3</td>\n",
       "      <td>Johnson, Mrs. Oscar W (Elisabeth Vilhelmina Berg)</td>\n",
       "      <td>female</td>\n",
       "      <td>2.0</td>\n",
       "      <td>0</td>\n",
       "      <td>2</td>\n",
       "      <td>347742</td>\n",
       "      <td>11.1333</td>\n",
       "      <td>NaN</td>\n",
       "      <td>S</td>\n",
       "      <td>3</td>\n",
       "      <td>Small</td>\n",
       "      <td>(25.0, 31.8]</td>\n",
       "    </tr>\n",
       "    <tr>\n",
       "      <th>9</th>\n",
       "      <td>10</td>\n",
       "      <td>1</td>\n",
       "      <td>2</td>\n",
       "      <td>Nasser, Mrs. Nicholas (Adele Achem)</td>\n",
       "      <td>female</td>\n",
       "      <td>0.0</td>\n",
       "      <td>1</td>\n",
       "      <td>0</td>\n",
       "      <td>237736</td>\n",
       "      <td>30.0708</td>\n",
       "      <td>NaN</td>\n",
       "      <td>C</td>\n",
       "      <td>2</td>\n",
       "      <td>Small</td>\n",
       "      <td>(0.419, 19.0]</td>\n",
       "    </tr>\n",
       "  </tbody>\n",
       "</table>\n",
       "</div>"
      ],
      "text/plain": [
       "   PassengerId  Survived  Pclass  \\\n",
       "0            1         0       3   \n",
       "1            2         1       1   \n",
       "2            3         1       3   \n",
       "3            4         1       1   \n",
       "4            5         0       3   \n",
       "5            6         0       3   \n",
       "6            7         0       1   \n",
       "7            8         0       3   \n",
       "8            9         1       3   \n",
       "9           10         1       2   \n",
       "\n",
       "                                                Name     Sex  Age  SibSp  \\\n",
       "0                            Braund, Mr. Owen Harris    male  1.0      1   \n",
       "1  Cumings, Mrs. John Bradley (Florence Briggs Th...  female  3.0      1   \n",
       "2                             Heikkinen, Miss. Laina  female  2.0      0   \n",
       "3       Futrelle, Mrs. Jacques Heath (Lily May Peel)  female  3.0      1   \n",
       "4                           Allen, Mr. William Henry    male  3.0      0   \n",
       "5                                   Moran, Mr. James    male  NaN      0   \n",
       "6                            McCarthy, Mr. Timothy J    male  4.0      0   \n",
       "7                     Palsson, Master. Gosta Leonard    male  0.0      3   \n",
       "8  Johnson, Mrs. Oscar W (Elisabeth Vilhelmina Berg)  female  2.0      0   \n",
       "9                Nasser, Mrs. Nicholas (Adele Achem)  female  0.0      1   \n",
       "\n",
       "   Parch            Ticket     Fare Cabin Embarked  Family_Size  \\\n",
       "0      0         A/5 21171   7.2500   NaN        S            2   \n",
       "1      0          PC 17599  71.2833   C85        C            2   \n",
       "2      0  STON/O2. 3101282   7.9250   NaN        S            1   \n",
       "3      0            113803  53.1000  C123        S            2   \n",
       "4      0            373450   8.0500   NaN        S            1   \n",
       "5      0            330877   8.4583   NaN        Q            1   \n",
       "6      0             17463  51.8625   E46        S            1   \n",
       "7      1            349909  21.0750   NaN        S            5   \n",
       "8      2            347742  11.1333   NaN        S            3   \n",
       "9      0            237736  30.0708   NaN        C            2   \n",
       "\n",
       "  Family_Size_Grouped        Age_Cut  \n",
       "0               Small   (19.0, 25.0]  \n",
       "1               Small   (31.8, 41.0]  \n",
       "2               Alone   (25.0, 31.8]  \n",
       "3               Small   (31.8, 41.0]  \n",
       "4               Alone   (31.8, 41.0]  \n",
       "5               Alone            NaN  \n",
       "6               Alone   (41.0, 80.0]  \n",
       "7              medium  (0.419, 19.0]  \n",
       "8               Small   (25.0, 31.8]  \n",
       "9               Small  (0.419, 19.0]  "
      ]
     },
     "execution_count": 20,
     "metadata": {},
     "output_type": "execute_result"
    }
   ],
   "source": [
    "train_df.head(10)"
   ]
  },
  {
   "cell_type": "markdown",
   "id": "be1873f1",
   "metadata": {
    "papermill": {
     "duration": 0.022379,
     "end_time": "2025-08-26T02:22:03.743710",
     "exception": false,
     "start_time": "2025-08-26T02:22:03.721331",
     "status": "completed"
    },
    "tags": []
   },
   "source": [
    "## Creating a New Column: Fare_Cut (Categorical Variable)  Transforming Fare into Classification Friendly Ranges(0-5)"
   ]
  },
  {
   "cell_type": "code",
   "execution_count": 21,
   "id": "2b656d90",
   "metadata": {
    "execution": {
     "iopub.execute_input": "2025-08-26T02:22:03.787257Z",
     "iopub.status.busy": "2025-08-26T02:22:03.786887Z",
     "iopub.status.idle": "2025-08-26T02:22:04.446059Z",
     "shell.execute_reply": "2025-08-26T02:22:04.444273Z"
    },
    "papermill": {
     "duration": 0.684931,
     "end_time": "2025-08-26T02:22:04.449034",
     "exception": false,
     "start_time": "2025-08-26T02:22:03.764103",
     "status": "completed"
    },
    "tags": []
   },
   "outputs": [
    {
     "name": "stderr",
     "output_type": "stream",
     "text": [
      "/usr/local/lib/python3.11/dist-packages/seaborn/_oldcore.py:1119: FutureWarning: use_inf_as_na option is deprecated and will be removed in a future version. Convert inf values to NaN before operating instead.\n",
      "  with pd.option_context('mode.use_inf_as_na', True):\n",
      "/usr/local/lib/python3.11/dist-packages/seaborn/_oldcore.py:1075: FutureWarning: When grouping with a length-1 list-like, you will need to pass a length-1 tuple to get_group in a future version of pandas. Pass `(name,)` instead of `name` to silence this warning.\n",
      "  data_subset = grouped_data.get_group(pd_key)\n",
      "/usr/local/lib/python3.11/dist-packages/seaborn/_oldcore.py:1075: FutureWarning: When grouping with a length-1 list-like, you will need to pass a length-1 tuple to get_group in a future version of pandas. Pass `(name,)` instead of `name` to silence this warning.\n",
      "  data_subset = grouped_data.get_group(pd_key)\n",
      "/usr/local/lib/python3.11/dist-packages/seaborn/_oldcore.py:1075: FutureWarning: When grouping with a length-1 list-like, you will need to pass a length-1 tuple to get_group in a future version of pandas. Pass `(name,)` instead of `name` to silence this warning.\n",
      "  data_subset = grouped_data.get_group(pd_key)\n",
      "/usr/local/lib/python3.11/dist-packages/seaborn/axisgrid.py:118: UserWarning: The figure layout has changed to tight\n",
      "  self._figure.tight_layout(*args, **kwargs)\n"
     ]
    },
    {
     "data": {
      "text/plain": [
       "<seaborn.axisgrid.FacetGrid at 0x7f775fd95490>"
      ]
     },
     "execution_count": 21,
     "metadata": {},
     "output_type": "execute_result"
    },
    {
     "data": {
      "image/png": "[encoded data removed]",
      "text/plain": [
       "<Figure size 1000x500 with 2 Axes>"
      ]
     },
     "metadata": {},
     "output_type": "display_data"
    }
   ],
   "source": [
    "sns.displot(train_df, x='Fare', col='Survived',binwidth=80, height = 5)"
   ]
  },
  {
   "cell_type": "code",
   "execution_count": 22,
   "id": "eaf5bff3",
   "metadata": {
    "execution": {
     "iopub.execute_input": "2025-08-26T02:22:04.494084Z",
     "iopub.status.busy": "2025-08-26T02:22:04.493746Z",
     "iopub.status.idle": "2025-08-26T02:22:04.511715Z",
     "shell.execute_reply": "2025-08-26T02:22:04.510547Z"
    },
    "papermill": {
     "duration": 0.043815,
     "end_time": "2025-08-26T02:22:04.514095",
     "exception": false,
     "start_time": "2025-08-26T02:22:04.470280",
     "status": "completed"
    },
    "tags": []
   },
   "outputs": [],
   "source": [
    "train_df['Fare_Cut'] = pd.qcut(train_df['Fare'], 6)\n",
    "test_df['Fare_Cut'] = pd.qcut(test_df['Fare'], 6)"
   ]
  },
  {
   "cell_type": "code",
   "execution_count": 23,
   "id": "5647593b",
   "metadata": {
    "execution": {
     "iopub.execute_input": "2025-08-26T02:22:04.556830Z",
     "iopub.status.busy": "2025-08-26T02:22:04.556445Z",
     "iopub.status.idle": "2025-08-26T02:22:04.574314Z",
     "shell.execute_reply": "2025-08-26T02:22:04.572764Z"
    },
    "papermill": {
     "duration": 0.041983,
     "end_time": "2025-08-26T02:22:04.576884",
     "exception": false,
     "start_time": "2025-08-26T02:22:04.534901",
     "status": "completed"
    },
    "tags": []
   },
   "outputs": [
    {
     "name": "stderr",
     "output_type": "stream",
     "text": [
      "/tmp/ipykernel_13/1994933730.py:1: FutureWarning: The default of observed=False is deprecated and will be changed to True in a future version of pandas. Pass observed=False to retain current behavior or observed=True to adopt the future default and silence this warning.\n",
      "  train_df.groupby(['Fare_Cut'], as_index=False)['Survived'].mean()\n"
     ]
    },
    {
     "data": {
      "text/html": [
       "<div>\n",
       "<style scoped>\n",
       "    .dataframe tbody tr th:only-of-type {\n",
       "        vertical-align: middle;\n",
       "    }\n",
       "\n",
       "    .dataframe tbody tr th {\n",
       "        vertical-align: top;\n",
       "    }\n",
       "\n",
       "    .dataframe thead th {\n",
       "        text-align: right;\n",
       "    }\n",
       "</style>\n",
       "<table border=\"1\" class=\"dataframe\">\n",
       "  <thead>\n",
       "    <tr style=\"text-align: right;\">\n",
       "      <th></th>\n",
       "      <th>Fare_Cut</th>\n",
       "      <th>Survived</th>\n",
       "    </tr>\n",
       "  </thead>\n",
       "  <tbody>\n",
       "    <tr>\n",
       "      <th>0</th>\n",
       "      <td>(-0.001, 7.775]</td>\n",
       "      <td>0.205128</td>\n",
       "    </tr>\n",
       "    <tr>\n",
       "      <th>1</th>\n",
       "      <td>(7.775, 8.662]</td>\n",
       "      <td>0.190789</td>\n",
       "    </tr>\n",
       "    <tr>\n",
       "      <th>2</th>\n",
       "      <td>(8.662, 14.454]</td>\n",
       "      <td>0.366906</td>\n",
       "    </tr>\n",
       "    <tr>\n",
       "      <th>3</th>\n",
       "      <td>(14.454, 26.0]</td>\n",
       "      <td>0.436242</td>\n",
       "    </tr>\n",
       "    <tr>\n",
       "      <th>4</th>\n",
       "      <td>(26.0, 52.369]</td>\n",
       "      <td>0.417808</td>\n",
       "    </tr>\n",
       "    <tr>\n",
       "      <th>5</th>\n",
       "      <td>(52.369, 512.329]</td>\n",
       "      <td>0.697987</td>\n",
       "    </tr>\n",
       "  </tbody>\n",
       "</table>\n",
       "</div>"
      ],
      "text/plain": [
       "            Fare_Cut  Survived\n",
       "0    (-0.001, 7.775]  0.205128\n",
       "1     (7.775, 8.662]  0.190789\n",
       "2    (8.662, 14.454]  0.366906\n",
       "3     (14.454, 26.0]  0.436242\n",
       "4     (26.0, 52.369]  0.417808\n",
       "5  (52.369, 512.329]  0.697987"
      ]
     },
     "execution_count": 23,
     "metadata": {},
     "output_type": "execute_result"
    }
   ],
   "source": [
    "train_df.groupby(['Fare_Cut'], as_index=False)['Survived'].mean()"
   ]
  },
  {
   "cell_type": "code",
   "execution_count": 24,
   "id": "52bec9a8",
   "metadata": {
    "execution": {
     "iopub.execute_input": "2025-08-26T02:22:04.624071Z",
     "iopub.status.busy": "2025-08-26T02:22:04.623657Z",
     "iopub.status.idle": "2025-08-26T02:22:04.664884Z",
     "shell.execute_reply": "2025-08-26T02:22:04.662868Z"
    },
    "papermill": {
     "duration": 0.066914,
     "end_time": "2025-08-26T02:22:04.667741",
     "exception": false,
     "start_time": "2025-08-26T02:22:04.600827",
     "status": "completed"
    },
    "tags": []
   },
   "outputs": [
    {
     "name": "stderr",
     "output_type": "stream",
     "text": [
      "/usr/local/lib/python3.11/dist-packages/pandas/core/computation/expressions.py:73: RuntimeWarning: invalid value encountered in less_equal\n",
      "  return op(a, b)\n",
      "/usr/local/lib/python3.11/dist-packages/pandas/core/computation/expressions.py:73: RuntimeWarning: invalid value encountered in greater\n",
      "  return op(a, b)\n",
      "/usr/local/lib/python3.11/dist-packages/pandas/core/computation/expressions.py:73: RuntimeWarning: invalid value encountered in less_equal\n",
      "  return op(a, b)\n",
      "/usr/local/lib/python3.11/dist-packages/pandas/core/computation/expressions.py:73: RuntimeWarning: invalid value encountered in greater\n",
      "  return op(a, b)\n",
      "/usr/local/lib/python3.11/dist-packages/pandas/core/computation/expressions.py:73: RuntimeWarning: invalid value encountered in less_equal\n",
      "  return op(a, b)\n",
      "/usr/local/lib/python3.11/dist-packages/pandas/core/computation/expressions.py:73: RuntimeWarning: invalid value encountered in greater\n",
      "  return op(a, b)\n",
      "/usr/local/lib/python3.11/dist-packages/pandas/core/computation/expressions.py:73: RuntimeWarning: invalid value encountered in less_equal\n",
      "  return op(a, b)\n",
      "/usr/local/lib/python3.11/dist-packages/pandas/core/computation/expressions.py:73: RuntimeWarning: invalid value encountered in greater\n",
      "  return op(a, b)\n",
      "/usr/local/lib/python3.11/dist-packages/pandas/core/computation/expressions.py:73: RuntimeWarning: invalid value encountered in less_equal\n",
      "  return op(a, b)\n",
      "/usr/local/lib/python3.11/dist-packages/pandas/core/computation/expressions.py:73: RuntimeWarning: invalid value encountered in greater\n",
      "  return op(a, b)\n",
      "/usr/local/lib/python3.11/dist-packages/pandas/core/computation/expressions.py:73: RuntimeWarning: invalid value encountered in less_equal\n",
      "  return op(a, b)\n",
      "/usr/local/lib/python3.11/dist-packages/pandas/core/computation/expressions.py:73: RuntimeWarning: invalid value encountered in greater\n",
      "  return op(a, b)\n"
     ]
    },
    {
     "data": {
      "text/plain": [
       "343    512.3292\n",
       "Name: Fare, dtype: float64"
      ]
     },
     "execution_count": 24,
     "metadata": {},
     "output_type": "execute_result"
    }
   ],
   "source": [
    "train_df.loc[train_df['Fare'] <= 7.775, 'Fare'] = 0\n",
    "train_df.loc[(train_df['Fare'] > 7.775) & (train_df['Fare'] <= 8.662), 'Fare'] = 1\n",
    "train_df.loc[(train_df['Fare'] > 8.662) & (train_df['Fare'] <= 14.454), 'Fare'] = 2\n",
    "train_df.loc[(train_df['Fare'] > 14.454) & (train_df['Fare'] <= 26), 'Fare'] = 3\n",
    "train_df.loc[(train_df['Fare'] > 26.0) & (train_df['Fare'] <= 52.369), 'Fare'] = 4\n",
    "train_df.loc[(train_df['Fare'] > 52.369) & (train_df['Fare'] <= 512.329), 'Fare'] = 5\n",
    "train_df.loc[train_df['Fare'] > 512.329, 'Fare'] \n",
    "\n",
    "\n",
    "test_df.loc[test_df['Fare'] <= 7.775, 'Fare'] = 0\n",
    "test_df.loc[(test_df['Fare'] > 7.775) & (test_df['Fare'] <= 8.662), 'Fare'] = 1\n",
    "test_df.loc[(test_df['Fare'] > 8.662) & (test_df['Fare'] <= 14.454), 'Fare'] = 2\n",
    "test_df.loc[(test_df['Fare'] > 14.454) & (test_df['Fare'] <= 26), 'Fare'] = 3\n",
    "test_df.loc[(test_df['Fare'] > 26.0) & (test_df['Fare'] <= 52.369), 'Fare'] = 4\n",
    "test_df.loc[(test_df['Fare'] > 52.369) & (test_df['Fare'] <= 512.329), 'Fare'] = 5\n",
    "test_df.loc[test_df['Fare'] > 512.329, 'Fare'] "
   ]
  },
  {
   "cell_type": "markdown",
   "id": "97602fd1",
   "metadata": {
    "papermill": {
     "duration": 0.024224,
     "end_time": "2025-08-26T02:22:04.713811",
     "exception": false,
     "start_time": "2025-08-26T02:22:04.689587",
     "status": "completed"
    },
    "tags": []
   },
   "source": [
    "# Names:(Tittle:categorization) and (Patterns:Names Lenght)"
   ]
  },
  {
   "cell_type": "markdown",
   "id": "1a8b3f45",
   "metadata": {
    "papermill": {
     "duration": 0.025314,
     "end_time": "2025-08-26T02:22:04.759167",
     "exception": false,
     "start_time": "2025-08-26T02:22:04.733853",
     "status": "completed"
    },
    "tags": []
   },
   "source": [
    "- There where Nobles, Militaries, and Civilians from here, this is from where we can start working. Also the lenght of the names are also a Signal for a person of 1st class(therefore, most likely to survive)"
   ]
  },
  {
   "cell_type": "code",
   "execution_count": 25,
   "id": "5341c108",
   "metadata": {
    "execution": {
     "iopub.execute_input": "2025-08-26T02:22:04.808066Z",
     "iopub.status.busy": "2025-08-26T02:22:04.807686Z",
     "iopub.status.idle": "2025-08-26T02:22:04.817252Z",
     "shell.execute_reply": "2025-08-26T02:22:04.816117Z"
    },
    "papermill": {
     "duration": 0.036853,
     "end_time": "2025-08-26T02:22:04.819514",
     "exception": false,
     "start_time": "2025-08-26T02:22:04.782661",
     "status": "completed"
    },
    "tags": []
   },
   "outputs": [
    {
     "data": {
      "text/plain": [
       "0                                Braund, Mr. Owen Harris\n",
       "1      Cumings, Mrs. John Bradley (Florence Briggs Th...\n",
       "2                                 Heikkinen, Miss. Laina\n",
       "3           Futrelle, Mrs. Jacques Heath (Lily May Peel)\n",
       "4                               Allen, Mr. William Henry\n",
       "                             ...                        \n",
       "886                                Montvila, Rev. Juozas\n",
       "887                         Graham, Miss. Margaret Edith\n",
       "888             Johnston, Miss. Catherine Helen \"Carrie\"\n",
       "889                                Behr, Mr. Karl Howell\n",
       "890                                  Dooley, Mr. Patrick\n",
       "Name: Name, Length: 891, dtype: object"
      ]
     },
     "execution_count": 25,
     "metadata": {},
     "output_type": "execute_result"
    }
   ],
   "source": [
    "#Start Work with Tittle Categorization\n",
    "train_df['Name']"
   ]
  },
  {
   "cell_type": "code",
   "execution_count": 26,
   "id": "8a59911f",
   "metadata": {
    "execution": {
     "iopub.execute_input": "2025-08-26T02:22:04.868469Z",
     "iopub.status.busy": "2025-08-26T02:22:04.867768Z",
     "iopub.status.idle": "2025-08-26T02:22:04.885962Z",
     "shell.execute_reply": "2025-08-26T02:22:04.884454Z"
    },
    "papermill": {
     "duration": 0.046677,
     "end_time": "2025-08-26T02:22:04.887868",
     "exception": false,
     "start_time": "2025-08-26T02:22:04.841191",
     "status": "completed"
    },
    "tags": []
   },
   "outputs": [
    {
     "data": {
      "text/html": [
       "<div>\n",
       "<style scoped>\n",
       "    .dataframe tbody tr th:only-of-type {\n",
       "        vertical-align: middle;\n",
       "    }\n",
       "\n",
       "    .dataframe tbody tr th {\n",
       "        vertical-align: top;\n",
       "    }\n",
       "\n",
       "    .dataframe thead th {\n",
       "        text-align: right;\n",
       "    }\n",
       "</style>\n",
       "<table border=\"1\" class=\"dataframe\">\n",
       "  <thead>\n",
       "    <tr style=\"text-align: right;\">\n",
       "      <th></th>\n",
       "      <th>0</th>\n",
       "      <th>1</th>\n",
       "    </tr>\n",
       "  </thead>\n",
       "  <tbody>\n",
       "    <tr>\n",
       "      <th>0</th>\n",
       "      <td>Braund</td>\n",
       "      <td>Mr. Owen Harris</td>\n",
       "    </tr>\n",
       "    <tr>\n",
       "      <th>1</th>\n",
       "      <td>Cumings</td>\n",
       "      <td>Mrs. John Bradley (Florence Briggs Thayer)</td>\n",
       "    </tr>\n",
       "    <tr>\n",
       "      <th>2</th>\n",
       "      <td>Heikkinen</td>\n",
       "      <td>Miss. Laina</td>\n",
       "    </tr>\n",
       "    <tr>\n",
       "      <th>3</th>\n",
       "      <td>Futrelle</td>\n",
       "      <td>Mrs. Jacques Heath (Lily May Peel)</td>\n",
       "    </tr>\n",
       "    <tr>\n",
       "      <th>4</th>\n",
       "      <td>Allen</td>\n",
       "      <td>Mr. William Henry</td>\n",
       "    </tr>\n",
       "    <tr>\n",
       "      <th>...</th>\n",
       "      <td>...</td>\n",
       "      <td>...</td>\n",
       "    </tr>\n",
       "    <tr>\n",
       "      <th>886</th>\n",
       "      <td>Montvila</td>\n",
       "      <td>Rev. Juozas</td>\n",
       "    </tr>\n",
       "    <tr>\n",
       "      <th>887</th>\n",
       "      <td>Graham</td>\n",
       "      <td>Miss. Margaret Edith</td>\n",
       "    </tr>\n",
       "    <tr>\n",
       "      <th>888</th>\n",
       "      <td>Johnston</td>\n",
       "      <td>Miss. Catherine Helen \"Carrie\"</td>\n",
       "    </tr>\n",
       "    <tr>\n",
       "      <th>889</th>\n",
       "      <td>Behr</td>\n",
       "      <td>Mr. Karl Howell</td>\n",
       "    </tr>\n",
       "    <tr>\n",
       "      <th>890</th>\n",
       "      <td>Dooley</td>\n",
       "      <td>Mr. Patrick</td>\n",
       "    </tr>\n",
       "  </tbody>\n",
       "</table>\n",
       "<p>891 rows × 2 columns</p>\n",
       "</div>"
      ],
      "text/plain": [
       "             0                                            1\n",
       "0       Braund                              Mr. Owen Harris\n",
       "1      Cumings   Mrs. John Bradley (Florence Briggs Thayer)\n",
       "2    Heikkinen                                  Miss. Laina\n",
       "3     Futrelle           Mrs. Jacques Heath (Lily May Peel)\n",
       "4        Allen                            Mr. William Henry\n",
       "..         ...                                          ...\n",
       "886   Montvila                                  Rev. Juozas\n",
       "887     Graham                         Miss. Margaret Edith\n",
       "888   Johnston               Miss. Catherine Helen \"Carrie\"\n",
       "889       Behr                              Mr. Karl Howell\n",
       "890     Dooley                                  Mr. Patrick\n",
       "\n",
       "[891 rows x 2 columns]"
      ]
     },
     "execution_count": 26,
     "metadata": {},
     "output_type": "execute_result"
    }
   ],
   "source": [
    "train_df['Name'].str.split(pat=\",\", expand=True) #we are gonna grab the 1"
   ]
  },
  {
   "cell_type": "code",
   "execution_count": 27,
   "id": "f48fb72e",
   "metadata": {
    "execution": {
     "iopub.execute_input": "2025-08-26T02:22:04.936253Z",
     "iopub.status.busy": "2025-08-26T02:22:04.935853Z",
     "iopub.status.idle": "2025-08-26T02:22:04.951730Z",
     "shell.execute_reply": "2025-08-26T02:22:04.949269Z"
    },
    "papermill": {
     "duration": 0.04574,
     "end_time": "2025-08-26T02:22:04.953737",
     "exception": false,
     "start_time": "2025-08-26T02:22:04.907997",
     "status": "completed"
    },
    "tags": []
   },
   "outputs": [
    {
     "data": {
      "text/plain": [
       "0                                  Mr. Owen Harris\n",
       "1       Mrs. John Bradley (Florence Briggs Thayer)\n",
       "2                                      Miss. Laina\n",
       "3               Mrs. Jacques Heath (Lily May Peel)\n",
       "4                                Mr. William Henry\n",
       "                          ...                     \n",
       "886                                    Rev. Juozas\n",
       "887                           Miss. Margaret Edith\n",
       "888                 Miss. Catherine Helen \"Carrie\"\n",
       "889                                Mr. Karl Howell\n",
       "890                                    Mr. Patrick\n",
       "Name: 1, Length: 891, dtype: object"
      ]
     },
     "execution_count": 27,
     "metadata": {},
     "output_type": "execute_result"
    }
   ],
   "source": [
    "train_df['Name'].str.split(pat=\",\", expand=True)[1]"
   ]
  },
  {
   "cell_type": "code",
   "execution_count": 28,
   "id": "36f99bbe",
   "metadata": {
    "execution": {
     "iopub.execute_input": "2025-08-26T02:22:05.017609Z",
     "iopub.status.busy": "2025-08-26T02:22:05.016943Z",
     "iopub.status.idle": "2025-08-26T02:22:05.043306Z",
     "shell.execute_reply": "2025-08-26T02:22:05.041528Z"
    },
    "papermill": {
     "duration": 0.060547,
     "end_time": "2025-08-26T02:22:05.045766",
     "exception": false,
     "start_time": "2025-08-26T02:22:04.985219",
     "status": "completed"
    },
    "tags": []
   },
   "outputs": [
    {
     "data": {
      "text/html": [
       "<div>\n",
       "<style scoped>\n",
       "    .dataframe tbody tr th:only-of-type {\n",
       "        vertical-align: middle;\n",
       "    }\n",
       "\n",
       "    .dataframe tbody tr th {\n",
       "        vertical-align: top;\n",
       "    }\n",
       "\n",
       "    .dataframe thead th {\n",
       "        text-align: right;\n",
       "    }\n",
       "</style>\n",
       "<table border=\"1\" class=\"dataframe\">\n",
       "  <thead>\n",
       "    <tr style=\"text-align: right;\">\n",
       "      <th></th>\n",
       "      <th>0</th>\n",
       "      <th>1</th>\n",
       "      <th>2</th>\n",
       "    </tr>\n",
       "  </thead>\n",
       "  <tbody>\n",
       "    <tr>\n",
       "      <th>0</th>\n",
       "      <td>Mr</td>\n",
       "      <td>Owen Harris</td>\n",
       "      <td>None</td>\n",
       "    </tr>\n",
       "    <tr>\n",
       "      <th>1</th>\n",
       "      <td>Mrs</td>\n",
       "      <td>John Bradley (Florence Briggs Thayer)</td>\n",
       "      <td>None</td>\n",
       "    </tr>\n",
       "    <tr>\n",
       "      <th>2</th>\n",
       "      <td>Miss</td>\n",
       "      <td>Laina</td>\n",
       "      <td>None</td>\n",
       "    </tr>\n",
       "    <tr>\n",
       "      <th>3</th>\n",
       "      <td>Mrs</td>\n",
       "      <td>Jacques Heath (Lily May Peel)</td>\n",
       "      <td>None</td>\n",
       "    </tr>\n",
       "    <tr>\n",
       "      <th>4</th>\n",
       "      <td>Mr</td>\n",
       "      <td>William Henry</td>\n",
       "      <td>None</td>\n",
       "    </tr>\n",
       "    <tr>\n",
       "      <th>...</th>\n",
       "      <td>...</td>\n",
       "      <td>...</td>\n",
       "      <td>...</td>\n",
       "    </tr>\n",
       "    <tr>\n",
       "      <th>886</th>\n",
       "      <td>Rev</td>\n",
       "      <td>Juozas</td>\n",
       "      <td>None</td>\n",
       "    </tr>\n",
       "    <tr>\n",
       "      <th>887</th>\n",
       "      <td>Miss</td>\n",
       "      <td>Margaret Edith</td>\n",
       "      <td>None</td>\n",
       "    </tr>\n",
       "    <tr>\n",
       "      <th>888</th>\n",
       "      <td>Miss</td>\n",
       "      <td>Catherine Helen \"Carrie\"</td>\n",
       "      <td>None</td>\n",
       "    </tr>\n",
       "    <tr>\n",
       "      <th>889</th>\n",
       "      <td>Mr</td>\n",
       "      <td>Karl Howell</td>\n",
       "      <td>None</td>\n",
       "    </tr>\n",
       "    <tr>\n",
       "      <th>890</th>\n",
       "      <td>Mr</td>\n",
       "      <td>Patrick</td>\n",
       "      <td>None</td>\n",
       "    </tr>\n",
       "  </tbody>\n",
       "</table>\n",
       "<p>891 rows × 3 columns</p>\n",
       "</div>"
      ],
      "text/plain": [
       "         0                                       1     2\n",
       "0       Mr                             Owen Harris  None\n",
       "1      Mrs   John Bradley (Florence Briggs Thayer)  None\n",
       "2     Miss                                   Laina  None\n",
       "3      Mrs           Jacques Heath (Lily May Peel)  None\n",
       "4       Mr                           William Henry  None\n",
       "..     ...                                     ...   ...\n",
       "886    Rev                                  Juozas  None\n",
       "887   Miss                          Margaret Edith  None\n",
       "888   Miss                Catherine Helen \"Carrie\"  None\n",
       "889     Mr                             Karl Howell  None\n",
       "890     Mr                                 Patrick  None\n",
       "\n",
       "[891 rows x 3 columns]"
      ]
     },
     "execution_count": 28,
     "metadata": {},
     "output_type": "execute_result"
    }
   ],
   "source": [
    "train_df['Name'].str.split(pat=\",\", expand=True)[1].str.split(pat=\".\", expand=True) # i care about 0"
   ]
  },
  {
   "cell_type": "code",
   "execution_count": 29,
   "id": "739d7e3c",
   "metadata": {
    "execution": {
     "iopub.execute_input": "2025-08-26T02:22:05.113439Z",
     "iopub.status.busy": "2025-08-26T02:22:05.113016Z",
     "iopub.status.idle": "2025-08-26T02:22:05.130915Z",
     "shell.execute_reply": "2025-08-26T02:22:05.129219Z"
    },
    "papermill": {
     "duration": 0.060256,
     "end_time": "2025-08-26T02:22:05.133331",
     "exception": false,
     "start_time": "2025-08-26T02:22:05.073075",
     "status": "completed"
    },
    "tags": []
   },
   "outputs": [
    {
     "data": {
      "text/plain": [
       "0         Mr\n",
       "1        Mrs\n",
       "2       Miss\n",
       "3        Mrs\n",
       "4         Mr\n",
       "       ...  \n",
       "886      Rev\n",
       "887     Miss\n",
       "888     Miss\n",
       "889       Mr\n",
       "890       Mr\n",
       "Name: 0, Length: 891, dtype: object"
      ]
     },
     "execution_count": 29,
     "metadata": {},
     "output_type": "execute_result"
    }
   ],
   "source": [
    "train_df['Name'].str.split(pat=\",\", expand=True)[1].str.split(pat=\".\", expand=True)[0]"
   ]
  },
  {
   "cell_type": "code",
   "execution_count": 30,
   "id": "7b108737",
   "metadata": {
    "execution": {
     "iopub.execute_input": "2025-08-26T02:22:05.192440Z",
     "iopub.status.busy": "2025-08-26T02:22:05.192026Z",
     "iopub.status.idle": "2025-08-26T02:22:05.218829Z",
     "shell.execute_reply": "2025-08-26T02:22:05.215909Z"
    },
    "papermill": {
     "duration": 0.061285,
     "end_time": "2025-08-26T02:22:05.221945",
     "exception": false,
     "start_time": "2025-08-26T02:22:05.160660",
     "status": "completed"
    },
    "tags": []
   },
   "outputs": [],
   "source": [
    "#Now applying it to the Training and Test\n",
    "train_df['Title']=train_df['Name'].str.split(pat=\",\", expand=True)[1].str.split(pat=\".\", expand=True)[0].apply(lambda x:x.strip())\n",
    "test_df['Title']=test_df['Name'].str.split(pat=\",\", expand=True)[1].str.split(pat=\".\", expand=True)[0].apply(lambda x:x.strip())"
   ]
  },
  {
   "cell_type": "code",
   "execution_count": 31,
   "id": "90cc37dd",
   "metadata": {
    "execution": {
     "iopub.execute_input": "2025-08-26T02:22:05.283806Z",
     "iopub.status.busy": "2025-08-26T02:22:05.283302Z",
     "iopub.status.idle": "2025-08-26T02:22:05.301331Z",
     "shell.execute_reply": "2025-08-26T02:22:05.299774Z"
    },
    "papermill": {
     "duration": 0.051659,
     "end_time": "2025-08-26T02:22:05.304063",
     "exception": false,
     "start_time": "2025-08-26T02:22:05.252404",
     "status": "completed"
    },
    "tags": []
   },
   "outputs": [
    {
     "data": {
      "text/html": [
       "<div>\n",
       "<style scoped>\n",
       "    .dataframe tbody tr th:only-of-type {\n",
       "        vertical-align: middle;\n",
       "    }\n",
       "\n",
       "    .dataframe tbody tr th {\n",
       "        vertical-align: top;\n",
       "    }\n",
       "\n",
       "    .dataframe thead th {\n",
       "        text-align: right;\n",
       "    }\n",
       "</style>\n",
       "<table border=\"1\" class=\"dataframe\">\n",
       "  <thead>\n",
       "    <tr style=\"text-align: right;\">\n",
       "      <th></th>\n",
       "      <th>Title</th>\n",
       "      <th>Survived</th>\n",
       "    </tr>\n",
       "  </thead>\n",
       "  <tbody>\n",
       "    <tr>\n",
       "      <th>0</th>\n",
       "      <td>Capt</td>\n",
       "      <td>0.000000</td>\n",
       "    </tr>\n",
       "    <tr>\n",
       "      <th>1</th>\n",
       "      <td>Col</td>\n",
       "      <td>0.500000</td>\n",
       "    </tr>\n",
       "    <tr>\n",
       "      <th>2</th>\n",
       "      <td>Don</td>\n",
       "      <td>0.000000</td>\n",
       "    </tr>\n",
       "    <tr>\n",
       "      <th>3</th>\n",
       "      <td>Dr</td>\n",
       "      <td>0.428571</td>\n",
       "    </tr>\n",
       "    <tr>\n",
       "      <th>4</th>\n",
       "      <td>Jonkheer</td>\n",
       "      <td>0.000000</td>\n",
       "    </tr>\n",
       "    <tr>\n",
       "      <th>5</th>\n",
       "      <td>Lady</td>\n",
       "      <td>1.000000</td>\n",
       "    </tr>\n",
       "    <tr>\n",
       "      <th>6</th>\n",
       "      <td>Major</td>\n",
       "      <td>0.500000</td>\n",
       "    </tr>\n",
       "    <tr>\n",
       "      <th>7</th>\n",
       "      <td>Master</td>\n",
       "      <td>0.575000</td>\n",
       "    </tr>\n",
       "    <tr>\n",
       "      <th>8</th>\n",
       "      <td>Miss</td>\n",
       "      <td>0.697802</td>\n",
       "    </tr>\n",
       "    <tr>\n",
       "      <th>9</th>\n",
       "      <td>Mlle</td>\n",
       "      <td>1.000000</td>\n",
       "    </tr>\n",
       "    <tr>\n",
       "      <th>10</th>\n",
       "      <td>Mme</td>\n",
       "      <td>1.000000</td>\n",
       "    </tr>\n",
       "    <tr>\n",
       "      <th>11</th>\n",
       "      <td>Mr</td>\n",
       "      <td>0.156673</td>\n",
       "    </tr>\n",
       "    <tr>\n",
       "      <th>12</th>\n",
       "      <td>Mrs</td>\n",
       "      <td>0.792000</td>\n",
       "    </tr>\n",
       "    <tr>\n",
       "      <th>13</th>\n",
       "      <td>Ms</td>\n",
       "      <td>1.000000</td>\n",
       "    </tr>\n",
       "    <tr>\n",
       "      <th>14</th>\n",
       "      <td>Rev</td>\n",
       "      <td>0.000000</td>\n",
       "    </tr>\n",
       "    <tr>\n",
       "      <th>15</th>\n",
       "      <td>Sir</td>\n",
       "      <td>1.000000</td>\n",
       "    </tr>\n",
       "    <tr>\n",
       "      <th>16</th>\n",
       "      <td>the Countess</td>\n",
       "      <td>1.000000</td>\n",
       "    </tr>\n",
       "  </tbody>\n",
       "</table>\n",
       "</div>"
      ],
      "text/plain": [
       "           Title  Survived\n",
       "0           Capt  0.000000\n",
       "1            Col  0.500000\n",
       "2            Don  0.000000\n",
       "3             Dr  0.428571\n",
       "4       Jonkheer  0.000000\n",
       "5           Lady  1.000000\n",
       "6          Major  0.500000\n",
       "7         Master  0.575000\n",
       "8           Miss  0.697802\n",
       "9           Mlle  1.000000\n",
       "10           Mme  1.000000\n",
       "11            Mr  0.156673\n",
       "12           Mrs  0.792000\n",
       "13            Ms  1.000000\n",
       "14           Rev  0.000000\n",
       "15           Sir  1.000000\n",
       "16  the Countess  1.000000"
      ]
     },
     "execution_count": 31,
     "metadata": {},
     "output_type": "execute_result"
    }
   ],
   "source": [
    "train_df.groupby(['Title'], as_index=False)['Survived'].mean()"
   ]
  },
  {
   "cell_type": "markdown",
   "id": "76126150",
   "metadata": {
    "papermill": {
     "duration": 0.024816,
     "end_time": "2025-08-26T02:22:05.355540",
     "exception": false,
     "start_time": "2025-08-26T02:22:05.330724",
     "status": "completed"
    },
    "tags": []
   },
   "source": [
    "### After Research\n",
    "- Military= Captain, Col, Major\n",
    "- Noble Jonkheer, the Countess, Don, Lady, Sir\n",
    "- No-Position = Mile, Ms, Mme"
   ]
  },
  {
   "cell_type": "code",
   "execution_count": 32,
   "id": "aa55edb8",
   "metadata": {
    "execution": {
     "iopub.execute_input": "2025-08-26T02:22:05.409219Z",
     "iopub.status.busy": "2025-08-26T02:22:05.408783Z",
     "iopub.status.idle": "2025-08-26T02:22:05.422427Z",
     "shell.execute_reply": "2025-08-26T02:22:05.421064Z"
    },
    "papermill": {
     "duration": 0.040604,
     "end_time": "2025-08-26T02:22:05.424858",
     "exception": false,
     "start_time": "2025-08-26T02:22:05.384254",
     "status": "completed"
    },
    "tags": []
   },
   "outputs": [],
   "source": [
    "train_df['Title']=train_df['Title'].replace({\n",
    "    'capt': 'Military',\n",
    "    'Col': 'Military',\n",
    "    'Major': 'Military',\n",
    "    'Jonkheer': 'Noble',\n",
    "    'the Countess': 'Noble',\n",
    "    'Don':'Noble',\n",
    "    'Lady':'Noble',\n",
    "    'Sir':'Noble',\n",
    "    'Mlle':'Noble',\n",
    "    'Ms': 'Noble',\n",
    "    'Mme':'Noble'\n",
    "})\n",
    "\n",
    "test_df['Title']=test_df['Title'].replace({\n",
    "    'Capt': 'Military',\n",
    "    'Col': 'Military',\n",
    "    'Major': 'Military',\n",
    "    'Jonkheer': 'Noble',\n",
    "    'the Countess': 'Noble',\n",
    "    'Don':'Noble',\n",
    "    'Lady':'Noble',\n",
    "    'Sir':'Noble',\n",
    "    'Mlle':'Noble',\n",
    "    'Ms': 'Noble',\n",
    "    'Mme':'Noble'\n",
    "})"
   ]
  },
  {
   "cell_type": "code",
   "execution_count": 33,
   "id": "120e324c",
   "metadata": {
    "execution": {
     "iopub.execute_input": "2025-08-26T02:22:05.478695Z",
     "iopub.status.busy": "2025-08-26T02:22:05.478111Z",
     "iopub.status.idle": "2025-08-26T02:22:05.496364Z",
     "shell.execute_reply": "2025-08-26T02:22:05.494579Z"
    },
    "papermill": {
     "duration": 0.049345,
     "end_time": "2025-08-26T02:22:05.498775",
     "exception": false,
     "start_time": "2025-08-26T02:22:05.449430",
     "status": "completed"
    },
    "tags": []
   },
   "outputs": [
    {
     "data": {
      "text/html": [
       "<div>\n",
       "<style scoped>\n",
       "    .dataframe tbody tr th:only-of-type {\n",
       "        vertical-align: middle;\n",
       "    }\n",
       "\n",
       "    .dataframe tbody tr th {\n",
       "        vertical-align: top;\n",
       "    }\n",
       "\n",
       "    .dataframe thead th {\n",
       "        text-align: right;\n",
       "    }\n",
       "</style>\n",
       "<table border=\"1\" class=\"dataframe\">\n",
       "  <thead>\n",
       "    <tr style=\"text-align: right;\">\n",
       "      <th></th>\n",
       "      <th>Title</th>\n",
       "      <th>Survived</th>\n",
       "    </tr>\n",
       "  </thead>\n",
       "  <tbody>\n",
       "    <tr>\n",
       "      <th>0</th>\n",
       "      <td>Capt</td>\n",
       "      <td>0.000000</td>\n",
       "    </tr>\n",
       "    <tr>\n",
       "      <th>1</th>\n",
       "      <td>Dr</td>\n",
       "      <td>0.428571</td>\n",
       "    </tr>\n",
       "    <tr>\n",
       "      <th>2</th>\n",
       "      <td>Master</td>\n",
       "      <td>0.575000</td>\n",
       "    </tr>\n",
       "    <tr>\n",
       "      <th>3</th>\n",
       "      <td>Military</td>\n",
       "      <td>0.500000</td>\n",
       "    </tr>\n",
       "    <tr>\n",
       "      <th>4</th>\n",
       "      <td>Miss</td>\n",
       "      <td>0.697802</td>\n",
       "    </tr>\n",
       "    <tr>\n",
       "      <th>5</th>\n",
       "      <td>Mr</td>\n",
       "      <td>0.156673</td>\n",
       "    </tr>\n",
       "    <tr>\n",
       "      <th>6</th>\n",
       "      <td>Mrs</td>\n",
       "      <td>0.792000</td>\n",
       "    </tr>\n",
       "    <tr>\n",
       "      <th>7</th>\n",
       "      <td>Noble</td>\n",
       "      <td>0.777778</td>\n",
       "    </tr>\n",
       "    <tr>\n",
       "      <th>8</th>\n",
       "      <td>Rev</td>\n",
       "      <td>0.000000</td>\n",
       "    </tr>\n",
       "  </tbody>\n",
       "</table>\n",
       "</div>"
      ],
      "text/plain": [
       "      Title  Survived\n",
       "0      Capt  0.000000\n",
       "1        Dr  0.428571\n",
       "2    Master  0.575000\n",
       "3  Military  0.500000\n",
       "4      Miss  0.697802\n",
       "5        Mr  0.156673\n",
       "6       Mrs  0.792000\n",
       "7     Noble  0.777778\n",
       "8       Rev  0.000000"
      ]
     },
     "execution_count": 33,
     "metadata": {},
     "output_type": "execute_result"
    }
   ],
   "source": [
    "train_df.groupby(['Title'], as_index=False)['Survived'].mean()"
   ]
  },
  {
   "cell_type": "code",
   "execution_count": 34,
   "id": "db5c6639",
   "metadata": {
    "execution": {
     "iopub.execute_input": "2025-08-26T02:22:05.554931Z",
     "iopub.status.busy": "2025-08-26T02:22:05.554453Z",
     "iopub.status.idle": "2025-08-26T02:22:05.577841Z",
     "shell.execute_reply": "2025-08-26T02:22:05.575785Z"
    },
    "papermill": {
     "duration": 0.055902,
     "end_time": "2025-08-26T02:22:05.581155",
     "exception": false,
     "start_time": "2025-08-26T02:22:05.525253",
     "status": "completed"
    },
    "tags": []
   },
   "outputs": [
    {
     "data": {
      "text/html": [
       "<div>\n",
       "<style scoped>\n",
       "    .dataframe tbody tr th:only-of-type {\n",
       "        vertical-align: middle;\n",
       "    }\n",
       "\n",
       "    .dataframe tbody tr th {\n",
       "        vertical-align: top;\n",
       "    }\n",
       "\n",
       "    .dataframe thead th {\n",
       "        text-align: right;\n",
       "    }\n",
       "</style>\n",
       "<table border=\"1\" class=\"dataframe\">\n",
       "  <thead>\n",
       "    <tr style=\"text-align: right;\">\n",
       "      <th></th>\n",
       "      <th>Title</th>\n",
       "      <th>count</th>\n",
       "      <th>mean</th>\n",
       "    </tr>\n",
       "  </thead>\n",
       "  <tbody>\n",
       "    <tr>\n",
       "      <th>0</th>\n",
       "      <td>Capt</td>\n",
       "      <td>1</td>\n",
       "      <td>0.000000</td>\n",
       "    </tr>\n",
       "    <tr>\n",
       "      <th>1</th>\n",
       "      <td>Dr</td>\n",
       "      <td>7</td>\n",
       "      <td>0.428571</td>\n",
       "    </tr>\n",
       "    <tr>\n",
       "      <th>2</th>\n",
       "      <td>Master</td>\n",
       "      <td>40</td>\n",
       "      <td>0.575000</td>\n",
       "    </tr>\n",
       "    <tr>\n",
       "      <th>3</th>\n",
       "      <td>Military</td>\n",
       "      <td>4</td>\n",
       "      <td>0.500000</td>\n",
       "    </tr>\n",
       "    <tr>\n",
       "      <th>4</th>\n",
       "      <td>Miss</td>\n",
       "      <td>182</td>\n",
       "      <td>0.697802</td>\n",
       "    </tr>\n",
       "    <tr>\n",
       "      <th>5</th>\n",
       "      <td>Mr</td>\n",
       "      <td>517</td>\n",
       "      <td>0.156673</td>\n",
       "    </tr>\n",
       "    <tr>\n",
       "      <th>6</th>\n",
       "      <td>Mrs</td>\n",
       "      <td>125</td>\n",
       "      <td>0.792000</td>\n",
       "    </tr>\n",
       "    <tr>\n",
       "      <th>7</th>\n",
       "      <td>Noble</td>\n",
       "      <td>9</td>\n",
       "      <td>0.777778</td>\n",
       "    </tr>\n",
       "    <tr>\n",
       "      <th>8</th>\n",
       "      <td>Rev</td>\n",
       "      <td>6</td>\n",
       "      <td>0.000000</td>\n",
       "    </tr>\n",
       "  </tbody>\n",
       "</table>\n",
       "</div>"
      ],
      "text/plain": [
       "      Title  count      mean\n",
       "0      Capt      1  0.000000\n",
       "1        Dr      7  0.428571\n",
       "2    Master     40  0.575000\n",
       "3  Military      4  0.500000\n",
       "4      Miss    182  0.697802\n",
       "5        Mr    517  0.156673\n",
       "6       Mrs    125  0.792000\n",
       "7     Noble      9  0.777778\n",
       "8       Rev      6  0.000000"
      ]
     },
     "execution_count": 34,
     "metadata": {},
     "output_type": "execute_result"
    }
   ],
   "source": [
    "train_df.groupby(['Title'], as_index=False)['Survived'].agg(['count','mean'])"
   ]
  },
  {
   "cell_type": "code",
   "execution_count": 35,
   "id": "dbafca66",
   "metadata": {
    "execution": {
     "iopub.execute_input": "2025-08-26T02:22:05.647465Z",
     "iopub.status.busy": "2025-08-26T02:22:05.646772Z",
     "iopub.status.idle": "2025-08-26T02:22:06.207173Z",
     "shell.execute_reply": "2025-08-26T02:22:06.206138Z"
    },
    "papermill": {
     "duration": 0.596674,
     "end_time": "2025-08-26T02:22:06.211235",
     "exception": false,
     "start_time": "2025-08-26T02:22:05.614561",
     "status": "completed"
    },
    "tags": []
   },
   "outputs": [
    {
     "name": "stderr",
     "output_type": "stream",
     "text": [
      "/usr/local/lib/python3.11/dist-packages/seaborn/_oldcore.py:1119: FutureWarning: use_inf_as_na option is deprecated and will be removed in a future version. Convert inf values to NaN before operating instead.\n",
      "  with pd.option_context('mode.use_inf_as_na', True):\n",
      "/usr/local/lib/python3.11/dist-packages/seaborn/_oldcore.py:1119: FutureWarning: use_inf_as_na option is deprecated and will be removed in a future version. Convert inf values to NaN before operating instead.\n",
      "  with pd.option_context('mode.use_inf_as_na', True):\n"
     ]
    },
    {
     "data": {
      "image/png": "[encoded data removed]",
      "text/plain": [
       "<Figure size 640x480 with 1 Axes>"
      ]
     },
     "metadata": {},
     "output_type": "display_data"
    }
   ],
   "source": [
    "#Start Work with Name Lenght \n",
    "train_df['Name_Length'] = train_df['Name'].apply(lambda x: len(x))\n",
    "test_df['Name_Length'] = test_df['Name'].apply(lambda x: len(x))\n",
    "\n",
    "\n",
    "g = sns.kdeplot(train_df['Name_Length'][(train_df['Survived']==0) & (train_df['Name_Length'].notnull())], color='Red', fill=True)\n",
    "g = sns.kdeplot(train_df['Name_Length'][(train_df['Survived']==1) & (train_df['Name_Length'].notnull())], ax=g, color='Blue', fill=True)\n",
    "g.set_xlabel('Name_Length')\n",
    "g.set_ylabel('Frequency')\n",
    "g = g.legend(['Not Survived', 'Survived'])"
   ]
  },
  {
   "cell_type": "code",
   "execution_count": 36,
   "id": "1afd6446",
   "metadata": {
    "execution": {
     "iopub.execute_input": "2025-08-26T02:22:06.281248Z",
     "iopub.status.busy": "2025-08-26T02:22:06.280880Z",
     "iopub.status.idle": "2025-08-26T02:22:06.305078Z",
     "shell.execute_reply": "2025-08-26T02:22:06.302438Z"
    },
    "papermill": {
     "duration": 0.056758,
     "end_time": "2025-08-26T02:22:06.306968",
     "exception": false,
     "start_time": "2025-08-26T02:22:06.250210",
     "status": "completed"
    },
    "tags": []
   },
   "outputs": [],
   "source": [
    "train_df['Name_LenghtGB'] = pd.qcut(train_df['Name_Length'], 8)\n",
    "test_df['Name_LenghtGB'] = pd.qcut(test_df['Name_Length'], 8)"
   ]
  },
  {
   "cell_type": "code",
   "execution_count": 37,
   "id": "897f4875",
   "metadata": {
    "execution": {
     "iopub.execute_input": "2025-08-26T02:22:06.360718Z",
     "iopub.status.busy": "2025-08-26T02:22:06.358677Z",
     "iopub.status.idle": "2025-08-26T02:22:06.378335Z",
     "shell.execute_reply": "2025-08-26T02:22:06.376703Z"
    },
    "papermill": {
     "duration": 0.051703,
     "end_time": "2025-08-26T02:22:06.380413",
     "exception": false,
     "start_time": "2025-08-26T02:22:06.328710",
     "status": "completed"
    },
    "tags": []
   },
   "outputs": [
    {
     "name": "stderr",
     "output_type": "stream",
     "text": [
      "/tmp/ipykernel_13/1682118455.py:1: FutureWarning: The default of observed=False is deprecated and will be changed to True in a future version of pandas. Pass observed=False to retain current behavior or observed=True to adopt the future default and silence this warning.\n",
      "  train_df.groupby(['Name_LenghtGB'], as_index=False)['Survived'].mean()\n"
     ]
    },
    {
     "data": {
      "text/html": [
       "<div>\n",
       "<style scoped>\n",
       "    .dataframe tbody tr th:only-of-type {\n",
       "        vertical-align: middle;\n",
       "    }\n",
       "\n",
       "    .dataframe tbody tr th {\n",
       "        vertical-align: top;\n",
       "    }\n",
       "\n",
       "    .dataframe thead th {\n",
       "        text-align: right;\n",
       "    }\n",
       "</style>\n",
       "<table border=\"1\" class=\"dataframe\">\n",
       "  <thead>\n",
       "    <tr style=\"text-align: right;\">\n",
       "      <th></th>\n",
       "      <th>Name_LenghtGB</th>\n",
       "      <th>Survived</th>\n",
       "    </tr>\n",
       "  </thead>\n",
       "  <tbody>\n",
       "    <tr>\n",
       "      <th>0</th>\n",
       "      <td>(11.999, 18.0]</td>\n",
       "      <td>0.214286</td>\n",
       "    </tr>\n",
       "    <tr>\n",
       "      <th>1</th>\n",
       "      <td>(18.0, 20.0]</td>\n",
       "      <td>0.252427</td>\n",
       "    </tr>\n",
       "    <tr>\n",
       "      <th>2</th>\n",
       "      <td>(20.0, 23.0]</td>\n",
       "      <td>0.307692</td>\n",
       "    </tr>\n",
       "    <tr>\n",
       "      <th>3</th>\n",
       "      <td>(23.0, 25.0]</td>\n",
       "      <td>0.346939</td>\n",
       "    </tr>\n",
       "    <tr>\n",
       "      <th>4</th>\n",
       "      <td>(25.0, 27.25]</td>\n",
       "      <td>0.292929</td>\n",
       "    </tr>\n",
       "    <tr>\n",
       "      <th>5</th>\n",
       "      <td>(27.25, 30.0]</td>\n",
       "      <td>0.428571</td>\n",
       "    </tr>\n",
       "    <tr>\n",
       "      <th>6</th>\n",
       "      <td>(30.0, 38.0]</td>\n",
       "      <td>0.517241</td>\n",
       "    </tr>\n",
       "    <tr>\n",
       "      <th>7</th>\n",
       "      <td>(38.0, 82.0]</td>\n",
       "      <td>0.745283</td>\n",
       "    </tr>\n",
       "  </tbody>\n",
       "</table>\n",
       "</div>"
      ],
      "text/plain": [
       "    Name_LenghtGB  Survived\n",
       "0  (11.999, 18.0]  0.214286\n",
       "1    (18.0, 20.0]  0.252427\n",
       "2    (20.0, 23.0]  0.307692\n",
       "3    (23.0, 25.0]  0.346939\n",
       "4   (25.0, 27.25]  0.292929\n",
       "5   (27.25, 30.0]  0.428571\n",
       "6    (30.0, 38.0]  0.517241\n",
       "7    (38.0, 82.0]  0.745283"
      ]
     },
     "execution_count": 37,
     "metadata": {},
     "output_type": "execute_result"
    }
   ],
   "source": [
    "train_df.groupby(['Name_LenghtGB'], as_index=False)['Survived'].mean()"
   ]
  },
  {
   "cell_type": "markdown",
   "id": "612e3993",
   "metadata": {
    "papermill": {
     "duration": 0.031019,
     "end_time": "2025-08-26T02:22:06.433874",
     "exception": false,
     "start_time": "2025-08-26T02:22:06.402855",
     "status": "completed"
    },
    "tags": []
   },
   "source": [
    "- As we can see, people with the larger Names(usually hight class) were more prospense to survive"
   ]
  },
  {
   "cell_type": "code",
   "execution_count": 38,
   "id": "bcd54d59",
   "metadata": {
    "execution": {
     "iopub.execute_input": "2025-08-26T02:22:06.501590Z",
     "iopub.status.busy": "2025-08-26T02:22:06.501063Z",
     "iopub.status.idle": "2025-08-26T02:22:06.526966Z",
     "shell.execute_reply": "2025-08-26T02:22:06.525175Z"
    },
    "papermill": {
     "duration": 0.059406,
     "end_time": "2025-08-26T02:22:06.528936",
     "exception": false,
     "start_time": "2025-08-26T02:22:06.469530",
     "status": "completed"
    },
    "tags": []
   },
   "outputs": [
    {
     "data": {
      "text/plain": [
       "Series([], Name: Name_Size, dtype: float64)"
      ]
     },
     "execution_count": 38,
     "metadata": {},
     "output_type": "execute_result"
    }
   ],
   "source": [
    "train_df.loc[train_df['Name_Length'] <= 22, 'Name_Size'] = 0\n",
    "train_df.loc[(train_df['Name_Length'] > 22) & (train_df['Name_Length'] <= 28), 'Name_Size'] = 1\n",
    "train_df.loc[(train_df['Name_Length'] > 28) & (train_df['Name_Length'] <= 82), 'Name_Size'] = 2\n",
    "train_df.loc[train_df['Name_Length'] > 82, 'Name_Size'] \n",
    "\n",
    "test_df.loc[test_df['Name_Length'] <= 22, 'Name_Size'] = 0\n",
    "test_df.loc[(test_df['Name_Length'] > 22) & (test_df['Name_Length'] <= 28), 'Name_Size'] = 1\n",
    "test_df.loc[(test_df['Name_Length'] > 28) & (test_df['Name_Length'] <= 82), 'Name_Size'] = 2\n",
    "test_df.loc[test_df['Name_Length'] > 82, 'Name_Size'] "
   ]
  },
  {
   "cell_type": "markdown",
   "id": "f76580f9",
   "metadata": {
    "papermill": {
     "duration": 0.030416,
     "end_time": "2025-08-26T02:22:06.593353",
     "exception": false,
     "start_time": "2025-08-26T02:22:06.562937",
     "status": "completed"
    },
    "tags": []
   },
   "source": [
    "## Ticket, TicketLocation"
   ]
  },
  {
   "cell_type": "code",
   "execution_count": 39,
   "id": "7a48f153",
   "metadata": {
    "execution": {
     "iopub.execute_input": "2025-08-26T02:22:06.649372Z",
     "iopub.status.busy": "2025-08-26T02:22:06.648360Z",
     "iopub.status.idle": "2025-08-26T02:22:06.657665Z",
     "shell.execute_reply": "2025-08-26T02:22:06.656317Z"
    },
    "papermill": {
     "duration": 0.04151,
     "end_time": "2025-08-26T02:22:06.660357",
     "exception": false,
     "start_time": "2025-08-26T02:22:06.618847",
     "status": "completed"
    },
    "tags": []
   },
   "outputs": [
    {
     "data": {
      "text/plain": [
       "0             A/5 21171\n",
       "1              PC 17599\n",
       "2      STON/O2. 3101282\n",
       "3                113803\n",
       "4                373450\n",
       "             ...       \n",
       "886              211536\n",
       "887              112053\n",
       "888          W./C. 6607\n",
       "889              111369\n",
       "890              370376\n",
       "Name: Ticket, Length: 891, dtype: object"
      ]
     },
     "execution_count": 39,
     "metadata": {},
     "output_type": "execute_result"
    }
   ],
   "source": [
    "train_df['Ticket']"
   ]
  },
  {
   "cell_type": "code",
   "execution_count": 40,
   "id": "98d512a9",
   "metadata": {
    "execution": {
     "iopub.execute_input": "2025-08-26T02:22:06.712247Z",
     "iopub.status.busy": "2025-08-26T02:22:06.711869Z",
     "iopub.status.idle": "2025-08-26T02:22:06.923944Z",
     "shell.execute_reply": "2025-08-26T02:22:06.922415Z"
    },
    "papermill": {
     "duration": 0.240381,
     "end_time": "2025-08-26T02:22:06.927177",
     "exception": false,
     "start_time": "2025-08-26T02:22:06.686796",
     "status": "completed"
    },
    "tags": []
   },
   "outputs": [
    {
     "data": {
      "text/html": [
       "<div>\n",
       "<style scoped>\n",
       "    .dataframe tbody tr th:only-of-type {\n",
       "        vertical-align: middle;\n",
       "    }\n",
       "\n",
       "    .dataframe tbody tr th {\n",
       "        vertical-align: top;\n",
       "    }\n",
       "\n",
       "    .dataframe thead th {\n",
       "        text-align: right;\n",
       "    }\n",
       "</style>\n",
       "<table border=\"1\" class=\"dataframe\">\n",
       "  <thead>\n",
       "    <tr style=\"text-align: right;\">\n",
       "      <th></th>\n",
       "      <th>Ticket</th>\n",
       "    </tr>\n",
       "  </thead>\n",
       "  <tbody>\n",
       "    <tr>\n",
       "      <th>0</th>\n",
       "      <td>21171</td>\n",
       "    </tr>\n",
       "    <tr>\n",
       "      <th>1</th>\n",
       "      <td>17599</td>\n",
       "    </tr>\n",
       "    <tr>\n",
       "      <th>2</th>\n",
       "      <td>3101282</td>\n",
       "    </tr>\n",
       "    <tr>\n",
       "      <th>3</th>\n",
       "      <td>113803</td>\n",
       "    </tr>\n",
       "    <tr>\n",
       "      <th>4</th>\n",
       "      <td>373450</td>\n",
       "    </tr>\n",
       "    <tr>\n",
       "      <th>...</th>\n",
       "      <td>...</td>\n",
       "    </tr>\n",
       "    <tr>\n",
       "      <th>886</th>\n",
       "      <td>211536</td>\n",
       "    </tr>\n",
       "    <tr>\n",
       "      <th>887</th>\n",
       "      <td>112053</td>\n",
       "    </tr>\n",
       "    <tr>\n",
       "      <th>888</th>\n",
       "      <td>6607</td>\n",
       "    </tr>\n",
       "    <tr>\n",
       "      <th>889</th>\n",
       "      <td>111369</td>\n",
       "    </tr>\n",
       "    <tr>\n",
       "      <th>890</th>\n",
       "      <td>370376</td>\n",
       "    </tr>\n",
       "  </tbody>\n",
       "</table>\n",
       "<p>891 rows × 1 columns</p>\n",
       "</div>"
      ],
      "text/plain": [
       "      Ticket\n",
       "0      21171\n",
       "1      17599\n",
       "2    3101282\n",
       "3     113803\n",
       "4     373450\n",
       "..       ...\n",
       "886   211536\n",
       "887   112053\n",
       "888     6607\n",
       "889   111369\n",
       "890   370376\n",
       "\n",
       "[891 rows x 1 columns]"
      ]
     },
     "execution_count": 40,
     "metadata": {},
     "output_type": "execute_result"
    }
   ],
   "source": [
    "train_df['Ticket'].apply(lambda x: pd.Series({'Ticket':x.split()[-1]}))"
   ]
  },
  {
   "cell_type": "code",
   "execution_count": 41,
   "id": "1ff09d04",
   "metadata": {
    "execution": {
     "iopub.execute_input": "2025-08-26T02:22:06.991824Z",
     "iopub.status.busy": "2025-08-26T02:22:06.991384Z",
     "iopub.status.idle": "2025-08-26T02:22:07.456054Z",
     "shell.execute_reply": "2025-08-26T02:22:07.454279Z"
    },
    "papermill": {
     "duration": 0.498309,
     "end_time": "2025-08-26T02:22:07.458772",
     "exception": false,
     "start_time": "2025-08-26T02:22:06.960463",
     "status": "completed"
    },
    "tags": []
   },
   "outputs": [],
   "source": [
    "train_df['TicketNumber'] = train_df['Ticket'].apply(lambda x: pd.Series({'Ticket':x.split()[-1]}))\n",
    "test_df['TicketNumber'] = test_df['Ticket'].apply(lambda x: pd.Series({'Ticket':x.split()[-1]}))"
   ]
  },
  {
   "cell_type": "code",
   "execution_count": 42,
   "id": "a88684af",
   "metadata": {
    "execution": {
     "iopub.execute_input": "2025-08-26T02:22:07.518344Z",
     "iopub.status.busy": "2025-08-26T02:22:07.517661Z",
     "iopub.status.idle": "2025-08-26T02:22:07.542051Z",
     "shell.execute_reply": "2025-08-26T02:22:07.539030Z"
    },
    "papermill": {
     "duration": 0.052896,
     "end_time": "2025-08-26T02:22:07.544245",
     "exception": false,
     "start_time": "2025-08-26T02:22:07.491349",
     "status": "completed"
    },
    "tags": []
   },
   "outputs": [
    {
     "data": {
      "text/html": [
       "<div>\n",
       "<style scoped>\n",
       "    .dataframe tbody tr th:only-of-type {\n",
       "        vertical-align: middle;\n",
       "    }\n",
       "\n",
       "    .dataframe tbody tr th {\n",
       "        vertical-align: top;\n",
       "    }\n",
       "\n",
       "    .dataframe thead th {\n",
       "        text-align: right;\n",
       "    }\n",
       "</style>\n",
       "<table border=\"1\" class=\"dataframe\">\n",
       "  <thead>\n",
       "    <tr style=\"text-align: right;\">\n",
       "      <th></th>\n",
       "      <th>TicketNumber</th>\n",
       "      <th>count</th>\n",
       "      <th>mean</th>\n",
       "    </tr>\n",
       "  </thead>\n",
       "  <tbody>\n",
       "    <tr>\n",
       "      <th>0</th>\n",
       "      <td>10482</td>\n",
       "      <td>1</td>\n",
       "      <td>1.000000</td>\n",
       "    </tr>\n",
       "    <tr>\n",
       "      <th>428</th>\n",
       "      <td>345364</td>\n",
       "      <td>1</td>\n",
       "      <td>0.000000</td>\n",
       "    </tr>\n",
       "    <tr>\n",
       "      <th>429</th>\n",
       "      <td>345572</td>\n",
       "      <td>1</td>\n",
       "      <td>1.000000</td>\n",
       "    </tr>\n",
       "    <tr>\n",
       "      <th>430</th>\n",
       "      <td>345763</td>\n",
       "      <td>1</td>\n",
       "      <td>0.000000</td>\n",
       "    </tr>\n",
       "    <tr>\n",
       "      <th>432</th>\n",
       "      <td>345765</td>\n",
       "      <td>1</td>\n",
       "      <td>0.000000</td>\n",
       "    </tr>\n",
       "    <tr>\n",
       "      <th>...</th>\n",
       "      <td>...</td>\n",
       "      <td>...</td>\n",
       "      <td>...</td>\n",
       "    </tr>\n",
       "    <tr>\n",
       "      <th>168</th>\n",
       "      <td>2144</td>\n",
       "      <td>6</td>\n",
       "      <td>0.000000</td>\n",
       "    </tr>\n",
       "    <tr>\n",
       "      <th>468</th>\n",
       "      <td>347088</td>\n",
       "      <td>6</td>\n",
       "      <td>0.000000</td>\n",
       "    </tr>\n",
       "    <tr>\n",
       "      <th>464</th>\n",
       "      <td>347082</td>\n",
       "      <td>7</td>\n",
       "      <td>0.000000</td>\n",
       "    </tr>\n",
       "    <tr>\n",
       "      <th>196</th>\n",
       "      <td>2343</td>\n",
       "      <td>7</td>\n",
       "      <td>0.000000</td>\n",
       "    </tr>\n",
       "    <tr>\n",
       "      <th>94</th>\n",
       "      <td>1601</td>\n",
       "      <td>7</td>\n",
       "      <td>0.714286</td>\n",
       "    </tr>\n",
       "  </tbody>\n",
       "</table>\n",
       "<p>679 rows × 3 columns</p>\n",
       "</div>"
      ],
      "text/plain": [
       "    TicketNumber  count      mean\n",
       "0          10482      1  1.000000\n",
       "428       345364      1  0.000000\n",
       "429       345572      1  1.000000\n",
       "430       345763      1  0.000000\n",
       "432       345765      1  0.000000\n",
       "..           ...    ...       ...\n",
       "168         2144      6  0.000000\n",
       "468       347088      6  0.000000\n",
       "464       347082      7  0.000000\n",
       "196         2343      7  0.000000\n",
       "94          1601      7  0.714286\n",
       "\n",
       "[679 rows x 3 columns]"
      ]
     },
     "execution_count": 42,
     "metadata": {},
     "output_type": "execute_result"
    }
   ],
   "source": [
    "train_df.groupby(['TicketNumber'], as_index=False)['Survived'].agg(['count','mean']).sort_values('count')"
   ]
  },
  {
   "cell_type": "code",
   "execution_count": 43,
   "id": "be111957",
   "metadata": {
    "execution": {
     "iopub.execute_input": "2025-08-26T02:22:07.611813Z",
     "iopub.status.busy": "2025-08-26T02:22:07.611418Z",
     "iopub.status.idle": "2025-08-26T02:22:07.628878Z",
     "shell.execute_reply": "2025-08-26T02:22:07.626557Z"
    },
    "papermill": {
     "duration": 0.057012,
     "end_time": "2025-08-26T02:22:07.632735",
     "exception": false,
     "start_time": "2025-08-26T02:22:07.575723",
     "status": "completed"
    },
    "tags": []
   },
   "outputs": [
    {
     "data": {
      "text/plain": [
       "0      1\n",
       "1      1\n",
       "2      1\n",
       "3      2\n",
       "4      1\n",
       "      ..\n",
       "886    1\n",
       "887    1\n",
       "888    2\n",
       "889    1\n",
       "890    1\n",
       "Name: TicketNumber, Length: 891, dtype: int64"
      ]
     },
     "execution_count": 43,
     "metadata": {},
     "output_type": "execute_result"
    }
   ],
   "source": [
    "train_df.groupby('TicketNumber')['TicketNumber'].transform('count')"
   ]
  },
  {
   "cell_type": "code",
   "execution_count": 44,
   "id": "1cc346cc",
   "metadata": {
    "execution": {
     "iopub.execute_input": "2025-08-26T02:22:07.700425Z",
     "iopub.status.busy": "2025-08-26T02:22:07.699865Z",
     "iopub.status.idle": "2025-08-26T02:22:07.712981Z",
     "shell.execute_reply": "2025-08-26T02:22:07.711281Z"
    },
    "papermill": {
     "duration": 0.054861,
     "end_time": "2025-08-26T02:22:07.715442",
     "exception": false,
     "start_time": "2025-08-26T02:22:07.660581",
     "status": "completed"
    },
    "tags": []
   },
   "outputs": [],
   "source": [
    "train_df['TicketNumberCounts']=train_df.groupby('TicketNumber')['TicketNumber'].transform('count')\n",
    "test_df['TicketNumberCounts']=test_df.groupby('TicketNumber')['TicketNumber'].transform('count')"
   ]
  },
  {
   "cell_type": "code",
   "execution_count": 45,
   "id": "e36efb3c",
   "metadata": {
    "execution": {
     "iopub.execute_input": "2025-08-26T02:22:07.776645Z",
     "iopub.status.busy": "2025-08-26T02:22:07.776255Z",
     "iopub.status.idle": "2025-08-26T02:22:07.797121Z",
     "shell.execute_reply": "2025-08-26T02:22:07.795075Z"
    },
    "papermill": {
     "duration": 0.053266,
     "end_time": "2025-08-26T02:22:07.800663",
     "exception": false,
     "start_time": "2025-08-26T02:22:07.747397",
     "status": "completed"
    },
    "tags": []
   },
   "outputs": [
    {
     "data": {
      "text/html": [
       "<div>\n",
       "<style scoped>\n",
       "    .dataframe tbody tr th:only-of-type {\n",
       "        vertical-align: middle;\n",
       "    }\n",
       "\n",
       "    .dataframe tbody tr th {\n",
       "        vertical-align: top;\n",
       "    }\n",
       "\n",
       "    .dataframe thead th {\n",
       "        text-align: right;\n",
       "    }\n",
       "</style>\n",
       "<table border=\"1\" class=\"dataframe\">\n",
       "  <thead>\n",
       "    <tr style=\"text-align: right;\">\n",
       "      <th></th>\n",
       "      <th>TicketNumberCounts</th>\n",
       "      <th>count</th>\n",
       "      <th>mean</th>\n",
       "    </tr>\n",
       "  </thead>\n",
       "  <tbody>\n",
       "    <tr>\n",
       "      <th>0</th>\n",
       "      <td>1</td>\n",
       "      <td>544</td>\n",
       "      <td>0.295956</td>\n",
       "    </tr>\n",
       "    <tr>\n",
       "      <th>1</th>\n",
       "      <td>2</td>\n",
       "      <td>188</td>\n",
       "      <td>0.569149</td>\n",
       "    </tr>\n",
       "    <tr>\n",
       "      <th>2</th>\n",
       "      <td>3</td>\n",
       "      <td>66</td>\n",
       "      <td>0.712121</td>\n",
       "    </tr>\n",
       "    <tr>\n",
       "      <th>3</th>\n",
       "      <td>4</td>\n",
       "      <td>44</td>\n",
       "      <td>0.500000</td>\n",
       "    </tr>\n",
       "    <tr>\n",
       "      <th>6</th>\n",
       "      <td>7</td>\n",
       "      <td>21</td>\n",
       "      <td>0.238095</td>\n",
       "    </tr>\n",
       "    <tr>\n",
       "      <th>5</th>\n",
       "      <td>6</td>\n",
       "      <td>18</td>\n",
       "      <td>0.000000</td>\n",
       "    </tr>\n",
       "    <tr>\n",
       "      <th>4</th>\n",
       "      <td>5</td>\n",
       "      <td>10</td>\n",
       "      <td>0.000000</td>\n",
       "    </tr>\n",
       "  </tbody>\n",
       "</table>\n",
       "</div>"
      ],
      "text/plain": [
       "   TicketNumberCounts  count      mean\n",
       "0                   1    544  0.295956\n",
       "1                   2    188  0.569149\n",
       "2                   3     66  0.712121\n",
       "3                   4     44  0.500000\n",
       "6                   7     21  0.238095\n",
       "5                   6     18  0.000000\n",
       "4                   5     10  0.000000"
      ]
     },
     "execution_count": 45,
     "metadata": {},
     "output_type": "execute_result"
    }
   ],
   "source": [
    "train_df.groupby(['TicketNumberCounts'], as_index=False)['Survived'].agg(['count', 'mean']).sort_values('count', ascending=False)"
   ]
  },
  {
   "cell_type": "code",
   "execution_count": 46,
   "id": "f5f6f53e",
   "metadata": {
    "execution": {
     "iopub.execute_input": "2025-08-26T02:22:07.873297Z",
     "iopub.status.busy": "2025-08-26T02:22:07.872714Z",
     "iopub.status.idle": "2025-08-26T02:22:07.885420Z",
     "shell.execute_reply": "2025-08-26T02:22:07.883301Z"
    },
    "papermill": {
     "duration": 0.051615,
     "end_time": "2025-08-26T02:22:07.889478",
     "exception": false,
     "start_time": "2025-08-26T02:22:07.837863",
     "status": "completed"
    },
    "tags": []
   },
   "outputs": [
    {
     "data": {
      "text/plain": [
       "0             A/5 21171\n",
       "1              PC 17599\n",
       "2      STON/O2. 3101282\n",
       "3                113803\n",
       "4                373450\n",
       "             ...       \n",
       "886              211536\n",
       "887              112053\n",
       "888          W./C. 6607\n",
       "889              111369\n",
       "890              370376\n",
       "Name: Ticket, Length: 891, dtype: object"
      ]
     },
     "execution_count": 46,
     "metadata": {},
     "output_type": "execute_result"
    }
   ],
   "source": [
    "train_df['Ticket']"
   ]
  },
  {
   "cell_type": "code",
   "execution_count": 47,
   "id": "accc5d0b",
   "metadata": {
    "execution": {
     "iopub.execute_input": "2025-08-26T02:22:07.954594Z",
     "iopub.status.busy": "2025-08-26T02:22:07.954208Z",
     "iopub.status.idle": "2025-08-26T02:22:07.976758Z",
     "shell.execute_reply": "2025-08-26T02:22:07.975530Z"
    },
    "papermill": {
     "duration": 0.0582,
     "end_time": "2025-08-26T02:22:07.978933",
     "exception": false,
     "start_time": "2025-08-26T02:22:07.920733",
     "status": "completed"
    },
    "tags": []
   },
   "outputs": [
    {
     "data": {
      "text/html": [
       "<div>\n",
       "<style scoped>\n",
       "    .dataframe tbody tr th:only-of-type {\n",
       "        vertical-align: middle;\n",
       "    }\n",
       "\n",
       "    .dataframe tbody tr th {\n",
       "        vertical-align: top;\n",
       "    }\n",
       "\n",
       "    .dataframe thead th {\n",
       "        text-align: right;\n",
       "    }\n",
       "</style>\n",
       "<table border=\"1\" class=\"dataframe\">\n",
       "  <thead>\n",
       "    <tr style=\"text-align: right;\">\n",
       "      <th></th>\n",
       "      <th>0</th>\n",
       "      <th>1</th>\n",
       "      <th>2</th>\n",
       "    </tr>\n",
       "  </thead>\n",
       "  <tbody>\n",
       "    <tr>\n",
       "      <th>0</th>\n",
       "      <td>A/5</td>\n",
       "      <td>21171</td>\n",
       "      <td>None</td>\n",
       "    </tr>\n",
       "    <tr>\n",
       "      <th>1</th>\n",
       "      <td>PC</td>\n",
       "      <td>17599</td>\n",
       "      <td>None</td>\n",
       "    </tr>\n",
       "    <tr>\n",
       "      <th>2</th>\n",
       "      <td>STON/O2.</td>\n",
       "      <td>3101282</td>\n",
       "      <td>None</td>\n",
       "    </tr>\n",
       "    <tr>\n",
       "      <th>3</th>\n",
       "      <td>113803</td>\n",
       "      <td>None</td>\n",
       "      <td>None</td>\n",
       "    </tr>\n",
       "    <tr>\n",
       "      <th>4</th>\n",
       "      <td>373450</td>\n",
       "      <td>None</td>\n",
       "      <td>None</td>\n",
       "    </tr>\n",
       "    <tr>\n",
       "      <th>...</th>\n",
       "      <td>...</td>\n",
       "      <td>...</td>\n",
       "      <td>...</td>\n",
       "    </tr>\n",
       "    <tr>\n",
       "      <th>886</th>\n",
       "      <td>211536</td>\n",
       "      <td>None</td>\n",
       "      <td>None</td>\n",
       "    </tr>\n",
       "    <tr>\n",
       "      <th>887</th>\n",
       "      <td>112053</td>\n",
       "      <td>None</td>\n",
       "      <td>None</td>\n",
       "    </tr>\n",
       "    <tr>\n",
       "      <th>888</th>\n",
       "      <td>W./C.</td>\n",
       "      <td>6607</td>\n",
       "      <td>None</td>\n",
       "    </tr>\n",
       "    <tr>\n",
       "      <th>889</th>\n",
       "      <td>111369</td>\n",
       "      <td>None</td>\n",
       "      <td>None</td>\n",
       "    </tr>\n",
       "    <tr>\n",
       "      <th>890</th>\n",
       "      <td>370376</td>\n",
       "      <td>None</td>\n",
       "      <td>None</td>\n",
       "    </tr>\n",
       "  </tbody>\n",
       "</table>\n",
       "<p>891 rows × 3 columns</p>\n",
       "</div>"
      ],
      "text/plain": [
       "            0        1     2\n",
       "0         A/5    21171  None\n",
       "1          PC    17599  None\n",
       "2    STON/O2.  3101282  None\n",
       "3      113803     None  None\n",
       "4      373450     None  None\n",
       "..        ...      ...   ...\n",
       "886    211536     None  None\n",
       "887    112053     None  None\n",
       "888     W./C.     6607  None\n",
       "889    111369     None  None\n",
       "890    370376     None  None\n",
       "\n",
       "[891 rows x 3 columns]"
      ]
     },
     "execution_count": 47,
     "metadata": {},
     "output_type": "execute_result"
    }
   ],
   "source": [
    "train_df['Ticket'].str.split(pat=\" \", expand=True)"
   ]
  },
  {
   "cell_type": "code",
   "execution_count": 48,
   "id": "f99540a0",
   "metadata": {
    "execution": {
     "iopub.execute_input": "2025-08-26T02:22:08.038421Z",
     "iopub.status.busy": "2025-08-26T02:22:08.037970Z",
     "iopub.status.idle": "2025-08-26T02:22:08.057918Z",
     "shell.execute_reply": "2025-08-26T02:22:08.056463Z"
    },
    "papermill": {
     "duration": 0.055958,
     "end_time": "2025-08-26T02:22:08.062725",
     "exception": false,
     "start_time": "2025-08-26T02:22:08.006767",
     "status": "completed"
    },
    "tags": []
   },
   "outputs": [],
   "source": [
    "train_df['TicketLocation'] = np.where(train_df['Ticket'].str.split(pat=\" \", expand=True)[1].notna(), train_df['Ticket'].str.split(pat=\" \", expand=True)[0].apply(lambda x: x.strip()), 'Blank')\n",
    "test_df['TicketLocation'] = np.where(test_df['Ticket'].str.split(pat=\" \", expand=True)[1].notna(), test_df['Ticket'].str.split(pat=\" \", expand=True)[0].apply(lambda x: x.strip()), 'Blank')"
   ]
  },
  {
   "cell_type": "code",
   "execution_count": 49,
   "id": "7627a0a2",
   "metadata": {
    "execution": {
     "iopub.execute_input": "2025-08-26T02:22:08.124800Z",
     "iopub.status.busy": "2025-08-26T02:22:08.124252Z",
     "iopub.status.idle": "2025-08-26T02:22:08.137591Z",
     "shell.execute_reply": "2025-08-26T02:22:08.135225Z"
    },
    "papermill": {
     "duration": 0.046124,
     "end_time": "2025-08-26T02:22:08.141131",
     "exception": false,
     "start_time": "2025-08-26T02:22:08.095007",
     "status": "completed"
    },
    "tags": []
   },
   "outputs": [
    {
     "data": {
      "text/plain": [
       "TicketLocation\n",
       "Blank         665\n",
       "PC             60\n",
       "C.A.           27\n",
       "STON/O         12\n",
       "A/5            10\n",
       "W./C.           9\n",
       "CA.             8\n",
       "SOTON/O.Q.      8\n",
       "SOTON/OQ        7\n",
       "A/5.            7\n",
       "CA              6\n",
       "STON/O2.        6\n",
       "C               5\n",
       "F.C.C.          5\n",
       "S.O.C.          5\n",
       "SC/PARIS        5\n",
       "SC/Paris        4\n",
       "S.O./P.P.       3\n",
       "PP              3\n",
       "A/4.            3\n",
       "A/4             3\n",
       "SC/AH           3\n",
       "A./5.           2\n",
       "SOTON/O2        2\n",
       "A.5.            2\n",
       "WE/P            2\n",
       "S.C./PARIS      2\n",
       "P/PP            2\n",
       "F.C.            1\n",
       "SC              1\n",
       "S.W./PP         1\n",
       "A/S             1\n",
       "Fa              1\n",
       "SCO/W           1\n",
       "SW/PP           1\n",
       "W/C             1\n",
       "S.C./A.4.       1\n",
       "S.O.P.          1\n",
       "A4.             1\n",
       "W.E.P.          1\n",
       "SO/C            1\n",
       "S.P.            1\n",
       "C.A./SOTON      1\n",
       "Name: count, dtype: int64"
      ]
     },
     "execution_count": 49,
     "metadata": {},
     "output_type": "execute_result"
    }
   ],
   "source": [
    "train_df['TicketLocation'].value_counts()"
   ]
  },
  {
   "cell_type": "code",
   "execution_count": 50,
   "id": "abcaa094",
   "metadata": {
    "execution": {
     "iopub.execute_input": "2025-08-26T02:22:08.206472Z",
     "iopub.status.busy": "2025-08-26T02:22:08.204808Z",
     "iopub.status.idle": "2025-08-26T02:22:08.225126Z",
     "shell.execute_reply": "2025-08-26T02:22:08.222378Z"
    },
    "papermill": {
     "duration": 0.05767,
     "end_time": "2025-08-26T02:22:08.227867",
     "exception": false,
     "start_time": "2025-08-26T02:22:08.170197",
     "status": "completed"
    },
    "tags": []
   },
   "outputs": [],
   "source": [
    "#Cleaning Data\n",
    "train_df['TicketLocation'] = train_df['TicketLocation'].replace({\n",
    "    'SOTON/O.Q.':'SOTON/OQ',\n",
    "    'C.A.':'CA',\n",
    "    'CA.':'CA',\n",
    "    'SC/PARIS':'SC/Paris',\n",
    "    'S.C./PARIS':'SC/Paris',\n",
    "    'A/4.':'A/4',\n",
    "    'A/5.':'A/5',\n",
    "    'A.5.':'A/5',\n",
    "    'A./5.':'A/5',\n",
    "    'W./C.':'W/C',    \n",
    "})\n",
    "\n",
    "test_df['TicketLocation'] = test_df['TicketLocation'].replace({\n",
    "    'SOTON/O.Q.':'SOTON/OQ',\n",
    "    'C.A.':'CA',\n",
    "    'CA.':'CA',\n",
    "    'SC/PARIS':'SC/Paris',\n",
    "    'S.C./PARIS':'SC/Paris',\n",
    "    'A/4.':'A/4',\n",
    "    'A/5.':'A/5',\n",
    "    'A.5.':'A/5',\n",
    "    'A./5.':'A/5',\n",
    "    'W./C.':'W/C',    \n",
    "})"
   ]
  },
  {
   "cell_type": "code",
   "execution_count": 51,
   "id": "bb331ff4",
   "metadata": {
    "execution": {
     "iopub.execute_input": "2025-08-26T02:22:08.288123Z",
     "iopub.status.busy": "2025-08-26T02:22:08.287692Z",
     "iopub.status.idle": "2025-08-26T02:22:08.305843Z",
     "shell.execute_reply": "2025-08-26T02:22:08.302897Z"
    },
    "papermill": {
     "duration": 0.047992,
     "end_time": "2025-08-26T02:22:08.308194",
     "exception": false,
     "start_time": "2025-08-26T02:22:08.260202",
     "status": "completed"
    },
    "tags": []
   },
   "outputs": [
    {
     "data": {
      "text/html": [
       "<div>\n",
       "<style scoped>\n",
       "    .dataframe tbody tr th:only-of-type {\n",
       "        vertical-align: middle;\n",
       "    }\n",
       "\n",
       "    .dataframe tbody tr th {\n",
       "        vertical-align: top;\n",
       "    }\n",
       "\n",
       "    .dataframe thead th {\n",
       "        text-align: right;\n",
       "    }\n",
       "</style>\n",
       "<table border=\"1\" class=\"dataframe\">\n",
       "  <thead>\n",
       "    <tr style=\"text-align: right;\">\n",
       "      <th></th>\n",
       "      <th>TicketLocation</th>\n",
       "      <th>count</th>\n",
       "      <th>mean</th>\n",
       "    </tr>\n",
       "  </thead>\n",
       "  <tbody>\n",
       "    <tr>\n",
       "      <th>0</th>\n",
       "      <td>A/4</td>\n",
       "      <td>6</td>\n",
       "      <td>0.000000</td>\n",
       "    </tr>\n",
       "    <tr>\n",
       "      <th>1</th>\n",
       "      <td>A/5</td>\n",
       "      <td>21</td>\n",
       "      <td>0.095238</td>\n",
       "    </tr>\n",
       "    <tr>\n",
       "      <th>2</th>\n",
       "      <td>A/S</td>\n",
       "      <td>1</td>\n",
       "      <td>0.000000</td>\n",
       "    </tr>\n",
       "    <tr>\n",
       "      <th>3</th>\n",
       "      <td>A4.</td>\n",
       "      <td>1</td>\n",
       "      <td>0.000000</td>\n",
       "    </tr>\n",
       "    <tr>\n",
       "      <th>4</th>\n",
       "      <td>Blank</td>\n",
       "      <td>665</td>\n",
       "      <td>0.383459</td>\n",
       "    </tr>\n",
       "    <tr>\n",
       "      <th>5</th>\n",
       "      <td>C</td>\n",
       "      <td>5</td>\n",
       "      <td>0.400000</td>\n",
       "    </tr>\n",
       "    <tr>\n",
       "      <th>6</th>\n",
       "      <td>C.A./SOTON</td>\n",
       "      <td>1</td>\n",
       "      <td>0.000000</td>\n",
       "    </tr>\n",
       "    <tr>\n",
       "      <th>7</th>\n",
       "      <td>CA</td>\n",
       "      <td>41</td>\n",
       "      <td>0.341463</td>\n",
       "    </tr>\n",
       "    <tr>\n",
       "      <th>8</th>\n",
       "      <td>F.C.</td>\n",
       "      <td>1</td>\n",
       "      <td>0.000000</td>\n",
       "    </tr>\n",
       "    <tr>\n",
       "      <th>9</th>\n",
       "      <td>F.C.C.</td>\n",
       "      <td>5</td>\n",
       "      <td>0.800000</td>\n",
       "    </tr>\n",
       "    <tr>\n",
       "      <th>10</th>\n",
       "      <td>Fa</td>\n",
       "      <td>1</td>\n",
       "      <td>0.000000</td>\n",
       "    </tr>\n",
       "    <tr>\n",
       "      <th>11</th>\n",
       "      <td>P/PP</td>\n",
       "      <td>2</td>\n",
       "      <td>0.500000</td>\n",
       "    </tr>\n",
       "    <tr>\n",
       "      <th>12</th>\n",
       "      <td>PC</td>\n",
       "      <td>60</td>\n",
       "      <td>0.650000</td>\n",
       "    </tr>\n",
       "    <tr>\n",
       "      <th>13</th>\n",
       "      <td>PP</td>\n",
       "      <td>3</td>\n",
       "      <td>0.666667</td>\n",
       "    </tr>\n",
       "    <tr>\n",
       "      <th>14</th>\n",
       "      <td>S.C./A.4.</td>\n",
       "      <td>1</td>\n",
       "      <td>0.000000</td>\n",
       "    </tr>\n",
       "    <tr>\n",
       "      <th>15</th>\n",
       "      <td>S.O./P.P.</td>\n",
       "      <td>3</td>\n",
       "      <td>0.000000</td>\n",
       "    </tr>\n",
       "    <tr>\n",
       "      <th>16</th>\n",
       "      <td>S.O.C.</td>\n",
       "      <td>5</td>\n",
       "      <td>0.000000</td>\n",
       "    </tr>\n",
       "    <tr>\n",
       "      <th>17</th>\n",
       "      <td>S.O.P.</td>\n",
       "      <td>1</td>\n",
       "      <td>0.000000</td>\n",
       "    </tr>\n",
       "    <tr>\n",
       "      <th>18</th>\n",
       "      <td>S.P.</td>\n",
       "      <td>1</td>\n",
       "      <td>0.000000</td>\n",
       "    </tr>\n",
       "    <tr>\n",
       "      <th>19</th>\n",
       "      <td>S.W./PP</td>\n",
       "      <td>1</td>\n",
       "      <td>1.000000</td>\n",
       "    </tr>\n",
       "    <tr>\n",
       "      <th>20</th>\n",
       "      <td>SC</td>\n",
       "      <td>1</td>\n",
       "      <td>1.000000</td>\n",
       "    </tr>\n",
       "    <tr>\n",
       "      <th>21</th>\n",
       "      <td>SC/AH</td>\n",
       "      <td>3</td>\n",
       "      <td>0.666667</td>\n",
       "    </tr>\n",
       "    <tr>\n",
       "      <th>22</th>\n",
       "      <td>SC/Paris</td>\n",
       "      <td>11</td>\n",
       "      <td>0.454545</td>\n",
       "    </tr>\n",
       "    <tr>\n",
       "      <th>23</th>\n",
       "      <td>SCO/W</td>\n",
       "      <td>1</td>\n",
       "      <td>0.000000</td>\n",
       "    </tr>\n",
       "    <tr>\n",
       "      <th>24</th>\n",
       "      <td>SO/C</td>\n",
       "      <td>1</td>\n",
       "      <td>1.000000</td>\n",
       "    </tr>\n",
       "    <tr>\n",
       "      <th>25</th>\n",
       "      <td>SOTON/O2</td>\n",
       "      <td>2</td>\n",
       "      <td>0.000000</td>\n",
       "    </tr>\n",
       "    <tr>\n",
       "      <th>26</th>\n",
       "      <td>SOTON/OQ</td>\n",
       "      <td>15</td>\n",
       "      <td>0.133333</td>\n",
       "    </tr>\n",
       "    <tr>\n",
       "      <th>27</th>\n",
       "      <td>STON/O</td>\n",
       "      <td>12</td>\n",
       "      <td>0.416667</td>\n",
       "    </tr>\n",
       "    <tr>\n",
       "      <th>28</th>\n",
       "      <td>STON/O2.</td>\n",
       "      <td>6</td>\n",
       "      <td>0.500000</td>\n",
       "    </tr>\n",
       "    <tr>\n",
       "      <th>29</th>\n",
       "      <td>SW/PP</td>\n",
       "      <td>1</td>\n",
       "      <td>1.000000</td>\n",
       "    </tr>\n",
       "    <tr>\n",
       "      <th>30</th>\n",
       "      <td>W.E.P.</td>\n",
       "      <td>1</td>\n",
       "      <td>0.000000</td>\n",
       "    </tr>\n",
       "    <tr>\n",
       "      <th>31</th>\n",
       "      <td>W/C</td>\n",
       "      <td>10</td>\n",
       "      <td>0.100000</td>\n",
       "    </tr>\n",
       "    <tr>\n",
       "      <th>32</th>\n",
       "      <td>WE/P</td>\n",
       "      <td>2</td>\n",
       "      <td>0.500000</td>\n",
       "    </tr>\n",
       "  </tbody>\n",
       "</table>\n",
       "</div>"
      ],
      "text/plain": [
       "   TicketLocation  count      mean\n",
       "0             A/4      6  0.000000\n",
       "1             A/5     21  0.095238\n",
       "2             A/S      1  0.000000\n",
       "3             A4.      1  0.000000\n",
       "4           Blank    665  0.383459\n",
       "5               C      5  0.400000\n",
       "6      C.A./SOTON      1  0.000000\n",
       "7              CA     41  0.341463\n",
       "8            F.C.      1  0.000000\n",
       "9          F.C.C.      5  0.800000\n",
       "10             Fa      1  0.000000\n",
       "11           P/PP      2  0.500000\n",
       "12             PC     60  0.650000\n",
       "13             PP      3  0.666667\n",
       "14      S.C./A.4.      1  0.000000\n",
       "15      S.O./P.P.      3  0.000000\n",
       "16         S.O.C.      5  0.000000\n",
       "17         S.O.P.      1  0.000000\n",
       "18           S.P.      1  0.000000\n",
       "19        S.W./PP      1  1.000000\n",
       "20             SC      1  1.000000\n",
       "21          SC/AH      3  0.666667\n",
       "22       SC/Paris     11  0.454545\n",
       "23          SCO/W      1  0.000000\n",
       "24           SO/C      1  1.000000\n",
       "25       SOTON/O2      2  0.000000\n",
       "26       SOTON/OQ     15  0.133333\n",
       "27         STON/O     12  0.416667\n",
       "28       STON/O2.      6  0.500000\n",
       "29          SW/PP      1  1.000000\n",
       "30         W.E.P.      1  0.000000\n",
       "31            W/C     10  0.100000\n",
       "32           WE/P      2  0.500000"
      ]
     },
     "execution_count": 51,
     "metadata": {},
     "output_type": "execute_result"
    }
   ],
   "source": [
    "train_df.groupby(['TicketLocation'], as_index=False)['Survived'].agg(['count', 'mean'])"
   ]
  },
  {
   "cell_type": "markdown",
   "id": "bb48c23f",
   "metadata": {
    "papermill": {
     "duration": 0.025164,
     "end_time": "2025-08-26T02:22:08.357858",
     "exception": false,
     "start_time": "2025-08-26T02:22:08.332694",
     "status": "completed"
    },
    "tags": []
   },
   "source": [
    "Got the tickets departure and survival percentages based on the type of ticket"
   ]
  },
  {
   "cell_type": "markdown",
   "id": "b9be642e",
   "metadata": {
    "papermill": {
     "duration": 0.026151,
     "end_time": "2025-08-26T02:22:08.408670",
     "exception": false,
     "start_time": "2025-08-26T02:22:08.382519",
     "status": "completed"
    },
    "tags": []
   },
   "source": [
    "## Creating a New Column: Cleaning NaN Cabins And Cabin_Assigned(0 or 1) "
   ]
  },
  {
   "cell_type": "code",
   "execution_count": 52,
   "id": "06c50eb8",
   "metadata": {
    "execution": {
     "iopub.execute_input": "2025-08-26T02:22:08.489031Z",
     "iopub.status.busy": "2025-08-26T02:22:08.488646Z",
     "iopub.status.idle": "2025-08-26T02:22:08.499308Z",
     "shell.execute_reply": "2025-08-26T02:22:08.498343Z"
    },
    "papermill": {
     "duration": 0.066498,
     "end_time": "2025-08-26T02:22:08.501324",
     "exception": false,
     "start_time": "2025-08-26T02:22:08.434826",
     "status": "completed"
    },
    "tags": []
   },
   "outputs": [],
   "source": [
    "train_df['Cabin'] = train_df['Cabin'].fillna('U') #NA will be Not Asigned Cabins\n",
    "train_df['Cabin'] = pd.Series([i[0] if not pd.isnull(i) else 'x' for i in train_df['Cabin']])\n",
    "\n",
    "test_df['Cabin'] = test_df['Cabin'].fillna('U')  \n",
    "test_df['Cabin'] = pd.Series([i[0] if not pd.isnull(i) else 'x' for i in test_df['Cabin']])"
   ]
  },
  {
   "cell_type": "code",
   "execution_count": 53,
   "id": "ec9ca799",
   "metadata": {
    "execution": {
     "iopub.execute_input": "2025-08-26T02:22:08.551823Z",
     "iopub.status.busy": "2025-08-26T02:22:08.551462Z",
     "iopub.status.idle": "2025-08-26T02:22:08.571562Z",
     "shell.execute_reply": "2025-08-26T02:22:08.570127Z"
    },
    "papermill": {
     "duration": 0.049192,
     "end_time": "2025-08-26T02:22:08.573474",
     "exception": false,
     "start_time": "2025-08-26T02:22:08.524282",
     "status": "completed"
    },
    "tags": []
   },
   "outputs": [
    {
     "data": {
      "text/html": [
       "<div>\n",
       "<style scoped>\n",
       "    .dataframe tbody tr th:only-of-type {\n",
       "        vertical-align: middle;\n",
       "    }\n",
       "\n",
       "    .dataframe tbody tr th {\n",
       "        vertical-align: top;\n",
       "    }\n",
       "\n",
       "    .dataframe thead th {\n",
       "        text-align: right;\n",
       "    }\n",
       "</style>\n",
       "<table border=\"1\" class=\"dataframe\">\n",
       "  <thead>\n",
       "    <tr style=\"text-align: right;\">\n",
       "      <th></th>\n",
       "      <th>Cabin</th>\n",
       "      <th>count</th>\n",
       "      <th>mean</th>\n",
       "    </tr>\n",
       "  </thead>\n",
       "  <tbody>\n",
       "    <tr>\n",
       "      <th>0</th>\n",
       "      <td>A</td>\n",
       "      <td>15</td>\n",
       "      <td>0.466667</td>\n",
       "    </tr>\n",
       "    <tr>\n",
       "      <th>1</th>\n",
       "      <td>B</td>\n",
       "      <td>47</td>\n",
       "      <td>0.744681</td>\n",
       "    </tr>\n",
       "    <tr>\n",
       "      <th>2</th>\n",
       "      <td>C</td>\n",
       "      <td>59</td>\n",
       "      <td>0.593220</td>\n",
       "    </tr>\n",
       "    <tr>\n",
       "      <th>3</th>\n",
       "      <td>D</td>\n",
       "      <td>33</td>\n",
       "      <td>0.757576</td>\n",
       "    </tr>\n",
       "    <tr>\n",
       "      <th>4</th>\n",
       "      <td>E</td>\n",
       "      <td>32</td>\n",
       "      <td>0.750000</td>\n",
       "    </tr>\n",
       "    <tr>\n",
       "      <th>5</th>\n",
       "      <td>F</td>\n",
       "      <td>13</td>\n",
       "      <td>0.615385</td>\n",
       "    </tr>\n",
       "    <tr>\n",
       "      <th>6</th>\n",
       "      <td>G</td>\n",
       "      <td>4</td>\n",
       "      <td>0.500000</td>\n",
       "    </tr>\n",
       "    <tr>\n",
       "      <th>7</th>\n",
       "      <td>T</td>\n",
       "      <td>1</td>\n",
       "      <td>0.000000</td>\n",
       "    </tr>\n",
       "    <tr>\n",
       "      <th>8</th>\n",
       "      <td>U</td>\n",
       "      <td>687</td>\n",
       "      <td>0.299854</td>\n",
       "    </tr>\n",
       "  </tbody>\n",
       "</table>\n",
       "</div>"
      ],
      "text/plain": [
       "  Cabin  count      mean\n",
       "0     A     15  0.466667\n",
       "1     B     47  0.744681\n",
       "2     C     59  0.593220\n",
       "3     D     33  0.757576\n",
       "4     E     32  0.750000\n",
       "5     F     13  0.615385\n",
       "6     G      4  0.500000\n",
       "7     T      1  0.000000\n",
       "8     U    687  0.299854"
      ]
     },
     "execution_count": 53,
     "metadata": {},
     "output_type": "execute_result"
    }
   ],
   "source": [
    "train_df.groupby(['Cabin'], as_index=False)['Survived'].agg(['count', 'mean'])"
   ]
  },
  {
   "cell_type": "markdown",
   "id": "34565305",
   "metadata": {
    "papermill": {
     "duration": 0.024542,
     "end_time": "2025-08-26T02:22:08.624416",
     "exception": false,
     "start_time": "2025-08-26T02:22:08.599874",
     "status": "completed"
    },
    "tags": []
   },
   "source": [
    "**Insights Won**\n",
    "<br></br>\n",
    "People with assigned cabins are more prospense to survive"
   ]
  },
  {
   "cell_type": "code",
   "execution_count": 54,
   "id": "d91251cd",
   "metadata": {
    "execution": {
     "iopub.execute_input": "2025-08-26T02:22:08.676920Z",
     "iopub.status.busy": "2025-08-26T02:22:08.675473Z",
     "iopub.status.idle": "2025-08-26T02:22:08.694816Z",
     "shell.execute_reply": "2025-08-26T02:22:08.693547Z"
    },
    "papermill": {
     "duration": 0.048003,
     "end_time": "2025-08-26T02:22:08.696992",
     "exception": false,
     "start_time": "2025-08-26T02:22:08.648989",
     "status": "completed"
    },
    "tags": []
   },
   "outputs": [
    {
     "data": {
      "text/html": [
       "<div>\n",
       "<style scoped>\n",
       "    .dataframe tbody tr th:only-of-type {\n",
       "        vertical-align: middle;\n",
       "    }\n",
       "\n",
       "    .dataframe tbody tr th {\n",
       "        vertical-align: top;\n",
       "    }\n",
       "\n",
       "    .dataframe thead th {\n",
       "        text-align: right;\n",
       "    }\n",
       "</style>\n",
       "<table border=\"1\" class=\"dataframe\">\n",
       "  <thead>\n",
       "    <tr style=\"text-align: right;\">\n",
       "      <th></th>\n",
       "      <th>Cabin_Assigned</th>\n",
       "      <th>count</th>\n",
       "      <th>mean</th>\n",
       "    </tr>\n",
       "  </thead>\n",
       "  <tbody>\n",
       "    <tr>\n",
       "      <th>0</th>\n",
       "      <td>0</td>\n",
       "      <td>687</td>\n",
       "      <td>0.299854</td>\n",
       "    </tr>\n",
       "    <tr>\n",
       "      <th>1</th>\n",
       "      <td>1</td>\n",
       "      <td>204</td>\n",
       "      <td>0.666667</td>\n",
       "    </tr>\n",
       "  </tbody>\n",
       "</table>\n",
       "</div>"
      ],
      "text/plain": [
       "   Cabin_Assigned  count      mean\n",
       "0               0    687  0.299854\n",
       "1               1    204  0.666667"
      ]
     },
     "execution_count": 54,
     "metadata": {},
     "output_type": "execute_result"
    }
   ],
   "source": [
    "train_df['Cabin_Assigned'] = train_df['Cabin'].apply(lambda x: 0 if x in ['U'] else 1)\n",
    "test_df['Cabin_Assigned'] = test_df['Cabin'].apply(lambda x: 0 if x in ['U'] else 1)\n",
    "train_df.groupby(['Cabin_Assigned'], as_index=False)['Survived'].agg(['count', 'mean'])"
   ]
  },
  {
   "cell_type": "code",
   "execution_count": 55,
   "id": "3ec7b116",
   "metadata": {
    "execution": {
     "iopub.execute_input": "2025-08-26T02:22:08.750050Z",
     "iopub.status.busy": "2025-08-26T02:22:08.749689Z",
     "iopub.status.idle": "2025-08-26T02:22:08.784298Z",
     "shell.execute_reply": "2025-08-26T02:22:08.782415Z"
    },
    "papermill": {
     "duration": 0.065864,
     "end_time": "2025-08-26T02:22:08.787224",
     "exception": false,
     "start_time": "2025-08-26T02:22:08.721360",
     "status": "completed"
    },
    "tags": []
   },
   "outputs": [
    {
     "data": {
      "text/html": [
       "<div>\n",
       "<style scoped>\n",
       "    .dataframe tbody tr th:only-of-type {\n",
       "        vertical-align: middle;\n",
       "    }\n",
       "\n",
       "    .dataframe tbody tr th {\n",
       "        vertical-align: top;\n",
       "    }\n",
       "\n",
       "    .dataframe thead th {\n",
       "        text-align: right;\n",
       "    }\n",
       "</style>\n",
       "<table border=\"1\" class=\"dataframe\">\n",
       "  <thead>\n",
       "    <tr style=\"text-align: right;\">\n",
       "      <th></th>\n",
       "      <th>PassengerId</th>\n",
       "      <th>Survived</th>\n",
       "      <th>Pclass</th>\n",
       "      <th>Name</th>\n",
       "      <th>Sex</th>\n",
       "      <th>Age</th>\n",
       "      <th>SibSp</th>\n",
       "      <th>Parch</th>\n",
       "      <th>Ticket</th>\n",
       "      <th>Fare</th>\n",
       "      <th>...</th>\n",
       "      <th>Age_Cut</th>\n",
       "      <th>Fare_Cut</th>\n",
       "      <th>Title</th>\n",
       "      <th>Name_Length</th>\n",
       "      <th>Name_LenghtGB</th>\n",
       "      <th>Name_Size</th>\n",
       "      <th>TicketNumber</th>\n",
       "      <th>TicketNumberCounts</th>\n",
       "      <th>TicketLocation</th>\n",
       "      <th>Cabin_Assigned</th>\n",
       "    </tr>\n",
       "  </thead>\n",
       "  <tbody>\n",
       "    <tr>\n",
       "      <th>0</th>\n",
       "      <td>1</td>\n",
       "      <td>0</td>\n",
       "      <td>3</td>\n",
       "      <td>Braund, Mr. Owen Harris</td>\n",
       "      <td>male</td>\n",
       "      <td>1.0</td>\n",
       "      <td>1</td>\n",
       "      <td>0</td>\n",
       "      <td>A/5 21171</td>\n",
       "      <td>0.0</td>\n",
       "      <td>...</td>\n",
       "      <td>(19.0, 25.0]</td>\n",
       "      <td>(-0.001, 7.775]</td>\n",
       "      <td>Mr</td>\n",
       "      <td>23</td>\n",
       "      <td>(20.0, 23.0]</td>\n",
       "      <td>1.0</td>\n",
       "      <td>21171</td>\n",
       "      <td>1</td>\n",
       "      <td>A/5</td>\n",
       "      <td>0</td>\n",
       "    </tr>\n",
       "    <tr>\n",
       "      <th>1</th>\n",
       "      <td>2</td>\n",
       "      <td>1</td>\n",
       "      <td>1</td>\n",
       "      <td>Cumings, Mrs. John Bradley (Florence Briggs Th...</td>\n",
       "      <td>female</td>\n",
       "      <td>3.0</td>\n",
       "      <td>1</td>\n",
       "      <td>0</td>\n",
       "      <td>PC 17599</td>\n",
       "      <td>5.0</td>\n",
       "      <td>...</td>\n",
       "      <td>(31.8, 41.0]</td>\n",
       "      <td>(52.369, 512.329]</td>\n",
       "      <td>Mrs</td>\n",
       "      <td>51</td>\n",
       "      <td>(38.0, 82.0]</td>\n",
       "      <td>2.0</td>\n",
       "      <td>17599</td>\n",
       "      <td>1</td>\n",
       "      <td>PC</td>\n",
       "      <td>1</td>\n",
       "    </tr>\n",
       "    <tr>\n",
       "      <th>2</th>\n",
       "      <td>3</td>\n",
       "      <td>1</td>\n",
       "      <td>3</td>\n",
       "      <td>Heikkinen, Miss. Laina</td>\n",
       "      <td>female</td>\n",
       "      <td>2.0</td>\n",
       "      <td>0</td>\n",
       "      <td>0</td>\n",
       "      <td>STON/O2. 3101282</td>\n",
       "      <td>1.0</td>\n",
       "      <td>...</td>\n",
       "      <td>(25.0, 31.8]</td>\n",
       "      <td>(7.775, 8.662]</td>\n",
       "      <td>Miss</td>\n",
       "      <td>22</td>\n",
       "      <td>(20.0, 23.0]</td>\n",
       "      <td>0.0</td>\n",
       "      <td>3101282</td>\n",
       "      <td>1</td>\n",
       "      <td>STON/O2.</td>\n",
       "      <td>0</td>\n",
       "    </tr>\n",
       "    <tr>\n",
       "      <th>3</th>\n",
       "      <td>4</td>\n",
       "      <td>1</td>\n",
       "      <td>1</td>\n",
       "      <td>Futrelle, Mrs. Jacques Heath (Lily May Peel)</td>\n",
       "      <td>female</td>\n",
       "      <td>3.0</td>\n",
       "      <td>1</td>\n",
       "      <td>0</td>\n",
       "      <td>113803</td>\n",
       "      <td>5.0</td>\n",
       "      <td>...</td>\n",
       "      <td>(31.8, 41.0]</td>\n",
       "      <td>(52.369, 512.329]</td>\n",
       "      <td>Mrs</td>\n",
       "      <td>44</td>\n",
       "      <td>(38.0, 82.0]</td>\n",
       "      <td>2.0</td>\n",
       "      <td>113803</td>\n",
       "      <td>2</td>\n",
       "      <td>Blank</td>\n",
       "      <td>1</td>\n",
       "    </tr>\n",
       "    <tr>\n",
       "      <th>4</th>\n",
       "      <td>5</td>\n",
       "      <td>0</td>\n",
       "      <td>3</td>\n",
       "      <td>Allen, Mr. William Henry</td>\n",
       "      <td>male</td>\n",
       "      <td>3.0</td>\n",
       "      <td>0</td>\n",
       "      <td>0</td>\n",
       "      <td>373450</td>\n",
       "      <td>1.0</td>\n",
       "      <td>...</td>\n",
       "      <td>(31.8, 41.0]</td>\n",
       "      <td>(7.775, 8.662]</td>\n",
       "      <td>Mr</td>\n",
       "      <td>24</td>\n",
       "      <td>(23.0, 25.0]</td>\n",
       "      <td>1.0</td>\n",
       "      <td>373450</td>\n",
       "      <td>1</td>\n",
       "      <td>Blank</td>\n",
       "      <td>0</td>\n",
       "    </tr>\n",
       "  </tbody>\n",
       "</table>\n",
       "<p>5 rows × 24 columns</p>\n",
       "</div>"
      ],
      "text/plain": [
       "   PassengerId  Survived  Pclass  \\\n",
       "0            1         0       3   \n",
       "1            2         1       1   \n",
       "2            3         1       3   \n",
       "3            4         1       1   \n",
       "4            5         0       3   \n",
       "\n",
       "                                                Name     Sex  Age  SibSp  \\\n",
       "0                            Braund, Mr. Owen Harris    male  1.0      1   \n",
       "1  Cumings, Mrs. John Bradley (Florence Briggs Th...  female  3.0      1   \n",
       "2                             Heikkinen, Miss. Laina  female  2.0      0   \n",
       "3       Futrelle, Mrs. Jacques Heath (Lily May Peel)  female  3.0      1   \n",
       "4                           Allen, Mr. William Henry    male  3.0      0   \n",
       "\n",
       "   Parch            Ticket  Fare  ...       Age_Cut           Fare_Cut  Title  \\\n",
       "0      0         A/5 21171   0.0  ...  (19.0, 25.0]    (-0.001, 7.775]     Mr   \n",
       "1      0          PC 17599   5.0  ...  (31.8, 41.0]  (52.369, 512.329]    Mrs   \n",
       "2      0  STON/O2. 3101282   1.0  ...  (25.0, 31.8]     (7.775, 8.662]   Miss   \n",
       "3      0            113803   5.0  ...  (31.8, 41.0]  (52.369, 512.329]    Mrs   \n",
       "4      0            373450   1.0  ...  (31.8, 41.0]     (7.775, 8.662]     Mr   \n",
       "\n",
       "  Name_Length Name_LenghtGB Name_Size TicketNumber  TicketNumberCounts  \\\n",
       "0          23  (20.0, 23.0]       1.0        21171                   1   \n",
       "1          51  (38.0, 82.0]       2.0        17599                   1   \n",
       "2          22  (20.0, 23.0]       0.0      3101282                   1   \n",
       "3          44  (38.0, 82.0]       2.0       113803                   2   \n",
       "4          24  (23.0, 25.0]       1.0       373450                   1   \n",
       "\n",
       "  TicketLocation  Cabin_Assigned  \n",
       "0            A/5               0  \n",
       "1             PC               1  \n",
       "2       STON/O2.               0  \n",
       "3          Blank               1  \n",
       "4          Blank               0  \n",
       "\n",
       "[5 rows x 24 columns]"
      ]
     },
     "execution_count": 55,
     "metadata": {},
     "output_type": "execute_result"
    }
   ],
   "source": [
    "train_df.head()"
   ]
  },
  {
   "cell_type": "code",
   "execution_count": 56,
   "id": "c96a129a",
   "metadata": {
    "execution": {
     "iopub.execute_input": "2025-08-26T02:22:08.844848Z",
     "iopub.status.busy": "2025-08-26T02:22:08.843383Z",
     "iopub.status.idle": "2025-08-26T02:22:08.853133Z",
     "shell.execute_reply": "2025-08-26T02:22:08.851266Z"
    },
    "papermill": {
     "duration": 0.042897,
     "end_time": "2025-08-26T02:22:08.856316",
     "exception": false,
     "start_time": "2025-08-26T02:22:08.813419",
     "status": "completed"
    },
    "tags": []
   },
   "outputs": [
    {
     "data": {
      "text/plain": [
       "(891, 24)"
      ]
     },
     "execution_count": 56,
     "metadata": {},
     "output_type": "execute_result"
    }
   ],
   "source": [
    "train_df.shape"
   ]
  },
  {
   "cell_type": "markdown",
   "id": "d9e29ca3",
   "metadata": {
    "papermill": {
     "duration": 0.026004,
     "end_time": "2025-08-26T02:22:08.913306",
     "exception": false,
     "start_time": "2025-08-26T02:22:08.887302",
     "status": "completed"
    },
    "tags": []
   },
   "source": [
    "# 3-Cleaning Nan And PipeLines/Transformers"
   ]
  },
  {
   "cell_type": "markdown",
   "id": "c30f11fe",
   "metadata": {
    "papermill": {
     "duration": 0.026368,
     "end_time": "2025-08-26T02:22:08.965154",
     "exception": false,
     "start_time": "2025-08-26T02:22:08.938786",
     "status": "completed"
    },
    "tags": []
   },
   "source": [
    "### Cleaning Null Values"
   ]
  },
  {
   "cell_type": "code",
   "execution_count": 57,
   "id": "e793f5be",
   "metadata": {
    "execution": {
     "iopub.execute_input": "2025-08-26T02:22:09.023374Z",
     "iopub.status.busy": "2025-08-26T02:22:09.022977Z",
     "iopub.status.idle": "2025-08-26T02:22:09.052668Z",
     "shell.execute_reply": "2025-08-26T02:22:09.050720Z"
    },
    "papermill": {
     "duration": 0.060917,
     "end_time": "2025-08-26T02:22:09.055012",
     "exception": false,
     "start_time": "2025-08-26T02:22:08.994095",
     "status": "completed"
    },
    "tags": []
   },
   "outputs": [
    {
     "name": "stdout",
     "output_type": "stream",
     "text": [
      "<class 'pandas.core.frame.DataFrame'>\n",
      "RangeIndex: 891 entries, 0 to 890\n",
      "Data columns (total 24 columns):\n",
      " #   Column               Non-Null Count  Dtype   \n",
      "---  ------               --------------  -----   \n",
      " 0   PassengerId          891 non-null    int64   \n",
      " 1   Survived             891 non-null    int64   \n",
      " 2   Pclass               891 non-null    int64   \n",
      " 3   Name                 891 non-null    object  \n",
      " 4   Sex                  891 non-null    object  \n",
      " 5   Age                  714 non-null    float64 \n",
      " 6   SibSp                891 non-null    int64   \n",
      " 7   Parch                891 non-null    int64   \n",
      " 8   Ticket               891 non-null    object  \n",
      " 9   Fare                 891 non-null    float64 \n",
      " 10  Cabin                891 non-null    object  \n",
      " 11  Embarked             889 non-null    object  \n",
      " 12  Family_Size          891 non-null    int64   \n",
      " 13  Family_Size_Grouped  891 non-null    object  \n",
      " 14  Age_Cut              714 non-null    category\n",
      " 15  Fare_Cut             891 non-null    category\n",
      " 16  Title                891 non-null    object  \n",
      " 17  Name_Length          891 non-null    int64   \n",
      " 18  Name_LenghtGB        891 non-null    category\n",
      " 19  Name_Size            891 non-null    float64 \n",
      " 20  TicketNumber         891 non-null    object  \n",
      " 21  TicketNumberCounts   891 non-null    int64   \n",
      " 22  TicketLocation       891 non-null    object  \n",
      " 23  Cabin_Assigned       891 non-null    int64   \n",
      "dtypes: category(3), float64(3), int64(9), object(9)\n",
      "memory usage: 149.8+ KB\n"
     ]
    }
   ],
   "source": [
    "train_df.info()"
   ]
  },
  {
   "cell_type": "code",
   "execution_count": 58,
   "id": "19b1a7ba",
   "metadata": {
    "execution": {
     "iopub.execute_input": "2025-08-26T02:22:09.110347Z",
     "iopub.status.busy": "2025-08-26T02:22:09.109964Z",
     "iopub.status.idle": "2025-08-26T02:22:09.131465Z",
     "shell.execute_reply": "2025-08-26T02:22:09.129696Z"
    },
    "papermill": {
     "duration": 0.052109,
     "end_time": "2025-08-26T02:22:09.133466",
     "exception": false,
     "start_time": "2025-08-26T02:22:09.081357",
     "status": "completed"
    },
    "tags": []
   },
   "outputs": [
    {
     "name": "stdout",
     "output_type": "stream",
     "text": [
      "<class 'pandas.core.frame.DataFrame'>\n",
      "RangeIndex: 418 entries, 0 to 417\n",
      "Data columns (total 23 columns):\n",
      " #   Column               Non-Null Count  Dtype   \n",
      "---  ------               --------------  -----   \n",
      " 0   PassengerId          418 non-null    int64   \n",
      " 1   Pclass               418 non-null    int64   \n",
      " 2   Name                 418 non-null    object  \n",
      " 3   Sex                  418 non-null    object  \n",
      " 4   Age                  332 non-null    float64 \n",
      " 5   SibSp                418 non-null    int64   \n",
      " 6   Parch                418 non-null    int64   \n",
      " 7   Ticket               418 non-null    object  \n",
      " 8   Fare                 417 non-null    float64 \n",
      " 9   Cabin                418 non-null    object  \n",
      " 10  Embarked             418 non-null    object  \n",
      " 11  Family_Size          418 non-null    float64 \n",
      " 12  Family_Size_Grouped  418 non-null    object  \n",
      " 13  Age_Cut              332 non-null    category\n",
      " 14  Fare_Cut             417 non-null    category\n",
      " 15  Title                418 non-null    object  \n",
      " 16  Name_Length          418 non-null    int64   \n",
      " 17  Name_LenghtGB        418 non-null    category\n",
      " 18  Name_Size            418 non-null    float64 \n",
      " 19  TicketNumber         418 non-null    object  \n",
      " 20  TicketNumberCounts   418 non-null    int64   \n",
      " 21  TicketLocation       418 non-null    object  \n",
      " 22  Cabin_Assigned       418 non-null    int64   \n",
      "dtypes: category(3), float64(4), int64(7), object(9)\n",
      "memory usage: 67.6+ KB\n"
     ]
    }
   ],
   "source": [
    "test_df.info()"
   ]
  },
  {
   "cell_type": "markdown",
   "id": "350aaa6a",
   "metadata": {
    "papermill": {
     "duration": 0.026325,
     "end_time": "2025-08-26T02:22:09.187697",
     "exception": false,
     "start_time": "2025-08-26T02:22:09.161372",
     "status": "completed"
    },
    "tags": []
   },
   "source": [
    "### Non 891 non-null in Train"
   ]
  },
  {
   "cell_type": "markdown",
   "id": "7197138d",
   "metadata": {
    "papermill": {
     "duration": 0.036135,
     "end_time": "2025-08-26T02:22:09.250160",
     "exception": false,
     "start_time": "2025-08-26T02:22:09.214025",
     "status": "completed"
    },
    "tags": []
   },
   "source": [
    "- Age\n",
    "- Age_Cut\n",
    "- Embarked"
   ]
  },
  {
   "cell_type": "markdown",
   "id": "14a9587b",
   "metadata": {
    "papermill": {
     "duration": 0.024225,
     "end_time": "2025-08-26T02:22:09.301063",
     "exception": false,
     "start_time": "2025-08-26T02:22:09.276838",
     "status": "completed"
    },
    "tags": []
   },
   "source": [
    "### Non 891 non-null in Test"
   ]
  },
  {
   "cell_type": "markdown",
   "id": "160d1f66",
   "metadata": {
    "papermill": {
     "duration": 0.02512,
     "end_time": "2025-08-26T02:22:09.352274",
     "exception": false,
     "start_time": "2025-08-26T02:22:09.327154",
     "status": "completed"
    },
    "tags": []
   },
   "source": [
    "- Age\n",
    "- Age_cut\n",
    "- Fare"
   ]
  },
  {
   "cell_type": "code",
   "execution_count": 59,
   "id": "54f9ae27",
   "metadata": {
    "execution": {
     "iopub.execute_input": "2025-08-26T02:22:09.408546Z",
     "iopub.status.busy": "2025-08-26T02:22:09.407330Z",
     "iopub.status.idle": "2025-08-26T02:22:09.416766Z",
     "shell.execute_reply": "2025-08-26T02:22:09.415366Z"
    },
    "papermill": {
     "duration": 0.039844,
     "end_time": "2025-08-26T02:22:09.419081",
     "exception": false,
     "start_time": "2025-08-26T02:22:09.379237",
     "status": "completed"
    },
    "tags": []
   },
   "outputs": [
    {
     "name": "stderr",
     "output_type": "stream",
     "text": [
      "/tmp/ipykernel_13/2095847801.py:2: FutureWarning: A value is trying to be set on a copy of a DataFrame or Series through chained assignment using an inplace method.\n",
      "The behavior will change in pandas 3.0. This inplace method will never work because the intermediate object on which we are setting values always behaves as a copy.\n",
      "\n",
      "For example, when doing 'df[col].method(value, inplace=True)', try using 'df.method({col: value}, inplace=True)' or df[col] = df[col].method(value) instead, to perform the operation inplace on the original object.\n",
      "\n",
      "\n",
      "  train_df['Age'].fillna(train_df['Age'].mean(), inplace=True)\n",
      "/tmp/ipykernel_13/2095847801.py:3: FutureWarning: A value is trying to be set on a copy of a DataFrame or Series through chained assignment using an inplace method.\n",
      "The behavior will change in pandas 3.0. This inplace method will never work because the intermediate object on which we are setting values always behaves as a copy.\n",
      "\n",
      "For example, when doing 'df[col].method(value, inplace=True)', try using 'df.method({col: value}, inplace=True)' or df[col] = df[col].method(value) instead, to perform the operation inplace on the original object.\n",
      "\n",
      "\n",
      "  test_df['Age'].fillna(test_df['Age'].mean(), inplace=True)\n",
      "/tmp/ipykernel_13/2095847801.py:4: FutureWarning: A value is trying to be set on a copy of a DataFrame or Series through chained assignment using an inplace method.\n",
      "The behavior will change in pandas 3.0. This inplace method will never work because the intermediate object on which we are setting values always behaves as a copy.\n",
      "\n",
      "For example, when doing 'df[col].method(value, inplace=True)', try using 'df.method({col: value}, inplace=True)' or df[col] = df[col].method(value) instead, to perform the operation inplace on the original object.\n",
      "\n",
      "\n",
      "  test_df['Fare'].fillna(test_df['Fare'].mean(), inplace=True)\n"
     ]
    }
   ],
   "source": [
    "## Filling Age NaN Values\n",
    "train_df['Age'].fillna(train_df['Age'].mean(), inplace=True)\n",
    "test_df['Age'].fillna(test_df['Age'].mean(), inplace=True)\n",
    "test_df['Fare'].fillna(test_df['Fare'].mean(), inplace=True)"
   ]
  },
  {
   "cell_type": "markdown",
   "id": "447ece98",
   "metadata": {
    "papermill": {
     "duration": 0.028492,
     "end_time": "2025-08-26T02:22:09.479134",
     "exception": false,
     "start_time": "2025-08-26T02:22:09.450642",
     "status": "completed"
    },
    "tags": []
   },
   "source": [
    "### One Hot Encoders, OrdinalEncoder For Classification Data"
   ]
  },
  {
   "cell_type": "code",
   "execution_count": 60,
   "id": "f6404b41",
   "metadata": {
    "execution": {
     "iopub.execute_input": "2025-08-26T02:22:09.532298Z",
     "iopub.status.busy": "2025-08-26T02:22:09.531640Z",
     "iopub.status.idle": "2025-08-26T02:22:09.538297Z",
     "shell.execute_reply": "2025-08-26T02:22:09.536824Z"
    },
    "papermill": {
     "duration": 0.035292,
     "end_time": "2025-08-26T02:22:09.540556",
     "exception": false,
     "start_time": "2025-08-26T02:22:09.505264",
     "status": "completed"
    },
    "tags": []
   },
   "outputs": [],
   "source": [
    "ohe = OneHotEncoder(sparse_output=False)  # 0(no) or 1(yes)\n",
    "ode = OrdinalEncoder #Encoder from 0 to n, represents one category of something\n",
    "SI = SimpleImputer(strategy ='most_frequent')"
   ]
  },
  {
   "cell_type": "code",
   "execution_count": 61,
   "id": "3f005dd8",
   "metadata": {
    "execution": {
     "iopub.execute_input": "2025-08-26T02:22:09.598508Z",
     "iopub.status.busy": "2025-08-26T02:22:09.598088Z",
     "iopub.status.idle": "2025-08-26T02:22:09.603915Z",
     "shell.execute_reply": "2025-08-26T02:22:09.602436Z"
    },
    "papermill": {
     "duration": 0.03771,
     "end_time": "2025-08-26T02:22:09.606400",
     "exception": false,
     "start_time": "2025-08-26T02:22:09.568690",
     "status": "completed"
    },
    "tags": []
   },
   "outputs": [],
   "source": [
    "ode_cols = ['Family_Size_Grouped']\n",
    "ohe_cols= ['Sex', 'Embarked']"
   ]
  },
  {
   "cell_type": "markdown",
   "id": "c847bc4b",
   "metadata": {
    "papermill": {
     "duration": 0.025827,
     "end_time": "2025-08-26T02:22:09.661661",
     "exception": false,
     "start_time": "2025-08-26T02:22:09.635834",
     "status": "completed"
    },
    "tags": []
   },
   "source": [
    "### Setting X,Y "
   ]
  },
  {
   "cell_type": "code",
   "execution_count": 62,
   "id": "31dadbad",
   "metadata": {
    "execution": {
     "iopub.execute_input": "2025-08-26T02:22:09.716430Z",
     "iopub.status.busy": "2025-08-26T02:22:09.716077Z",
     "iopub.status.idle": "2025-08-26T02:22:09.726027Z",
     "shell.execute_reply": "2025-08-26T02:22:09.724744Z"
    },
    "papermill": {
     "duration": 0.040736,
     "end_time": "2025-08-26T02:22:09.728590",
     "exception": false,
     "start_time": "2025-08-26T02:22:09.687854",
     "status": "completed"
    },
    "tags": []
   },
   "outputs": [],
   "source": [
    "X=train_df.drop(['Survived'], axis=1)\n",
    "y=train_df['Survived']\n",
    "X_test = test_df.drop(['Age_Cut','Fare_Cut'], axis=1)"
   ]
  },
  {
   "cell_type": "code",
   "execution_count": 63,
   "id": "81986fc8",
   "metadata": {
    "execution": {
     "iopub.execute_input": "2025-08-26T02:22:09.803657Z",
     "iopub.status.busy": "2025-08-26T02:22:09.803072Z",
     "iopub.status.idle": "2025-08-26T02:22:09.819561Z",
     "shell.execute_reply": "2025-08-26T02:22:09.817709Z"
    },
    "papermill": {
     "duration": 0.067248,
     "end_time": "2025-08-26T02:22:09.822058",
     "exception": false,
     "start_time": "2025-08-26T02:22:09.754810",
     "status": "completed"
    },
    "tags": []
   },
   "outputs": [],
   "source": [
    "#validation set \n",
    "\"a portion of a dataset that is held back from the training process and is used to provide an unbiased evaluation of a model's performance during the training phase\"\n",
    "X_train, X_valid, y_train, y_valid = train_test_split(X, y, test_size=0.2, stratify = y, random_state=21)"
   ]
  },
  {
   "cell_type": "markdown",
   "id": "b7aa16ef",
   "metadata": {
    "papermill": {
     "duration": 0.02472,
     "end_time": "2025-08-26T02:22:09.885093",
     "exception": false,
     "start_time": "2025-08-26T02:22:09.860373",
     "status": "completed"
    },
    "tags": []
   },
   "source": [
    "### Pipelines"
   ]
  },
  {
   "cell_type": "code",
   "execution_count": 64,
   "id": "8110502c",
   "metadata": {
    "execution": {
     "iopub.execute_input": "2025-08-26T02:22:09.940672Z",
     "iopub.status.busy": "2025-08-26T02:22:09.938348Z",
     "iopub.status.idle": "2025-08-26T02:22:09.946051Z",
     "shell.execute_reply": "2025-08-26T02:22:09.944609Z"
    },
    "papermill": {
     "duration": 0.035999,
     "end_time": "2025-08-26T02:22:09.948385",
     "exception": false,
     "start_time": "2025-08-26T02:22:09.912386",
     "status": "completed"
    },
    "tags": []
   },
   "outputs": [],
   "source": [
    "ordinal_pipeline = Pipeline(steps=[\n",
    "    ('impute', SimpleImputer(strategy='most_frequent')),\n",
    "    ('ord', OrdinalEncoder(handle_unknown='use_encoded_value', unknown_value=-1))\n",
    "])"
   ]
  },
  {
   "cell_type": "code",
   "execution_count": 65,
   "id": "ae81fcc7",
   "metadata": {
    "execution": {
     "iopub.execute_input": "2025-08-26T02:22:10.011006Z",
     "iopub.status.busy": "2025-08-26T02:22:10.010660Z",
     "iopub.status.idle": "2025-08-26T02:22:10.017161Z",
     "shell.execute_reply": "2025-08-26T02:22:10.015577Z"
    },
    "papermill": {
     "duration": 0.040996,
     "end_time": "2025-08-26T02:22:10.019331",
     "exception": false,
     "start_time": "2025-08-26T02:22:09.978335",
     "status": "completed"
    },
    "tags": []
   },
   "outputs": [],
   "source": [
    "ohe_pipeline = Pipeline(steps=[\n",
    "    ('impute', SimpleImputer(strategy='most_frequent')),\n",
    "    ('one-hot', OneHotEncoder(handle_unknown = 'ignore', sparse_output=False))\n",
    "])"
   ]
  },
  {
   "cell_type": "markdown",
   "id": "ff399ced",
   "metadata": {
    "papermill": {
     "duration": 0.028116,
     "end_time": "2025-08-26T02:22:10.076225",
     "exception": false,
     "start_time": "2025-08-26T02:22:10.048109",
     "status": "completed"
    },
    "tags": []
   },
   "source": [
    "### Transformer"
   ]
  },
  {
   "cell_type": "code",
   "execution_count": 66,
   "id": "27339a63",
   "metadata": {
    "execution": {
     "iopub.execute_input": "2025-08-26T02:22:10.132620Z",
     "iopub.status.busy": "2025-08-26T02:22:10.132193Z",
     "iopub.status.idle": "2025-08-26T02:22:10.138921Z",
     "shell.execute_reply": "2025-08-26T02:22:10.137588Z"
    },
    "papermill": {
     "duration": 0.036365,
     "end_time": "2025-08-26T02:22:10.140821",
     "exception": false,
     "start_time": "2025-08-26T02:22:10.104456",
     "status": "completed"
    },
    "tags": []
   },
   "outputs": [],
   "source": [
    "col_trans= ColumnTransformer(transformers=[\n",
    "    ('impute', SI,['Age']),\n",
    "    ('ode_pipeline',ordinal_pipeline, ode_cols),\n",
    "    ('ohe_pipeline',ohe_pipeline, ohe_cols),\n",
    "    ('passthrough', 'passthrough',['Pclass','TicketNumberCounts', 'Cabin_Assigned', 'Name_Size', 'Age'])\n",
    "    ],\n",
    "    remainder='drop',\n",
    "    n_jobs=-1)"
   ]
  },
  {
   "cell_type": "markdown",
   "id": "bb1dd380",
   "metadata": {
    "papermill": {
     "duration": 0.028146,
     "end_time": "2025-08-26T02:22:10.194813",
     "exception": false,
     "start_time": "2025-08-26T02:22:10.166667",
     "status": "completed"
    },
    "tags": []
   },
   "source": [
    "# 4-Model Training \n"
   ]
  },
  {
   "cell_type": "code",
   "execution_count": 67,
   "id": "84ac73a9",
   "metadata": {
    "execution": {
     "iopub.execute_input": "2025-08-26T02:22:10.266742Z",
     "iopub.status.busy": "2025-08-26T02:22:10.265290Z",
     "iopub.status.idle": "2025-08-26T02:22:10.273992Z",
     "shell.execute_reply": "2025-08-26T02:22:10.272592Z"
    },
    "papermill": {
     "duration": 0.048675,
     "end_time": "2025-08-26T02:22:10.276089",
     "exception": false,
     "start_time": "2025-08-26T02:22:10.227414",
     "status": "completed"
    },
    "tags": []
   },
   "outputs": [],
   "source": [
    "#1-Random Forest\n",
    "GBC = GradientBoostingClassifier()\n"
   ]
  },
  {
   "cell_type": "code",
   "execution_count": 68,
   "id": "127bd491",
   "metadata": {
    "execution": {
     "iopub.execute_input": "2025-08-26T02:22:10.337881Z",
     "iopub.status.busy": "2025-08-26T02:22:10.337416Z",
     "iopub.status.idle": "2025-08-26T02:22:10.344911Z",
     "shell.execute_reply": "2025-08-26T02:22:10.342573Z"
    },
    "papermill": {
     "duration": 0.044714,
     "end_time": "2025-08-26T02:22:10.347948",
     "exception": false,
     "start_time": "2025-08-26T02:22:10.303234",
     "status": "completed"
    },
    "tags": []
   },
   "outputs": [],
   "source": [
    "param_grid = {\n",
    "    'n_estimators': [300, 500],      \n",
    "    'learning_rate': [0.1, 0.3],     \n",
    "    'max_depth': [8, 10],            \n",
    "    'min_samples_leaf': [100, 150],  \n",
    "    'max_features': [0.3, 0.5]       \n",
    "}"
   ]
  },
  {
   "cell_type": "code",
   "execution_count": 69,
   "id": "5eaf8c4d",
   "metadata": {
    "execution": {
     "iopub.execute_input": "2025-08-26T02:22:10.405302Z",
     "iopub.status.busy": "2025-08-26T02:22:10.404907Z",
     "iopub.status.idle": "2025-08-26T02:22:10.412620Z",
     "shell.execute_reply": "2025-08-26T02:22:10.410108Z"
    },
    "papermill": {
     "duration": 0.040297,
     "end_time": "2025-08-26T02:22:10.415472",
     "exception": false,
     "start_time": "2025-08-26T02:22:10.375175",
     "status": "completed"
    },
    "tags": []
   },
   "outputs": [],
   "source": [
    "CV_gbc = GridSearchCV(estimator=GBC, param_grid=param_grid, cv=StratifiedKFold(n_splits=5))"
   ]
  },
  {
   "cell_type": "code",
   "execution_count": 70,
   "id": "2381488b",
   "metadata": {
    "execution": {
     "iopub.execute_input": "2025-08-26T02:22:10.468599Z",
     "iopub.status.busy": "2025-08-26T02:22:10.467758Z",
     "iopub.status.idle": "2025-08-26T02:22:59.746393Z",
     "shell.execute_reply": "2025-08-26T02:22:59.745377Z"
    },
    "papermill": {
     "duration": 49.330239,
     "end_time": "2025-08-26T02:22:59.771623",
     "exception": false,
     "start_time": "2025-08-26T02:22:10.441384",
     "status": "completed"
    },
    "tags": []
   },
   "outputs": [
    {
     "data": {
      "text/html": [
       "<style>#sk-container-id-1 {color: black;background-color: white;}#sk-container-id-1 pre{padding: 0;}#sk-container-id-1 div.sk-toggleable {background-color: white;}#sk-container-id-1 label.sk-toggleable__label {cursor: pointer;display: block;width: 100%;margin-bottom: 0;padding: 0.3em;box-sizing: border-box;text-align: center;}#sk-container-id-1 label.sk-toggleable__label-arrow:before {content: \"▸\";float: left;margin-right: 0.25em;color: #696969;}#sk-container-id-1 label.sk-toggleable__label-arrow:hover:before {color: black;}#sk-container-id-1 div.sk-estimator:hover label.sk-toggleable__label-arrow:before {color: black;}#sk-container-id-1 div.sk-toggleable__content {max-height: 0;max-width: 0;overflow: hidden;text-align: left;background-color: #f0f8ff;}#sk-container-id-1 div.sk-toggleable__content pre {margin: 0.2em;color: black;border-radius: 0.25em;background-color: #f0f8ff;}#sk-container-id-1 input.sk-toggleable__control:checked~div.sk-toggleable__content {max-height: 200px;max-width: 100%;overflow: auto;}#sk-container-id-1 input.sk-toggleable__control:checked~label.sk-toggleable__label-arrow:before {content: \"▾\";}#sk-container-id-1 div.sk-estimator input.sk-toggleable__control:checked~label.sk-toggleable__label {background-color: #d4ebff;}#sk-container-id-1 div.sk-label input.sk-toggleable__control:checked~label.sk-toggleable__label {background-color: #d4ebff;}#sk-container-id-1 input.sk-hidden--visually {border: 0;clip: rect(1px 1px 1px 1px);clip: rect(1px, 1px, 1px, 1px);height: 1px;margin: -1px;overflow: hidden;padding: 0;position: absolute;width: 1px;}#sk-container-id-1 div.sk-estimator {font-family: monospace;background-color: #f0f8ff;border: 1px dotted black;border-radius: 0.25em;box-sizing: border-box;margin-bottom: 0.5em;}#sk-container-id-1 div.sk-estimator:hover {background-color: #d4ebff;}#sk-container-id-1 div.sk-parallel-item::after {content: \"\";width: 100%;border-bottom: 1px solid gray;flex-grow: 1;}#sk-container-id-1 div.sk-label:hover label.sk-toggleable__label {background-color: #d4ebff;}#sk-container-id-1 div.sk-serial::before {content: \"\";position: absolute;border-left: 1px solid gray;box-sizing: border-box;top: 0;bottom: 0;left: 50%;z-index: 0;}#sk-container-id-1 div.sk-serial {display: flex;flex-direction: column;align-items: center;background-color: white;padding-right: 0.2em;padding-left: 0.2em;position: relative;}#sk-container-id-1 div.sk-item {position: relative;z-index: 1;}#sk-container-id-1 div.sk-parallel {display: flex;align-items: stretch;justify-content: center;background-color: white;position: relative;}#sk-container-id-1 div.sk-item::before, #sk-container-id-1 div.sk-parallel-item::before {content: \"\";position: absolute;border-left: 1px solid gray;box-sizing: border-box;top: 0;bottom: 0;left: 50%;z-index: -1;}#sk-container-id-1 div.sk-parallel-item {display: flex;flex-direction: column;z-index: 1;position: relative;background-color: white;}#sk-container-id-1 div.sk-parallel-item:first-child::after {align-self: flex-end;width: 50%;}#sk-container-id-1 div.sk-parallel-item:last-child::after {align-self: flex-start;width: 50%;}#sk-container-id-1 div.sk-parallel-item:only-child::after {width: 0;}#sk-container-id-1 div.sk-dashed-wrapped {border: 1px dashed gray;margin: 0 0.4em 0.5em 0.4em;box-sizing: border-box;padding-bottom: 0.4em;background-color: white;}#sk-container-id-1 div.sk-label label {font-family: monospace;font-weight: bold;display: inline-block;line-height: 1.2em;}#sk-container-id-1 div.sk-label-container {text-align: center;}#sk-container-id-1 div.sk-container {/* jupyter's `normalize.less` sets `[hidden] { display: none; }` but bootstrap.min.css set `[hidden] { display: none !important; }` so we also need the `!important` here to be able to override the default hidden behavior on the sphinx rendered scikit-learn.org. See: https://github.com/scikit-learn/scikit-learn/issues/21755 */display: inline-block !important;position: relative;}#sk-container-id-1 div.sk-text-repr-fallback {display: none;}</style><div id=\"sk-container-id-1\" class=\"sk-top-container\"><div class=\"sk-text-repr-fallback\"><pre>Pipeline(steps=[(&#x27;columntransformer&#x27;,\n",
       "                 ColumnTransformer(n_jobs=-1,\n",
       "                                   transformers=[(&#x27;impute&#x27;,\n",
       "                                                  SimpleImputer(strategy=&#x27;most_frequent&#x27;),\n",
       "                                                  [&#x27;Age&#x27;]),\n",
       "                                                 (&#x27;ode_pipeline&#x27;,\n",
       "                                                  Pipeline(steps=[(&#x27;impute&#x27;,\n",
       "                                                                   SimpleImputer(strategy=&#x27;most_frequent&#x27;)),\n",
       "                                                                  (&#x27;ord&#x27;,\n",
       "                                                                   OrdinalEncoder(handle_unknown=&#x27;use_encoded_value&#x27;,\n",
       "                                                                                  unknown_value=-1))]),\n",
       "                                                  [&#x27;Family_Size_Grouped&#x27;]),\n",
       "                                                 (&#x27;ohe_pipeline&#x27;,\n",
       "                                                  Pipeline(s...\n",
       "                                                 (&#x27;passthrough&#x27;, &#x27;passthrough&#x27;,\n",
       "                                                  [&#x27;Pclass&#x27;,\n",
       "                                                   &#x27;TicketNumberCounts&#x27;,\n",
       "                                                   &#x27;Cabin_Assigned&#x27;,\n",
       "                                                   &#x27;Name_Size&#x27;, &#x27;Age&#x27;])])),\n",
       "                (&#x27;gridsearchcv&#x27;,\n",
       "                 GridSearchCV(cv=StratifiedKFold(n_splits=5, random_state=None, shuffle=False),\n",
       "                              estimator=GradientBoostingClassifier(),\n",
       "                              param_grid={&#x27;learning_rate&#x27;: [0.1, 0.3],\n",
       "                                          &#x27;max_depth&#x27;: [8, 10],\n",
       "                                          &#x27;max_features&#x27;: [0.3, 0.5],\n",
       "                                          &#x27;min_samples_leaf&#x27;: [100, 150],\n",
       "                                          &#x27;n_estimators&#x27;: [300, 500]}))])</pre><b>In a Jupyter environment, please rerun this cell to show the HTML representation or trust the notebook. <br />On GitHub, the HTML representation is unable to render, please try loading this page with nbviewer.org.</b></div><div class=\"sk-container\" hidden><div class=\"sk-item sk-dashed-wrapped\"><div class=\"sk-label-container\"><div class=\"sk-label sk-toggleable\"><input class=\"sk-toggleable__control sk-hidden--visually\" id=\"sk-estimator-id-1\" type=\"checkbox\" ><label for=\"sk-estimator-id-1\" class=\"sk-toggleable__label sk-toggleable__label-arrow\">Pipeline</label><div class=\"sk-toggleable__content\"><pre>Pipeline(steps=[(&#x27;columntransformer&#x27;,\n",
       "                 ColumnTransformer(n_jobs=-1,\n",
       "                                   transformers=[(&#x27;impute&#x27;,\n",
       "                                                  SimpleImputer(strategy=&#x27;most_frequent&#x27;),\n",
       "                                                  [&#x27;Age&#x27;]),\n",
       "                                                 (&#x27;ode_pipeline&#x27;,\n",
       "                                                  Pipeline(steps=[(&#x27;impute&#x27;,\n",
       "                                                                   SimpleImputer(strategy=&#x27;most_frequent&#x27;)),\n",
       "                                                                  (&#x27;ord&#x27;,\n",
       "                                                                   OrdinalEncoder(handle_unknown=&#x27;use_encoded_value&#x27;,\n",
       "                                                                                  unknown_value=-1))]),\n",
       "                                                  [&#x27;Family_Size_Grouped&#x27;]),\n",
       "                                                 (&#x27;ohe_pipeline&#x27;,\n",
       "                                                  Pipeline(s...\n",
       "                                                 (&#x27;passthrough&#x27;, &#x27;passthrough&#x27;,\n",
       "                                                  [&#x27;Pclass&#x27;,\n",
       "                                                   &#x27;TicketNumberCounts&#x27;,\n",
       "                                                   &#x27;Cabin_Assigned&#x27;,\n",
       "                                                   &#x27;Name_Size&#x27;, &#x27;Age&#x27;])])),\n",
       "                (&#x27;gridsearchcv&#x27;,\n",
       "                 GridSearchCV(cv=StratifiedKFold(n_splits=5, random_state=None, shuffle=False),\n",
       "                              estimator=GradientBoostingClassifier(),\n",
       "                              param_grid={&#x27;learning_rate&#x27;: [0.1, 0.3],\n",
       "                                          &#x27;max_depth&#x27;: [8, 10],\n",
       "                                          &#x27;max_features&#x27;: [0.3, 0.5],\n",
       "                                          &#x27;min_samples_leaf&#x27;: [100, 150],\n",
       "                                          &#x27;n_estimators&#x27;: [300, 500]}))])</pre></div></div></div><div class=\"sk-serial\"><div class=\"sk-item sk-dashed-wrapped\"><div class=\"sk-label-container\"><div class=\"sk-label sk-toggleable\"><input class=\"sk-toggleable__control sk-hidden--visually\" id=\"sk-estimator-id-2\" type=\"checkbox\" ><label for=\"sk-estimator-id-2\" class=\"sk-toggleable__label sk-toggleable__label-arrow\">columntransformer: ColumnTransformer</label><div class=\"sk-toggleable__content\"><pre>ColumnTransformer(n_jobs=-1,\n",
       "                  transformers=[(&#x27;impute&#x27;,\n",
       "                                 SimpleImputer(strategy=&#x27;most_frequent&#x27;),\n",
       "                                 [&#x27;Age&#x27;]),\n",
       "                                (&#x27;ode_pipeline&#x27;,\n",
       "                                 Pipeline(steps=[(&#x27;impute&#x27;,\n",
       "                                                  SimpleImputer(strategy=&#x27;most_frequent&#x27;)),\n",
       "                                                 (&#x27;ord&#x27;,\n",
       "                                                  OrdinalEncoder(handle_unknown=&#x27;use_encoded_value&#x27;,\n",
       "                                                                 unknown_value=-1))]),\n",
       "                                 [&#x27;Family_Size_Grouped&#x27;]),\n",
       "                                (&#x27;ohe_pipeline&#x27;,\n",
       "                                 Pipeline(steps=[(&#x27;impute&#x27;,\n",
       "                                                  SimpleImputer(strategy=&#x27;most_frequent&#x27;)),\n",
       "                                                 (&#x27;one-hot&#x27;,\n",
       "                                                  OneHotEncoder(handle_unknown=&#x27;ignore&#x27;,\n",
       "                                                                sparse_output=False))]),\n",
       "                                 [&#x27;Sex&#x27;, &#x27;Embarked&#x27;]),\n",
       "                                (&#x27;passthrough&#x27;, &#x27;passthrough&#x27;,\n",
       "                                 [&#x27;Pclass&#x27;, &#x27;TicketNumberCounts&#x27;,\n",
       "                                  &#x27;Cabin_Assigned&#x27;, &#x27;Name_Size&#x27;, &#x27;Age&#x27;])])</pre></div></div></div><div class=\"sk-parallel\"><div class=\"sk-parallel-item\"><div class=\"sk-item\"><div class=\"sk-label-container\"><div class=\"sk-label sk-toggleable\"><input class=\"sk-toggleable__control sk-hidden--visually\" id=\"sk-estimator-id-3\" type=\"checkbox\" ><label for=\"sk-estimator-id-3\" class=\"sk-toggleable__label sk-toggleable__label-arrow\">impute</label><div class=\"sk-toggleable__content\"><pre>[&#x27;Age&#x27;]</pre></div></div></div><div class=\"sk-serial\"><div class=\"sk-item\"><div class=\"sk-estimator sk-toggleable\"><input class=\"sk-toggleable__control sk-hidden--visually\" id=\"sk-estimator-id-4\" type=\"checkbox\" ><label for=\"sk-estimator-id-4\" class=\"sk-toggleable__label sk-toggleable__label-arrow\">SimpleImputer</label><div class=\"sk-toggleable__content\"><pre>SimpleImputer(strategy=&#x27;most_frequent&#x27;)</pre></div></div></div></div></div></div><div class=\"sk-parallel-item\"><div class=\"sk-item\"><div class=\"sk-label-container\"><div class=\"sk-label sk-toggleable\"><input class=\"sk-toggleable__control sk-hidden--visually\" id=\"sk-estimator-id-5\" type=\"checkbox\" ><label for=\"sk-estimator-id-5\" class=\"sk-toggleable__label sk-toggleable__label-arrow\">ode_pipeline</label><div class=\"sk-toggleable__content\"><pre>[&#x27;Family_Size_Grouped&#x27;]</pre></div></div></div><div class=\"sk-serial\"><div class=\"sk-item\"><div class=\"sk-serial\"><div class=\"sk-item\"><div class=\"sk-estimator sk-toggleable\"><input class=\"sk-toggleable__control sk-hidden--visually\" id=\"sk-estimator-id-6\" type=\"checkbox\" ><label for=\"sk-estimator-id-6\" class=\"sk-toggleable__label sk-toggleable__label-arrow\">SimpleImputer</label><div class=\"sk-toggleable__content\"><pre>SimpleImputer(strategy=&#x27;most_frequent&#x27;)</pre></div></div></div><div class=\"sk-item\"><div class=\"sk-estimator sk-toggleable\"><input class=\"sk-toggleable__control sk-hidden--visually\" id=\"sk-estimator-id-7\" type=\"checkbox\" ><label for=\"sk-estimator-id-7\" class=\"sk-toggleable__label sk-toggleable__label-arrow\">OrdinalEncoder</label><div class=\"sk-toggleable__content\"><pre>OrdinalEncoder(handle_unknown=&#x27;use_encoded_value&#x27;, unknown_value=-1)</pre></div></div></div></div></div></div></div></div><div class=\"sk-parallel-item\"><div class=\"sk-item\"><div class=\"sk-label-container\"><div class=\"sk-label sk-toggleable\"><input class=\"sk-toggleable__control sk-hidden--visually\" id=\"sk-estimator-id-8\" type=\"checkbox\" ><label for=\"sk-estimator-id-8\" class=\"sk-toggleable__label sk-toggleable__label-arrow\">ohe_pipeline</label><div class=\"sk-toggleable__content\"><pre>[&#x27;Sex&#x27;, &#x27;Embarked&#x27;]</pre></div></div></div><div class=\"sk-serial\"><div class=\"sk-item\"><div class=\"sk-serial\"><div class=\"sk-item\"><div class=\"sk-estimator sk-toggleable\"><input class=\"sk-toggleable__control sk-hidden--visually\" id=\"sk-estimator-id-9\" type=\"checkbox\" ><label for=\"sk-estimator-id-9\" class=\"sk-toggleable__label sk-toggleable__label-arrow\">SimpleImputer</label><div class=\"sk-toggleable__content\"><pre>SimpleImputer(strategy=&#x27;most_frequent&#x27;)</pre></div></div></div><div class=\"sk-item\"><div class=\"sk-estimator sk-toggleable\"><input class=\"sk-toggleable__control sk-hidden--visually\" id=\"sk-estimator-id-10\" type=\"checkbox\" ><label for=\"sk-estimator-id-10\" class=\"sk-toggleable__label sk-toggleable__label-arrow\">OneHotEncoder</label><div class=\"sk-toggleable__content\"><pre>OneHotEncoder(handle_unknown=&#x27;ignore&#x27;, sparse_output=False)</pre></div></div></div></div></div></div></div></div><div class=\"sk-parallel-item\"><div class=\"sk-item\"><div class=\"sk-label-container\"><div class=\"sk-label sk-toggleable\"><input class=\"sk-toggleable__control sk-hidden--visually\" id=\"sk-estimator-id-11\" type=\"checkbox\" ><label for=\"sk-estimator-id-11\" class=\"sk-toggleable__label sk-toggleable__label-arrow\">passthrough</label><div class=\"sk-toggleable__content\"><pre>[&#x27;Pclass&#x27;, &#x27;TicketNumberCounts&#x27;, &#x27;Cabin_Assigned&#x27;, &#x27;Name_Size&#x27;, &#x27;Age&#x27;]</pre></div></div></div><div class=\"sk-serial\"><div class=\"sk-item\"><div class=\"sk-estimator sk-toggleable\"><input class=\"sk-toggleable__control sk-hidden--visually\" id=\"sk-estimator-id-12\" type=\"checkbox\" ><label for=\"sk-estimator-id-12\" class=\"sk-toggleable__label sk-toggleable__label-arrow\">passthrough</label><div class=\"sk-toggleable__content\"><pre>passthrough</pre></div></div></div></div></div></div></div></div><div class=\"sk-item sk-dashed-wrapped\"><div class=\"sk-label-container\"><div class=\"sk-label sk-toggleable\"><input class=\"sk-toggleable__control sk-hidden--visually\" id=\"sk-estimator-id-13\" type=\"checkbox\" ><label for=\"sk-estimator-id-13\" class=\"sk-toggleable__label sk-toggleable__label-arrow\">gridsearchcv: GridSearchCV</label><div class=\"sk-toggleable__content\"><pre>GridSearchCV(cv=StratifiedKFold(n_splits=5, random_state=None, shuffle=False),\n",
       "             estimator=GradientBoostingClassifier(),\n",
       "             param_grid={&#x27;learning_rate&#x27;: [0.1, 0.3], &#x27;max_depth&#x27;: [8, 10],\n",
       "                         &#x27;max_features&#x27;: [0.3, 0.5],\n",
       "                         &#x27;min_samples_leaf&#x27;: [100, 150],\n",
       "                         &#x27;n_estimators&#x27;: [300, 500]})</pre></div></div></div><div class=\"sk-parallel\"><div class=\"sk-parallel-item\"><div class=\"sk-item\"><div class=\"sk-label-container\"><div class=\"sk-label sk-toggleable\"><input class=\"sk-toggleable__control sk-hidden--visually\" id=\"sk-estimator-id-14\" type=\"checkbox\" ><label for=\"sk-estimator-id-14\" class=\"sk-toggleable__label sk-toggleable__label-arrow\">estimator: GradientBoostingClassifier</label><div class=\"sk-toggleable__content\"><pre>GradientBoostingClassifier()</pre></div></div></div><div class=\"sk-serial\"><div class=\"sk-item\"><div class=\"sk-estimator sk-toggleable\"><input class=\"sk-toggleable__control sk-hidden--visually\" id=\"sk-estimator-id-15\" type=\"checkbox\" ><label for=\"sk-estimator-id-15\" class=\"sk-toggleable__label sk-toggleable__label-arrow\">GradientBoostingClassifier</label><div class=\"sk-toggleable__content\"><pre>GradientBoostingClassifier()</pre></div></div></div></div></div></div></div></div></div></div></div></div>"
      ],
      "text/plain": [
       "Pipeline(steps=[('columntransformer',\n",
       "                 ColumnTransformer(n_jobs=-1,\n",
       "                                   transformers=[('impute',\n",
       "                                                  SimpleImputer(strategy='most_frequent'),\n",
       "                                                  ['Age']),\n",
       "                                                 ('ode_pipeline',\n",
       "                                                  Pipeline(steps=[('impute',\n",
       "                                                                   SimpleImputer(strategy='most_frequent')),\n",
       "                                                                  ('ord',\n",
       "                                                                   OrdinalEncoder(handle_unknown='use_encoded_value',\n",
       "                                                                                  unknown_value=-1))]),\n",
       "                                                  ['Family_Size_Grouped']),\n",
       "                                                 ('ohe_pipeline',\n",
       "                                                  Pipeline(s...\n",
       "                                                 ('passthrough', 'passthrough',\n",
       "                                                  ['Pclass',\n",
       "                                                   'TicketNumberCounts',\n",
       "                                                   'Cabin_Assigned',\n",
       "                                                   'Name_Size', 'Age'])])),\n",
       "                ('gridsearchcv',\n",
       "                 GridSearchCV(cv=StratifiedKFold(n_splits=5, random_state=None, shuffle=False),\n",
       "                              estimator=GradientBoostingClassifier(),\n",
       "                              param_grid={'learning_rate': [0.1, 0.3],\n",
       "                                          'max_depth': [8, 10],\n",
       "                                          'max_features': [0.3, 0.5],\n",
       "                                          'min_samples_leaf': [100, 150],\n",
       "                                          'n_estimators': [300, 500]}))])"
      ]
     },
     "execution_count": 70,
     "metadata": {},
     "output_type": "execute_result"
    }
   ],
   "source": [
    "pipefinalgbc= make_pipeline(col_trans, CV_gbc)\n",
    "pipefinalgbc.fit(X_train, y_train)"
   ]
  },
  {
   "cell_type": "code",
   "execution_count": 71,
   "id": "da5e9fc4",
   "metadata": {
    "execution": {
     "iopub.execute_input": "2025-08-26T02:22:59.821067Z",
     "iopub.status.busy": "2025-08-26T02:22:59.820773Z",
     "iopub.status.idle": "2025-08-26T02:22:59.826261Z",
     "shell.execute_reply": "2025-08-26T02:22:59.825125Z"
    },
    "papermill": {
     "duration": 0.032237,
     "end_time": "2025-08-26T02:22:59.827984",
     "exception": false,
     "start_time": "2025-08-26T02:22:59.795747",
     "status": "completed"
    },
    "tags": []
   },
   "outputs": [
    {
     "name": "stdout",
     "output_type": "stream",
     "text": [
      "{'learning_rate': 0.1, 'max_depth': 8, 'max_features': 0.3, 'min_samples_leaf': 100, 'n_estimators': 500}\n",
      "0.8132571653698415\n"
     ]
    }
   ],
   "source": [
    "print(CV_gbc.best_params_)\n",
    "print(CV_gbc.best_score_)"
   ]
  },
  {
   "cell_type": "markdown",
   "id": "1f98209a",
   "metadata": {
    "papermill": {
     "duration": 0.023893,
     "end_time": "2025-08-26T02:22:59.876698",
     "exception": false,
     "start_time": "2025-08-26T02:22:59.852805",
     "status": "completed"
    },
    "tags": []
   },
   "source": [
    "# 5-Send to kaggle"
   ]
  },
  {
   "cell_type": "code",
   "execution_count": 72,
   "id": "dfd62a66",
   "metadata": {
    "execution": {
     "iopub.execute_input": "2025-08-26T02:22:59.926532Z",
     "iopub.status.busy": "2025-08-26T02:22:59.926174Z",
     "iopub.status.idle": "2025-08-26T02:23:00.013428Z",
     "shell.execute_reply": "2025-08-26T02:23:00.012173Z"
    },
    "papermill": {
     "duration": 0.114115,
     "end_time": "2025-08-26T02:23:00.015224",
     "exception": false,
     "start_time": "2025-08-26T02:22:59.901109",
     "status": "completed"
    },
    "tags": []
   },
   "outputs": [],
   "source": [
    "Y_pred=pipefinalgbc.predict(X_test)"
   ]
  },
  {
   "cell_type": "code",
   "execution_count": 73,
   "id": "42f43c4a",
   "metadata": {
    "execution": {
     "iopub.execute_input": "2025-08-26T02:23:00.066561Z",
     "iopub.status.busy": "2025-08-26T02:23:00.066183Z",
     "iopub.status.idle": "2025-08-26T02:23:00.077940Z",
     "shell.execute_reply": "2025-08-26T02:23:00.077027Z"
    },
    "papermill": {
     "duration": 0.040133,
     "end_time": "2025-08-26T02:23:00.079736",
     "exception": false,
     "start_time": "2025-08-26T02:23:00.039603",
     "status": "completed"
    },
    "tags": []
   },
   "outputs": [],
   "source": [
    "submission = pd.DataFrame({\n",
    "    'PassengerId': test_df['PassengerId'],\n",
    "    'Survived': Y_pred\n",
    "})\n",
    "submission.to_csv('/kaggle/working/submission.csv', index= False )"
   ]
  }
 ],
 "metadata": {
  "kaggle": {
   "accelerator": "none",
   "dataSources": [
    {
     "databundleVersionId": 26502,
     "sourceId": 3136,
     "sourceType": "competition"
    }
   ],
   "dockerImageVersionId": 31089,
   "isGpuEnabled": false,
   "isInternetEnabled": false,
   "language": "python",
   "sourceType": "notebook"
  },
  "kernelspec": {
   "display_name": "Python 3",
   "language": "python",
   "name": "python3"
  },
  "language_info": {
   "codemirror_mode": {
    "name": "ipython",
    "version": 3
   },
   "file_extension": ".py",
   "mimetype": "text/x-python",
   "name": "python",
   "nbconvert_exporter": "python",
   "pygments_lexer": "ipython3",
   "version": "3.11.13"
  },
  "papermill": {
   "default_parameters": {},
   "duration": 78.636749,
   "end_time": "2025-08-26T02:23:02.726304",
   "environment_variables": {},
   "exception": null,
   "input_path": "__notebook__.ipynb",
   "output_path": "__notebook__.ipynb",
   "parameters": {},
   "start_time": "2025-08-26T02:21:44.089555",
   "version": "2.6.0"
  }
 },
 "nbformat": 4,
 "nbformat_minor": 5
}
